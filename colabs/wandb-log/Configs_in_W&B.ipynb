{
 "cells": [
  {
   "cell_type": "markdown",
   "metadata": {
    "colab_type": "text",
    "id": "view-in-github"
   },
   "source": [
    "<a href=\"https://colab.research.google.com/github/jaewook94/wandb/blob/main/colabs/wandb-log/Configs_in_W%26B.ipynb\" target=\"_parent\"><img src=\"https://colab.research.google.com/assets/colab-badge.svg\" alt=\"Open In Colab\"/></a>"
   ]
  },
  {
   "cell_type": "markdown",
   "metadata": {
    "id": "Cqxi2Z6RIpkx"
   },
   "source": [
    "<img src=\"https://i.imgur.com/gb6B4ig.png\" width=\"400\" alt=\"Weights & Biases\" />\n",
    "\n",
    "# Quickstart\n",
    "Use Weights & Biases for machine learning experiment tracking, dataset versioning, and project collaboration.\n",
    "\n",
    "<div><img /></div>\n",
    "\n",
    "<img src=\"https://i.imgur.com/uEtWSEb.png\" width=\"650\" alt=\"Weights & Biases\" />\n",
    "\n",
    "<div><img /></div>\n"
   ]
  },
  {
   "cell_type": "markdown",
   "metadata": {
    "id": "Wuqopqiscc3b"
   },
   "source": [
    "To get started, just `pip install` the package and `login` from the command line.\n",
    "\n",
    "If this is your first time using `wandb`, you'll need to sign up. It's easy!"
   ]
  },
  {
   "cell_type": "code",
   "execution_count": null,
   "metadata": {
    "id": "UnR7s89nc7Iz"
   },
   "outputs": [],
   "source": [
    "!pip install wandb\n",
    "!wandb login"
   ]
  },
  {
   "cell_type": "markdown",
   "metadata": {
    "id": "iIQGr0SCjyia"
   },
   "source": [
    "\n",
    "# What's a `config` for?\n",
    "\n",
    "Set `wandb.config` once at the beginning of your script to save your training configuration: hyperparameters, input settings like dataset name or model type, and any other independent variables for your experiments.\n"
   ]
  },
  {
   "cell_type": "markdown",
   "metadata": {
    "id": "MyRWg-M8jz_2"
   },
   "source": [
    "\n",
    "### Why does that matter?\n",
    "\n",
    "This is useful for analyzing your experiments and reproducing your work in the future. You'll be able to group by `config` values in our web interface, comparing the settings of different runs and seeing how these affect the output. Note that output metrics or dependent variables (like loss and accuracy) should be saved with `wandb.log` instead.\n"
   ]
  },
  {
   "cell_type": "markdown",
   "metadata": {
    "id": "LThZmY2Nbxq2"
   },
   "source": [
    "# How do I set up a `config`?"
   ]
  },
  {
   "cell_type": "markdown",
   "metadata": {
    "id": "eVyB7lsaj0wP"
   },
   "source": [
    "Your `config` should be set just once at the beginning of your training experiment.\n",
    "\n",
    "But workflows differ, so we offer a number of ways to set up your config. Let's look at all the ways you can create and send the config dictionary to the Dashboard!"
   ]
  },
  {
   "cell_type": "markdown",
   "metadata": {
    "id": "uxblpIXceUbm"
   },
   "source": [
    "## Setting the `config` at `init`ialization\n",
    "\n",
    "The best time to set the `config` values is when you call `wandb.init`,\n",
    "by passing a dictionary as the `config` keyword argument."
   ]
  },
  {
   "cell_type": "code",
   "execution_count": 1,
   "metadata": {
    "id": "dvUJ4dc3bs3e"
   },
   "outputs": [
    {
     "name": "stderr",
     "output_type": "stream",
     "text": [
      "\u001b[34m\u001b[1mwandb\u001b[0m: Currently logged in as: \u001b[33mjaewooklee\u001b[0m (use `wandb login --relogin` to force relogin)\n"
     ]
    },
    {
     "data": {
      "text/html": [
       "\n",
       "                Tracking run with wandb version 0.11.0<br/>\n",
       "                Syncing run <strong style=\"color:#cdcd00\">youthful-wood-2</strong> to <a href=\"https://wandb.ai\" target=\"_blank\">Weights & Biases</a> <a href=\"https://docs.wandb.com/integrations/jupyter.html\" target=\"_blank\">(Documentation)</a>.<br/>\n",
       "                Project page: <a href=\"https://wandb.ai/jaewooklee/config_example\" target=\"_blank\">https://wandb.ai/jaewooklee/config_example</a><br/>\n",
       "                Run page: <a href=\"https://wandb.ai/jaewooklee/config_example/runs/1tfmfx8p\" target=\"_blank\">https://wandb.ai/jaewooklee/config_example/runs/1tfmfx8p</a><br/>\n",
       "                Run data is saved locally in <code>C:\\git\\wandb\\colabs\\wandb-log\\wandb\\run-20210729_164333-1tfmfx8p</code><br/><br/>\n",
       "            "
      ],
      "text/plain": [
       "<IPython.core.display.HTML object>"
      ]
     },
     "metadata": {},
     "output_type": "display_data"
    }
   ],
   "source": [
    "import wandb\n",
    "\n",
    "wandb.init(project= \"config_example\",\n",
    "           config = {\"dataset\":\"celeba\", \"type\":\"baseline\"});"
   ]
  },
  {
   "cell_type": "markdown",
   "metadata": {
    "id": "uVX_JHaNgu97"
   },
   "source": [
    "Head to the Run page linked in the output of `wandb.init`\n",
    "and head to the Overview tab (top of the list of panels on the left-most side of the screen).\n",
    "You'll see a \"Config\" section looks like this:\n",
    "\n",
    "![Imgur](https://i.imgur.com/HTswsKC.png)\n"
   ]
  },
  {
   "cell_type": "markdown",
   "metadata": {
    "id": "qMOCRCIAllWJ"
   },
   "source": [
    "You give us a (possibly nested) dictionary as your `config`, and we'll flatten the names using dots in our backend.\n",
    "\n",
    "> _Side Note_: We recommend that you avoid using dots in your config variable names, and use a dash or underscore instead. Once you've created your `config` dictionary, if your script accesses `wandb.config` keys below the root, use the dictionary access syntax, `[\"key\"][\"foo\"]`, instead of the attribute access syntax, `config.key.foo`."
   ]
  },
  {
   "cell_type": "markdown",
   "metadata": {
    "id": "tXew3iureWf6"
   },
   "source": [
    "\n",
    " ## Adding to the `config` by hand\n",
    "You can add more parameters to the `config` later if you want:\n",
    "\n",
    "\n"
   ]
  },
  {
   "cell_type": "code",
   "execution_count": 3,
   "metadata": {
    "id": "iFaGsptoek96"
   },
   "outputs": [],
   "source": [
    "wandb.config.epochs = 4\n",
    "wandb.config[\"batch_size\"] = 32"
   ]
  },
  {
   "cell_type": "markdown",
   "metadata": {
    "id": "N5pyKjIKjh4g"
   },
   "source": [
    "Now, your Config section on the dashboard has been updated:\n",
    "\n",
    "![Imgur](https://i.imgur.com/Q7rB8GV.png?2)"
   ]
  },
  {
   "cell_type": "markdown",
   "metadata": {
    "id": "PedDvMuBklPq"
   },
   "source": [
    "## Adding to the `config` with `argparse`\n",
    "\n",
    "`config` is a dictionary-like object, and it can be built from lots of dictionary-like objects.\n",
    "\n",
    "For example, you can pass in the arguments object produced by `argparse`.\n",
    "[`argparse`](https://docs.python.org/3/library/argparse.html), short for `arg`ument `parse`r, is a standard library module in Python 3.2 and above that makes it easy to write scripts that take advantage of all the flexibility and power of command line arguments. And it's Pythonic!\n",
    "\n",
    "This is convenient for tracking results from scripts that are launched from the command line."
   ]
  },
  {
   "cell_type": "code",
   "execution_count": 4,
   "metadata": {
    "id": "xFf3zjBSixC1"
   },
   "outputs": [],
   "source": [
    "import argparse\n",
    "\n",
    "parser = argparse.ArgumentParser()\n",
    "parser.add_argument('-b', '--batch_per_gpu', type=int, default=8,\n",
    "                    help='input batch size for training (default: 8)')\n",
    "parser.add_argument('-wd', '--weight_decay', type=float, default=0.1,\n",
    "                    help='weight decay (default: 0.1)')\n",
    "\n",
    "args = parser.parse_args(args=[])\n",
    "wandb.config.update(args)"
   ]
  },
  {
   "cell_type": "code",
   "execution_count": 6,
   "metadata": {
    "scrolled": true
   },
   "outputs": [
    {
     "name": "stdout",
     "output_type": "stream",
     "text": [
      "8\n",
      "0.1\n"
     ]
    }
   ],
   "source": [
    "print(args.batch_per_gpu)\n",
    "print(args.weight_decay)"
   ]
  },
  {
   "cell_type": "markdown",
   "metadata": {
    "id": "J75VvsbUpce0"
   },
   "source": [
    "Here's the updated Config panel:\n",
    "\n",
    "![Imgur](https://i.imgur.com/QIJVohe.png?1)"
   ]
  },
  {
   "cell_type": "markdown",
   "metadata": {
    "id": "kzL2MZOJsNyK"
   },
   "source": [
    "## Updating the `config` with the API\n",
    "\n",
    "What if your run has finished, but you realized you forgot to log something?\n",
    "\n",
    "Never fear, you can always use the public API to update your `config` file\n",
    "at any time. You just need to know the details of the `run` you want to update.\n"
   ]
  },
  {
   "cell_type": "code",
   "execution_count": 14,
   "metadata": {},
   "outputs": [],
   "source": [
    "username = wandb.run.entity\n",
    "project = wandb.run.project\n",
    "run_id = wandb.run.id\n",
    "\n",
    "run = api.run(\"/\".join([username, project, run_id]))"
   ]
  },
  {
   "cell_type": "code",
   "execution_count": 17,
   "metadata": {},
   "outputs": [],
   "source": [
    "run.config[\"bar\"]=32\n",
    "run.update()"
   ]
  },
  {
   "cell_type": "code",
   "execution_count": null,
   "metadata": {
    "id": "waUDjivfpwbx"
   },
   "outputs": [],
   "source": [
    "api = wandb.Api()\n",
    "\n",
    "# pulling the relevant info automatically from the run object\n",
    "# this can also be found on the website\n",
    "username = wandb.run.entity\n",
    "project = wandb.run.project\n",
    "run_id = wandb.run.id\n",
    "\n",
    "run = api.run(\"/\".join([username, project, run_id]))\n",
    "run.config[\"bar\"] = 32\n",
    "run.update()"
   ]
  },
  {
   "cell_type": "markdown",
   "metadata": {
    "id": "QNAE2_ous_gi"
   },
   "source": [
    "Here's what the final Config panel looks like:\n",
    "\n",
    "![Imgur](https://i.imgur.com/act4aId.png?1)"
   ]
  },
  {
   "cell_type": "markdown",
   "metadata": {
    "id": "w0kFWHx36qZq"
   },
   "source": [
    "# Using `config` for great good!\n",
    "The `config` parameters are useful for performing various sorts statistical analysis on your experiments.\n",
    "\n",
    "### The examples below come from the project [here](https://wandb.ai/wandb/DistHyperOpt).\n"
   ]
  },
  {
   "cell_type": "markdown",
   "metadata": {
    "id": "Xn4PaC71jmMo"
   },
   "source": [
    "## Filtering Runs\n",
    "Filter tab allows you to display the runs that quality one or more conditions. These conditions can be formed by applying relational operators to any of the parameters logged in the `config` file.\n",
    "\n",
    "[Our example project](https://wandb.ai/wandb/DistHyperOpt) compares various hyper-parameter tuning methods and has more than 80 runs. Each run has a \"Job Type\" logged in the `config` which corresponds\n",
    "\n",
    "Let's say you want to visualize only the ones that are generated by a particular tuning algorithm, like Population Based Traing (`pbt`). You can do that by applying a filter on \"Job Type\".\n",
    "\n",
    "Run the cell below to see this in action!"
   ]
  },
  {
   "cell_type": "code",
   "execution_count": 18,
   "metadata": {
    "id": "XCkFjznx6pw1"
   },
   "outputs": [
    {
     "data": {
      "text/html": [
       "<blockquote class=\"imgur-embed-pub\" lang=\"en\" data-id=\"lG6OBPp\">\n",
       "  <a href=\"//imgur.com/lG6OBPp\"></a>\n",
       "</blockquote><script async src=\"//s.imgur.com/min/embed.js\" charset=\"utf-8\"></script>\n"
      ],
      "text/plain": [
       "<IPython.core.display.HTML object>"
      ]
     },
     "metadata": {},
     "output_type": "display_data"
    }
   ],
   "source": [
    "%%html\n",
    "<blockquote class=\"imgur-embed-pub\" lang=\"en\" data-id=\"lG6OBPp\">\n",
    "  <a href=\"//imgur.com/lG6OBPp\"></a>\n",
    "</blockquote><script async src=\"//s.imgur.com/min/embed.js\" charset=\"utf-8\"></script>"
   ]
  },
  {
   "cell_type": "markdown",
   "metadata": {
    "id": "g6ZQVZksEUqB"
   },
   "source": [
    "## Grouping Runs\n",
    "You can group your experiments in the dashboard of your project based on a particular column from `config`. A common use case for this would be grouping sub-experiments within a larger project.\n",
    "\n",
    "Our runs are grouped based on \"Job Type\". The Group tab is located next to the Filter Tab. You can group your runs by any parameter present in the config.\n",
    "\n",
    "![Imgur](https://i.imgur.com/gTLKRP7.png?1)"
   ]
  },
  {
   "cell_type": "markdown",
   "metadata": {
    "id": "nGH3fqZJHVal"
   },
   "source": [
    "## Parallel Coordinates Chart\n",
    "\n",
    "Often, the main thing we want to do with a group of Runs is make comparisons:\n",
    "\n",
    "The W&B Dashboard includes a Chart type for exactly this purpose:\n",
    "the Parallel Coordinates chart.\n",
    "\n",
    "A Parallel Coordinates chart represents each Run in the group as a line.\n",
    "This line passes through as many of the `config` values\n",
    "or logged metrics as you like,\n",
    "and is colored by its value on a single metric.\n",
    "This lets you take in, at a glance,\n",
    "which hyperparameter configurations were most and least successful.\n",
    "See the example below.\n",
    "\n",
    "Head to a [group of Runs in this project](https://wandb.ai/wandb/DistHyperOpt/groups/dcgan_train)\n",
    "and build a Parallel Coordinates chart like the one pictured below\n",
    "by \n",
    "1. Clicking the + sign in the top-right corner, aligned with \"Charts\".\n",
    "2. Selecting \"Parallel Coordinates\" from the available Charts.\n",
    "3. Adding the columns in the image, in order\n",
    "\n",
    "![Imgur](https://i.imgur.com/ugrpq9K.png)"
   ]
  },
  {
   "cell_type": "code",
   "execution_count": null,
   "metadata": {},
   "outputs": [],
   "source": []
  }
 ],
 "metadata": {
  "colab": {
   "collapsed_sections": [],
   "include_colab_link": true,
   "name": "Configs in W&B.ipynb",
   "private_outputs": true,
   "provenance": [],
   "toc_visible": true
  },
  "kernelspec": {
   "display_name": "Python 3",
   "language": "python",
   "name": "python3"
  },
  "language_info": {
   "codemirror_mode": {
    "name": "ipython",
    "version": 3
   },
   "file_extension": ".py",
   "mimetype": "text/x-python",
   "name": "python",
   "nbconvert_exporter": "python",
   "pygments_lexer": "ipython3",
   "version": "3.8.5"
  }
 },
 "nbformat": 4,
 "nbformat_minor": 1
}
