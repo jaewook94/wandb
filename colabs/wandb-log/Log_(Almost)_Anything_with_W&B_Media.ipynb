{
 "cells": [
  {
   "cell_type": "markdown",
   "metadata": {
    "colab_type": "text",
    "id": "view-in-github"
   },
   "source": [
    "<a href=\"https://colab.research.google.com/github/jaewook94/wandb/blob/main/colabs/wandb-log/Log_(Almost)_Anything_with_W%26B_Media.ipynb\" target=\"_parent\"><img src=\"https://colab.research.google.com/assets/colab-badge.svg\" alt=\"Open In Colab\"/></a>"
   ]
  },
  {
   "cell_type": "markdown",
   "metadata": {
    "id": "r28tByJxVhI7"
   },
   "source": [
    "\n",
    "![](https://paper-attachments.dropbox.com/s_C0EC7008D045FC80715C08E7386E0BBDA59DC92DEE34C734FEA67BF25E4BA5CC_1578297638486_image.png)\n",
    "\n"
   ]
  },
  {
   "cell_type": "code",
   "execution_count": 3,
   "metadata": {
    "id": "tkfXysrHb_sv",
    "scrolled": true
   },
   "outputs": [
    {
     "name": "stderr",
     "output_type": "stream",
     "text": [
      "Cloning into 'examples'...\n",
      "Updating files:  67% (131/193)\n",
      "Updating files:  68% (132/193)\n",
      "Updating files:  69% (134/193)\n",
      "Updating files:  70% (136/193)\n",
      "Updating files:  71% (138/193)\n",
      "Updating files:  72% (139/193)\n",
      "Updating files:  73% (141/193)\n",
      "Updating files:  74% (143/193)\n",
      "Updating files:  75% (145/193)\n",
      "Updating files:  76% (147/193)\n",
      "Updating files:  77% (149/193)\n",
      "Updating files:  78% (151/193)\n",
      "Updating files:  79% (153/193)\n",
      "Updating files:  80% (155/193)\n",
      "Updating files:  81% (157/193)\n",
      "Updating files:  82% (159/193)\n",
      "Updating files:  83% (161/193)\n",
      "Updating files:  84% (163/193)\n",
      "Updating files:  85% (165/193)\n",
      "Updating files:  86% (166/193)\n",
      "Updating files:  87% (168/193)\n",
      "Updating files:  88% (170/193)\n",
      "Updating files:  89% (172/193)\n",
      "Updating files:  90% (174/193)\n",
      "Updating files:  91% (176/193)\n",
      "Updating files:  92% (178/193)\n",
      "Updating files:  93% (180/193)\n",
      "Updating files:  94% (182/193)\n",
      "Updating files:  95% (184/193)\n",
      "Updating files:  96% (186/193)\n",
      "Updating files:  97% (188/193)\n",
      "Updating files:  98% (190/193)\n",
      "Updating files:  99% (192/193)\n",
      "Updating files: 100% (193/193)\n",
      "Updating files: 100% (193/193), done.\n"
     ]
    }
   ],
   "source": [
    "!pip install wandb -qq\n",
    "\n",
    "# Fetch audio, video and other data files to log\n",
    "!git clone https://github.com/wandb/examples.git\n",
    "\n",
    "\n",
    "import warnings\n",
    "warnings.filterwarnings(\"ignore\", category=UserWarning)"
   ]
  },
  {
   "cell_type": "code",
   "execution_count": 1,
   "metadata": {},
   "outputs": [],
   "source": [
    "!pip install soundfile -qq"
   ]
  },
  {
   "cell_type": "code",
   "execution_count": 2,
   "metadata": {
    "id": "txS8uwL7ap2A"
   },
   "outputs": [],
   "source": [
    "import pandas as pd\n",
    "import numpy as np\n",
    "import wandb"
   ]
  },
  {
   "cell_type": "markdown",
   "metadata": {
    "id": "pgwntcNJap2F"
   },
   "source": [
    "# Log metrics"
   ]
  },
  {
   "cell_type": "code",
   "execution_count": 4,
   "metadata": {
    "_cell_guid": "79c7e3d0-c299-4dcb-8224-4455121ee9b0",
    "_uuid": "d629ff2d2480ee46fbb7e2d37f6b5fab8052498a",
    "id": "88AdOpHFap2F"
   },
   "outputs": [],
   "source": [
    "# Get Apple stock price data from\n",
    "# https://www.macrotrends.net/stocks/charts/AAPL/apple/stock-price-history\n",
    "# Read in dataset\n",
    "apple = pd.read_csv(\"examples/data/apple.csv\")\n",
    "apple = apple[-1000:]"
   ]
  },
  {
   "cell_type": "code",
   "execution_count": 6,
   "metadata": {},
   "outputs": [
    {
     "data": {
      "text/plain": [
       "8849     97.13\n",
       "8850     96.66\n",
       "8851     96.79\n",
       "8852     96.30\n",
       "8853    101.42\n",
       "         ...  \n",
       "9844    291.52\n",
       "9845    293.65\n",
       "9846    300.35\n",
       "9847    297.43\n",
       "9848    299.80\n",
       "Name: close, Length: 1000, dtype: float64"
      ]
     },
     "execution_count": 6,
     "metadata": {},
     "output_type": "execute_result"
    }
   ],
   "source": [
    "apple['close']"
   ]
  },
  {
   "cell_type": "code",
   "execution_count": 7,
   "metadata": {
    "id": "3ncMypGfap2I"
   },
   "outputs": [
    {
     "name": "stderr",
     "output_type": "stream",
     "text": [
      "\u001b[34m\u001b[1mwandb\u001b[0m: Currently logged in as: \u001b[33mjaewooklee\u001b[0m (use `wandb login --relogin` to force relogin)\n"
     ]
    },
    {
     "data": {
      "text/html": [
       "\n",
       "                Tracking run with wandb version 0.11.0<br/>\n",
       "                Syncing run <strong style=\"color:#cdcd00\">metrics</strong> to <a href=\"https://wandb.ai\" target=\"_blank\">Weights & Biases</a> <a href=\"https://docs.wandb.com/integrations/jupyter.html\" target=\"_blank\">(Documentation)</a>.<br/>\n",
       "                Project page: <a href=\"https://wandb.ai/jaewooklee/visualize-predictions\" target=\"_blank\">https://wandb.ai/jaewooklee/visualize-predictions</a><br/>\n",
       "                Run page: <a href=\"https://wandb.ai/jaewooklee/visualize-predictions/runs/13ou77ye\" target=\"_blank\">https://wandb.ai/jaewooklee/visualize-predictions/runs/13ou77ye</a><br/>\n",
       "                Run data is saved locally in <code>C:\\git\\wandb\\colabs\\wandb-log\\wandb\\run-20210729_212943-13ou77ye</code><br/><br/>\n",
       "            "
      ],
      "text/plain": [
       "<IPython.core.display.HTML object>"
      ]
     },
     "metadata": {},
     "output_type": "display_data"
    },
    {
     "data": {
      "text/html": [
       "<br/>Waiting for W&B process to finish, PID 27232<br/>Program ended successfully."
      ],
      "text/plain": [
       "<IPython.core.display.HTML object>"
      ]
     },
     "metadata": {},
     "output_type": "display_data"
    },
    {
     "data": {
      "application/vnd.jupyter.widget-view+json": {
       "model_id": "",
       "version_major": 2,
       "version_minor": 0
      },
      "text/plain": [
       "VBox(children=(Label(value=' 0.00MB of 0.00MB uploaded (0.00MB deduped)\\r'), FloatProgress(value=1.0, max=1.0)…"
      ]
     },
     "metadata": {},
     "output_type": "display_data"
    },
    {
     "data": {
      "text/html": [
       "Find user logs for this run at: <code>C:\\git\\wandb\\colabs\\wandb-log\\wandb\\run-20210729_212943-13ou77ye\\logs\\debug.log</code>"
      ],
      "text/plain": [
       "<IPython.core.display.HTML object>"
      ]
     },
     "metadata": {},
     "output_type": "display_data"
    },
    {
     "data": {
      "text/html": [
       "Find internal logs for this run at: <code>C:\\git\\wandb\\colabs\\wandb-log\\wandb\\run-20210729_212943-13ou77ye\\logs\\debug-internal.log</code>"
      ],
      "text/plain": [
       "<IPython.core.display.HTML object>"
      ]
     },
     "metadata": {},
     "output_type": "display_data"
    },
    {
     "data": {
      "text/html": [
       "<h3>Run summary:</h3><br/><style>\n",
       "    table.wandb td:nth-child(1) { padding: 0 10px; text-align: right }\n",
       "    </style><table class=\"wandb\">\n",
       "<tr><td>Stock Price</td><td>299.8</td></tr><tr><td>_runtime</td><td>9</td></tr><tr><td>_timestamp</td><td>1627561792</td></tr><tr><td>_step</td><td>999</td></tr></table>"
      ],
      "text/plain": [
       "<IPython.core.display.HTML object>"
      ]
     },
     "metadata": {},
     "output_type": "display_data"
    },
    {
     "data": {
      "text/html": [
       "<h3>Run history:</h3><br/><style>\n",
       "    table.wandb td:nth-child(1) { padding: 0 10px; text-align: right }\n",
       "    </style><table class=\"wandb\">\n",
       "<tr><td>Stock Price</td><td>▁▁▂▁▁▁▁▂▂▂▂▃▃▃▃▃▃▃▄▄▄▄▄▄▄▅▆▆▄▃▄▄▅▅▅▅▆▆▇█</td></tr><tr><td>_runtime</td><td>▁▁▁▁▁▁▁▁▁▁▁▁▁▁▁▁▁▁▁▁▁▁▁▁▁▁▁▁▁▁▁▁▁▁▁▁▁▁▁▁</td></tr><tr><td>_timestamp</td><td>▁▁▁▁▁▁▁▁▁▁▁▁▁▁▁▁▁▁▁▁▁▁▁▁▁▁▁▁▁▁▁▁▁▁▁▁▁▁▁▁</td></tr><tr><td>_step</td><td>▁▁▁▂▂▂▂▂▂▃▃▃▃▃▄▄▄▄▄▄▅▅▅▅▅▅▆▆▆▆▆▇▇▇▇▇▇███</td></tr></table><br/>"
      ],
      "text/plain": [
       "<IPython.core.display.HTML object>"
      ]
     },
     "metadata": {},
     "output_type": "display_data"
    },
    {
     "data": {
      "text/html": [
       "Synced 4 W&B file(s), 0 media file(s), 0 artifact file(s) and 0 other file(s)"
      ],
      "text/plain": [
       "<IPython.core.display.HTML object>"
      ]
     },
     "metadata": {},
     "output_type": "display_data"
    },
    {
     "data": {
      "text/html": [
       "\n",
       "                    <br/>Synced <strong style=\"color:#cdcd00\">metrics</strong>: <a href=\"https://wandb.ai/jaewooklee/visualize-predictions/runs/13ou77ye\" target=\"_blank\">https://wandb.ai/jaewooklee/visualize-predictions/runs/13ou77ye</a><br/>\n",
       "                "
      ],
      "text/plain": [
       "<IPython.core.display.HTML object>"
      ]
     },
     "metadata": {},
     "output_type": "display_data"
    }
   ],
   "source": [
    "# Initialize a new run\n",
    "wandb.init(project=\"visualize-predictions\", name=\"metrics\")\n",
    "\n",
    "# Log the metric on each step\n",
    "for price in apple['close']:\n",
    "    wandb.log({\"Stock Price\": price})\n",
    "\n",
    "wandb.finish()"
   ]
  },
  {
   "cell_type": "markdown",
   "metadata": {
    "id": "-D1dvTmOap2L"
   },
   "source": [
    "# Log plots"
   ]
  },
  {
   "cell_type": "code",
   "execution_count": 10,
   "metadata": {},
   "outputs": [
    {
     "name": "stdout",
     "output_type": "stream",
     "text": [
      "Requirement already satisfied: plotly in c:\\anaconda3\\lib\\site-packages (5.1.0)\n",
      "Requirement already satisfied: tenacity>=6.2.0 in c:\\anaconda3\\lib\\site-packages (from plotly) (8.0.1)\n",
      "Requirement already satisfied: six in c:\\anaconda3\\lib\\site-packages (from plotly) (1.15.0)\n"
     ]
    }
   ],
   "source": [
    "!pip install plotly"
   ]
  },
  {
   "cell_type": "code",
   "execution_count": 14,
   "metadata": {
    "scrolled": true
   },
   "outputs": [
    {
     "data": {
      "image/png": "[encoded data removed]",
      "text/plain": [
       "<Figure size 432x288 with 1 Axes>"
      ]
     },
     "execution_count": 14,
     "metadata": {},
     "output_type": "execute_result"
    },
    {
     "data": {
      "image/png": "[encoded data removed]",
      "text/plain": [
       "<Figure size 432x288 with 1 Axes>"
      ]
     },
     "metadata": {
      "needs_background": "light"
     },
     "output_type": "display_data"
    }
   ],
   "source": [
    "fibonacci = [0, 1, 1, 2, 3, 5, 8, 13, 21, 34]\n",
    "fig, ax = plt.subplots()\n",
    "ax.plot(fibonacci)\n",
    "fig"
   ]
  },
  {
   "cell_type": "code",
   "execution_count": 16,
   "metadata": {
    "id": "nlW-GEB5ap2L",
    "scrolled": true
   },
   "outputs": [
    {
     "data": {
      "text/html": [
       "Finishing last run (ID:ruyc8p9r) before initializing another..."
      ],
      "text/plain": [
       "<IPython.core.display.HTML object>"
      ]
     },
     "metadata": {},
     "output_type": "display_data"
    },
    {
     "name": "stderr",
     "output_type": "stream",
     "text": [
      "\u001b[34m\u001b[1mwandb\u001b[0m: \u001b[32m\u001b[41mERROR\u001b[0m Problem finishing run\n",
      "Traceback (most recent call last):\n",
      "  File \"C:\\anaconda3\\lib\\site-packages\\wandb\\sdk\\wandb_run.py\", line 1601, in _atexit_cleanup\n",
      "    self._on_finish()\n",
      "  File \"C:\\anaconda3\\lib\\site-packages\\wandb\\sdk\\wandb_run.py\", line 1737, in _on_finish\n",
      "    self.history._flush()\n",
      "  File \"C:\\anaconda3\\lib\\site-packages\\wandb\\sdk\\wandb_history.py\", line 59, in _flush\n",
      "    self._callback(row=self._data, step=self._step)\n",
      "  File \"C:\\anaconda3\\lib\\site-packages\\wandb\\sdk\\wandb_run.py\", line 931, in _history_callback\n",
      "    self._backend.interface.publish_history(\n",
      "  File \"C:\\anaconda3\\lib\\site-packages\\wandb\\sdk\\interface\\interface.py\", line 219, in publish_history\n",
      "    data = data_types.history_dict_to_json(run, data, step=step)\n",
      "  File \"C:\\anaconda3\\lib\\site-packages\\wandb\\sdk\\data_types.py\", line 2294, in history_dict_to_json\n",
      "    payload[key] = val_to_json(run, key, val, namespace=step)\n",
      "  File \"C:\\anaconda3\\lib\\site-packages\\wandb\\sdk\\data_types.py\", line 2319, in val_to_json\n",
      "    val = Plotly.make_plot_media(val)\n",
      "  File \"C:\\anaconda3\\lib\\site-packages\\wandb\\sdk\\data_types.py\", line 2244, in make_plot_media\n",
      "    val = util.matplotlib_to_plotly(val)\n",
      "  File \"C:\\anaconda3\\lib\\site-packages\\wandb\\util.py\", line 413, in matplotlib_to_plotly\n",
      "    tools = get_module(\n",
      "  File \"C:\\anaconda3\\lib\\site-packages\\wandb\\util.py\", line 192, in get_module\n",
      "    raise wandb.Error(required)\n",
      "wandb.errors.Error: plotly is required to log interactive plots, install with: pip install plotly or convert the plot to an image with `wandb.Image(plt)`\n"
     ]
    },
    {
     "data": {
      "text/html": [
       "...Successfully finished last run (ID:ruyc8p9r). Initializing new run:<br/><br/>"
      ],
      "text/plain": [
       "<IPython.core.display.HTML object>"
      ]
     },
     "metadata": {},
     "output_type": "display_data"
    },
    {
     "data": {
      "text/html": [
       "\n",
       "                Tracking run with wandb version 0.11.0<br/>\n",
       "                Syncing run <strong style=\"color:#cdcd00\">plots</strong> to <a href=\"https://wandb.ai\" target=\"_blank\">Weights & Biases</a> <a href=\"https://docs.wandb.com/integrations/jupyter.html\" target=\"_blank\">(Documentation)</a>.<br/>\n",
       "                Project page: <a href=\"https://wandb.ai/jaewooklee/visualize-predictions\" target=\"_blank\">https://wandb.ai/jaewooklee/visualize-predictions</a><br/>\n",
       "                Run page: <a href=\"https://wandb.ai/jaewooklee/visualize-predictions/runs/3mny8vq8\" target=\"_blank\">https://wandb.ai/jaewooklee/visualize-predictions/runs/3mny8vq8</a><br/>\n",
       "                Run data is saved locally in <code>C:\\git\\wandb\\colabs\\wandb-log\\wandb\\run-20210729_214721-3mny8vq8</code><br/><br/>\n",
       "            "
      ],
      "text/plain": [
       "<IPython.core.display.HTML object>"
      ]
     },
     "metadata": {},
     "output_type": "display_data"
    },
    {
     "data": {
      "text/html": [
       "<br/>Waiting for W&B process to finish, PID 22236<br/>Program ended successfully."
      ],
      "text/plain": [
       "<IPython.core.display.HTML object>"
      ]
     },
     "metadata": {},
     "output_type": "display_data"
    },
    {
     "data": {
      "application/vnd.jupyter.widget-view+json": {
       "model_id": "",
       "version_major": 2,
       "version_minor": 0
      },
      "text/plain": [
       "VBox(children=(Label(value=' 0.00MB of 0.00MB uploaded (0.00MB deduped)\\r'), FloatProgress(value=1.0, max=1.0)…"
      ]
     },
     "metadata": {},
     "output_type": "display_data"
    },
    {
     "data": {
      "text/html": [
       "Find user logs for this run at: <code>C:\\git\\wandb\\colabs\\wandb-log\\wandb\\run-20210729_214721-3mny8vq8\\logs\\debug.log</code>"
      ],
      "text/plain": [
       "<IPython.core.display.HTML object>"
      ]
     },
     "metadata": {},
     "output_type": "display_data"
    },
    {
     "data": {
      "text/html": [
       "Find internal logs for this run at: <code>C:\\git\\wandb\\colabs\\wandb-log\\wandb\\run-20210729_214721-3mny8vq8\\logs\\debug-internal.log</code>"
      ],
      "text/plain": [
       "<IPython.core.display.HTML object>"
      ]
     },
     "metadata": {},
     "output_type": "display_data"
    },
    {
     "data": {
      "text/html": [
       "<h3>Run summary:</h3><br/><style>\n",
       "    table.wandb td:nth-child(1) { padding: 0 10px; text-align: right }\n",
       "    </style><table class=\"wandb\">\n",
       "<tr><td>_runtime</td><td>9</td></tr><tr><td>_timestamp</td><td>1627562853</td></tr><tr><td>_step</td><td>0</td></tr></table>"
      ],
      "text/plain": [
       "<IPython.core.display.HTML object>"
      ]
     },
     "metadata": {},
     "output_type": "display_data"
    },
    {
     "data": {
      "text/html": [
       "<h3>Run history:</h3><br/><style>\n",
       "    table.wandb td:nth-child(1) { padding: 0 10px; text-align: right }\n",
       "    </style><table class=\"wandb\">\n",
       "<tr><td>_runtime</td><td>▁</td></tr><tr><td>_timestamp</td><td>▁</td></tr><tr><td>_step</td><td>▁</td></tr></table><br/>"
      ],
      "text/plain": [
       "<IPython.core.display.HTML object>"
      ]
     },
     "metadata": {},
     "output_type": "display_data"
    },
    {
     "data": {
      "text/html": [
       "Synced 4 W&B file(s), 1 media file(s), 0 artifact file(s) and 0 other file(s)"
      ],
      "text/plain": [
       "<IPython.core.display.HTML object>"
      ]
     },
     "metadata": {},
     "output_type": "display_data"
    },
    {
     "data": {
      "text/html": [
       "\n",
       "                    <br/>Synced <strong style=\"color:#cdcd00\">plots</strong>: <a href=\"https://wandb.ai/jaewooklee/visualize-predictions/runs/3mny8vq8\" target=\"_blank\">https://wandb.ai/jaewooklee/visualize-predictions/runs/3mny8vq8</a><br/>\n",
       "                "
      ],
      "text/plain": [
       "<IPython.core.display.HTML object>"
      ]
     },
     "metadata": {},
     "output_type": "display_data"
    },
    {
     "data": {
      "image/png": "[encoded data removed]",
      "text/plain": [
       "<Figure size 432x288 with 1 Axes>"
      ]
     },
     "execution_count": 16,
     "metadata": {},
     "output_type": "execute_result"
    },
    {
     "data": {
      "image/png": "[encoded data removed]",
      "text/plain": [
       "<Figure size 432x288 with 1 Axes>"
      ]
     },
     "metadata": {
      "needs_background": "light"
     },
     "output_type": "display_data"
    }
   ],
   "source": [
    "import matplotlib.pyplot as plt\n",
    "%matplotlib inline\n",
    "\n",
    "# Initialize a new run\n",
    "wandb.init(project=\"visualize-predictions\", name=\"plots\")\n",
    "\n",
    "# Make the plot\n",
    "fibonacci = [0, 1, 1, 2, 3, 5, 8, 13, 21, 34]\n",
    "fig, ax = plt.subplots()\n",
    "ax.plot(fibonacci)\n",
    "ax.set_ylabel(\"some interesting numbers\")\n",
    "\n",
    "# Log the plot\n",
    "wandb.log({\"plot\": wandb.Image(fig)})\n",
    "wandb.finish()\n",
    "fig"
   ]
  },
  {
   "cell_type": "markdown",
   "metadata": {
    "id": "s36QzL34ap2O"
   },
   "source": [
    "# Log Histograms"
   ]
  },
  {
   "cell_type": "code",
   "execution_count": 17,
   "metadata": {
    "id": "ywz0SPYQap2O"
   },
   "outputs": [
    {
     "data": {
      "text/html": [
       "\n",
       "                Tracking run with wandb version 0.11.0<br/>\n",
       "                Syncing run <strong style=\"color:#cdcd00\">histograms</strong> to <a href=\"https://wandb.ai\" target=\"_blank\">Weights & Biases</a> <a href=\"https://docs.wandb.com/integrations/jupyter.html\" target=\"_blank\">(Documentation)</a>.<br/>\n",
       "                Project page: <a href=\"https://wandb.ai/jaewooklee/visualize-predictions\" target=\"_blank\">https://wandb.ai/jaewooklee/visualize-predictions</a><br/>\n",
       "                Run page: <a href=\"https://wandb.ai/jaewooklee/visualize-predictions/runs/33pidvmf\" target=\"_blank\">https://wandb.ai/jaewooklee/visualize-predictions/runs/33pidvmf</a><br/>\n",
       "                Run data is saved locally in <code>C:\\git\\wandb\\colabs\\wandb-log\\wandb\\run-20210729_215432-33pidvmf</code><br/><br/>\n",
       "            "
      ],
      "text/plain": [
       "<IPython.core.display.HTML object>"
      ]
     },
     "metadata": {},
     "output_type": "display_data"
    },
    {
     "data": {
      "text/html": [
       "<br/>Waiting for W&B process to finish, PID 7788<br/>Program ended successfully."
      ],
      "text/plain": [
       "<IPython.core.display.HTML object>"
      ]
     },
     "metadata": {},
     "output_type": "display_data"
    },
    {
     "data": {
      "application/vnd.jupyter.widget-view+json": {
       "model_id": "",
       "version_major": 2,
       "version_minor": 0
      },
      "text/plain": [
       "VBox(children=(Label(value=' 0.00MB of 0.00MB uploaded (0.00MB deduped)\\r'), FloatProgress(value=1.0, max=1.0)…"
      ]
     },
     "metadata": {},
     "output_type": "display_data"
    },
    {
     "data": {
      "text/html": [
       "Find user logs for this run at: <code>C:\\git\\wandb\\colabs\\wandb-log\\wandb\\run-20210729_215432-33pidvmf\\logs\\debug.log</code>"
      ],
      "text/plain": [
       "<IPython.core.display.HTML object>"
      ]
     },
     "metadata": {},
     "output_type": "display_data"
    },
    {
     "data": {
      "text/html": [
       "Find internal logs for this run at: <code>C:\\git\\wandb\\colabs\\wandb-log\\wandb\\run-20210729_215432-33pidvmf\\logs\\debug-internal.log</code>"
      ],
      "text/plain": [
       "<IPython.core.display.HTML object>"
      ]
     },
     "metadata": {},
     "output_type": "display_data"
    },
    {
     "data": {
      "text/html": [
       "<h3>Run summary:</h3><br/><style>\n",
       "    table.wandb td:nth-child(1) { padding: 0 10px; text-align: right }\n",
       "    </style><table class=\"wandb\">\n",
       "<tr><td>_runtime</td><td>9</td></tr><tr><td>_timestamp</td><td>1627563281</td></tr><tr><td>_step</td><td>8</td></tr></table>"
      ],
      "text/plain": [
       "<IPython.core.display.HTML object>"
      ]
     },
     "metadata": {},
     "output_type": "display_data"
    },
    {
     "data": {
      "text/html": [
       "<h3>Run history:</h3><br/><style>\n",
       "    table.wandb td:nth-child(1) { padding: 0 10px; text-align: right }\n",
       "    </style><table class=\"wandb\">\n",
       "<tr><td>_runtime</td><td>▁▁▁▁▁▁▁▁▁</td></tr><tr><td>_timestamp</td><td>▁▁▁▁▁▁▁▁▁</td></tr><tr><td>_step</td><td>▁▂▃▄▅▅▆▇█</td></tr></table><br/>"
      ],
      "text/plain": [
       "<IPython.core.display.HTML object>"
      ]
     },
     "metadata": {},
     "output_type": "display_data"
    },
    {
     "data": {
      "text/html": [
       "Synced 4 W&B file(s), 0 media file(s), 0 artifact file(s) and 0 other file(s)"
      ],
      "text/plain": [
       "<IPython.core.display.HTML object>"
      ]
     },
     "metadata": {},
     "output_type": "display_data"
    },
    {
     "data": {
      "text/html": [
       "\n",
       "                    <br/>Synced <strong style=\"color:#cdcd00\">histograms</strong>: <a href=\"https://wandb.ai/jaewooklee/visualize-predictions/runs/33pidvmf\" target=\"_blank\">https://wandb.ai/jaewooklee/visualize-predictions/runs/33pidvmf</a><br/>\n",
       "                "
      ],
      "text/plain": [
       "<IPython.core.display.HTML object>"
      ]
     },
     "metadata": {},
     "output_type": "display_data"
    }
   ],
   "source": [
    "# Initialize a new run\n",
    "wandb.init(project=\"visualize-predictions\", name=\"histograms\")\n",
    "\n",
    "fibonacci = np.array([0, 1, 1, 2, 3, 5, 8, 13, 21, 34])\n",
    "\n",
    "# Log a histogram on each step\n",
    "for i in range(1, 10):\n",
    "  wandb.log({\"histograms\":\n",
    "             wandb.Histogram(fibonacci / i)})\n",
    "  \n",
    "wandb.finish()"
   ]
  },
  {
   "cell_type": "markdown",
   "metadata": {
    "id": "Wcbag5T7ap2R"
   },
   "source": [
    "# Log images"
   ]
  },
  {
   "cell_type": "code",
   "execution_count": 19,
   "metadata": {
    "id": "XzZKD0Usap2S",
    "scrolled": true
   },
   "outputs": [
    {
     "data": {
      "text/html": [
       "Finishing last run (ID:3bzlur7e) before initializing another..."
      ],
      "text/plain": [
       "<IPython.core.display.HTML object>"
      ]
     },
     "metadata": {},
     "output_type": "display_data"
    },
    {
     "data": {
      "text/html": [
       "<br/>Waiting for W&B process to finish, PID 3692<br/>Program ended successfully."
      ],
      "text/plain": [
       "<IPython.core.display.HTML object>"
      ]
     },
     "metadata": {},
     "output_type": "display_data"
    },
    {
     "data": {
      "application/vnd.jupyter.widget-view+json": {
       "model_id": "",
       "version_major": 2,
       "version_minor": 0
      },
      "text/plain": [
       "VBox(children=(Label(value=' 0.00MB of 0.00MB uploaded (0.00MB deduped)\\r'), FloatProgress(value=1.0, max=1.0)…"
      ]
     },
     "metadata": {},
     "output_type": "display_data"
    },
    {
     "data": {
      "text/html": [
       "Find user logs for this run at: <code>C:\\git\\wandb\\colabs\\wandb-log\\wandb\\run-20210729_215548-3bzlur7e\\logs\\debug.log</code>"
      ],
      "text/plain": [
       "<IPython.core.display.HTML object>"
      ]
     },
     "metadata": {},
     "output_type": "display_data"
    },
    {
     "data": {
      "text/html": [
       "Find internal logs for this run at: <code>C:\\git\\wandb\\colabs\\wandb-log\\wandb\\run-20210729_215548-3bzlur7e\\logs\\debug-internal.log</code>"
      ],
      "text/plain": [
       "<IPython.core.display.HTML object>"
      ]
     },
     "metadata": {},
     "output_type": "display_data"
    },
    {
     "data": {
      "text/html": [
       "Synced 4 W&B file(s), 0 media file(s), 0 artifact file(s) and 0 other file(s)"
      ],
      "text/plain": [
       "<IPython.core.display.HTML object>"
      ]
     },
     "metadata": {},
     "output_type": "display_data"
    },
    {
     "data": {
      "text/html": [
       "\n",
       "                    <br/>Synced <strong style=\"color:#cdcd00\">images</strong>: <a href=\"https://wandb.ai/jaewooklee/visualize-predictions/runs/3bzlur7e\" target=\"_blank\">https://wandb.ai/jaewooklee/visualize-predictions/runs/3bzlur7e</a><br/>\n",
       "                "
      ],
      "text/plain": [
       "<IPython.core.display.HTML object>"
      ]
     },
     "metadata": {},
     "output_type": "display_data"
    },
    {
     "data": {
      "text/html": [
       "...Successfully finished last run (ID:3bzlur7e). Initializing new run:<br/><br/>"
      ],
      "text/plain": [
       "<IPython.core.display.HTML object>"
      ]
     },
     "metadata": {},
     "output_type": "display_data"
    },
    {
     "data": {
      "text/html": [
       "\n",
       "                Tracking run with wandb version 0.11.0<br/>\n",
       "                Syncing run <strong style=\"color:#cdcd00\">images</strong> to <a href=\"https://wandb.ai\" target=\"_blank\">Weights & Biases</a> <a href=\"https://docs.wandb.com/integrations/jupyter.html\" target=\"_blank\">(Documentation)</a>.<br/>\n",
       "                Project page: <a href=\"https://wandb.ai/jaewooklee/visualize-predictions\" target=\"_blank\">https://wandb.ai/jaewooklee/visualize-predictions</a><br/>\n",
       "                Run page: <a href=\"https://wandb.ai/jaewooklee/visualize-predictions/runs/ei8yrn9i\" target=\"_blank\">https://wandb.ai/jaewooklee/visualize-predictions/runs/ei8yrn9i</a><br/>\n",
       "                Run data is saved locally in <code>C:\\git\\wandb\\colabs\\wandb-log\\wandb\\run-20210729_215627-ei8yrn9i</code><br/><br/>\n",
       "            "
      ],
      "text/plain": [
       "<IPython.core.display.HTML object>"
      ]
     },
     "metadata": {},
     "output_type": "display_data"
    },
    {
     "data": {
      "text/html": [
       "<br/>Waiting for W&B process to finish, PID 15648<br/>Program ended successfully."
      ],
      "text/plain": [
       "<IPython.core.display.HTML object>"
      ]
     },
     "metadata": {},
     "output_type": "display_data"
    },
    {
     "data": {
      "application/vnd.jupyter.widget-view+json": {
       "model_id": "",
       "version_major": 2,
       "version_minor": 0
      },
      "text/plain": [
       "VBox(children=(Label(value=' 0.00MB of 0.00MB uploaded (0.00MB deduped)\\r'), FloatProgress(value=1.0, max=1.0)…"
      ]
     },
     "metadata": {},
     "output_type": "display_data"
    },
    {
     "data": {
      "text/html": [
       "Find user logs for this run at: <code>C:\\git\\wandb\\colabs\\wandb-log\\wandb\\run-20210729_215627-ei8yrn9i\\logs\\debug.log</code>"
      ],
      "text/plain": [
       "<IPython.core.display.HTML object>"
      ]
     },
     "metadata": {},
     "output_type": "display_data"
    },
    {
     "data": {
      "text/html": [
       "Find internal logs for this run at: <code>C:\\git\\wandb\\colabs\\wandb-log\\wandb\\run-20210729_215627-ei8yrn9i\\logs\\debug-internal.log</code>"
      ],
      "text/plain": [
       "<IPython.core.display.HTML object>"
      ]
     },
     "metadata": {},
     "output_type": "display_data"
    },
    {
     "data": {
      "text/html": [
       "<h3>Run summary:</h3><br/><style>\n",
       "    table.wandb td:nth-child(1) { padding: 0 10px; text-align: right }\n",
       "    </style><table class=\"wandb\">\n",
       "<tr><td>_runtime</td><td>9</td></tr><tr><td>_timestamp</td><td>1627563420</td></tr><tr><td>_step</td><td>0</td></tr></table>"
      ],
      "text/plain": [
       "<IPython.core.display.HTML object>"
      ]
     },
     "metadata": {},
     "output_type": "display_data"
    },
    {
     "data": {
      "text/html": [
       "<h3>Run history:</h3><br/><style>\n",
       "    table.wandb td:nth-child(1) { padding: 0 10px; text-align: right }\n",
       "    </style><table class=\"wandb\">\n",
       "<tr><td>_runtime</td><td>▁</td></tr><tr><td>_timestamp</td><td>▁</td></tr><tr><td>_step</td><td>▁</td></tr></table><br/>"
      ],
      "text/plain": [
       "<IPython.core.display.HTML object>"
      ]
     },
     "metadata": {},
     "output_type": "display_data"
    },
    {
     "data": {
      "text/html": [
       "Synced 4 W&B file(s), 1 media file(s), 0 artifact file(s) and 0 other file(s)"
      ],
      "text/plain": [
       "<IPython.core.display.HTML object>"
      ]
     },
     "metadata": {},
     "output_type": "display_data"
    },
    {
     "data": {
      "text/html": [
       "\n",
       "                    <br/>Synced <strong style=\"color:#cdcd00\">images</strong>: <a href=\"https://wandb.ai/jaewooklee/visualize-predictions/runs/ei8yrn9i\" target=\"_blank\">https://wandb.ai/jaewooklee/visualize-predictions/runs/ei8yrn9i</a><br/>\n",
       "                "
      ],
      "text/plain": [
       "<IPython.core.display.HTML object>"
      ]
     },
     "metadata": {},
     "output_type": "display_data"
    }
   ],
   "source": [
    "import matplotlib.pyplot as plt\n",
    "\n",
    "# Initialize a new run\n",
    "wandb.init(project=\"visualize-predictions\", name=\"images\")\n",
    "\n",
    "# Generate an image\n",
    "path_to_img = \"examples/data/cafe.jpg\"\n",
    "im = plt.imread(path_to_img)\n",
    "\n",
    "# Log the image\n",
    "wandb.log({\"img\": [wandb.Image(im, caption=\"Cafe\")]})\n",
    "\n",
    "wandb.finish()"
   ]
  },
  {
   "cell_type": "markdown",
   "metadata": {
    "id": "cyx0yDroap2U"
   },
   "source": [
    "# Log videos"
   ]
  },
  {
   "cell_type": "code",
   "execution_count": 20,
   "metadata": {
    "id": "HJ98bSH2ap2V",
    "scrolled": true
   },
   "outputs": [
    {
     "data": {
      "text/html": [
       "\n",
       "                Tracking run with wandb version 0.11.0<br/>\n",
       "                Syncing run <strong style=\"color:#cdcd00\">videos</strong> to <a href=\"https://wandb.ai\" target=\"_blank\">Weights & Biases</a> <a href=\"https://docs.wandb.com/integrations/jupyter.html\" target=\"_blank\">(Documentation)</a>.<br/>\n",
       "                Project page: <a href=\"https://wandb.ai/jaewooklee/visualize-predictions\" target=\"_blank\">https://wandb.ai/jaewooklee/visualize-predictions</a><br/>\n",
       "                Run page: <a href=\"https://wandb.ai/jaewooklee/visualize-predictions/runs/f9m06hij\" target=\"_blank\">https://wandb.ai/jaewooklee/visualize-predictions/runs/f9m06hij</a><br/>\n",
       "                Run data is saved locally in <code>C:\\git\\wandb\\colabs\\wandb-log\\wandb\\run-20210729_215923-f9m06hij</code><br/><br/>\n",
       "            "
      ],
      "text/plain": [
       "<IPython.core.display.HTML object>"
      ]
     },
     "metadata": {},
     "output_type": "display_data"
    },
    {
     "data": {
      "text/html": [
       "<br/>Waiting for W&B process to finish, PID 22948<br/>Program ended successfully."
      ],
      "text/plain": [
       "<IPython.core.display.HTML object>"
      ]
     },
     "metadata": {},
     "output_type": "display_data"
    },
    {
     "data": {
      "application/vnd.jupyter.widget-view+json": {
       "model_id": "",
       "version_major": 2,
       "version_minor": 0
      },
      "text/plain": [
       "VBox(children=(Label(value=' 0.00MB of 0.00MB uploaded (0.00MB deduped)\\r'), FloatProgress(value=1.0, max=1.0)…"
      ]
     },
     "metadata": {},
     "output_type": "display_data"
    },
    {
     "data": {
      "text/html": [
       "Find user logs for this run at: <code>C:\\git\\wandb\\colabs\\wandb-log\\wandb\\run-20210729_215923-f9m06hij\\logs\\debug.log</code>"
      ],
      "text/plain": [
       "<IPython.core.display.HTML object>"
      ]
     },
     "metadata": {},
     "output_type": "display_data"
    },
    {
     "data": {
      "text/html": [
       "Find internal logs for this run at: <code>C:\\git\\wandb\\colabs\\wandb-log\\wandb\\run-20210729_215923-f9m06hij\\logs\\debug-internal.log</code>"
      ],
      "text/plain": [
       "<IPython.core.display.HTML object>"
      ]
     },
     "metadata": {},
     "output_type": "display_data"
    },
    {
     "data": {
      "text/html": [
       "<h3>Run summary:</h3><br/><style>\n",
       "    table.wandb td:nth-child(1) { padding: 0 10px; text-align: right }\n",
       "    </style><table class=\"wandb\">\n",
       "<tr><td>_runtime</td><td>8</td></tr><tr><td>_timestamp</td><td>1627563571</td></tr><tr><td>_step</td><td>0</td></tr></table>"
      ],
      "text/plain": [
       "<IPython.core.display.HTML object>"
      ]
     },
     "metadata": {},
     "output_type": "display_data"
    },
    {
     "data": {
      "text/html": [
       "<h3>Run history:</h3><br/><style>\n",
       "    table.wandb td:nth-child(1) { padding: 0 10px; text-align: right }\n",
       "    </style><table class=\"wandb\">\n",
       "<tr><td>_runtime</td><td>▁</td></tr><tr><td>_timestamp</td><td>▁</td></tr><tr><td>_step</td><td>▁</td></tr></table><br/>"
      ],
      "text/plain": [
       "<IPython.core.display.HTML object>"
      ]
     },
     "metadata": {},
     "output_type": "display_data"
    },
    {
     "data": {
      "text/html": [
       "Synced 4 W&B file(s), 1 media file(s), 0 artifact file(s) and 0 other file(s)"
      ],
      "text/plain": [
       "<IPython.core.display.HTML object>"
      ]
     },
     "metadata": {},
     "output_type": "display_data"
    },
    {
     "data": {
      "text/html": [
       "\n",
       "                    <br/>Synced <strong style=\"color:#cdcd00\">videos</strong>: <a href=\"https://wandb.ai/jaewooklee/visualize-predictions/runs/f9m06hij\" target=\"_blank\">https://wandb.ai/jaewooklee/visualize-predictions/runs/f9m06hij</a><br/>\n",
       "                "
      ],
      "text/plain": [
       "<IPython.core.display.HTML object>"
      ]
     },
     "metadata": {},
     "output_type": "display_data"
    }
   ],
   "source": [
    "# Initialize a new run\n",
    "wandb.init(project=\"visualize-predictions\", name=\"videos\")\n",
    "\n",
    "# Generate a video\n",
    "path_to_video = \"examples/data/openai-gym.mp4\"\n",
    "\n",
    "# Log the video\n",
    "wandb.log({\"video\": wandb.Video(path_to_video, fps=4, format=\"gif\")})\n",
    "\n",
    "wandb.finish()"
   ]
  },
  {
   "cell_type": "markdown",
   "metadata": {
    "id": "5gLp9Pq7mvc_"
   },
   "source": [
    "![](https://api.wandb.ai/files/lavanyashukla/visualize-predictions/0gv4owya/media/videos/openai-gym_89a16925.mp4)"
   ]
  },
  {
   "cell_type": "markdown",
   "metadata": {
    "id": "1WKfBkxbap2Y"
   },
   "source": [
    "# Log audio"
   ]
  },
  {
   "cell_type": "code",
   "execution_count": 21,
   "metadata": {
    "id": "2HIyG_Zoap2Y",
    "scrolled": true
   },
   "outputs": [
    {
     "data": {
      "text/html": [
       "\n",
       "                Tracking run with wandb version 0.11.0<br/>\n",
       "                Syncing run <strong style=\"color:#cdcd00\">audio</strong> to <a href=\"https://wandb.ai\" target=\"_blank\">Weights & Biases</a> <a href=\"https://docs.wandb.com/integrations/jupyter.html\" target=\"_blank\">(Documentation)</a>.<br/>\n",
       "                Project page: <a href=\"https://wandb.ai/jaewooklee/visualize-predictions\" target=\"_blank\">https://wandb.ai/jaewooklee/visualize-predictions</a><br/>\n",
       "                Run page: <a href=\"https://wandb.ai/jaewooklee/visualize-predictions/runs/1g8c7khp\" target=\"_blank\">https://wandb.ai/jaewooklee/visualize-predictions/runs/1g8c7khp</a><br/>\n",
       "                Run data is saved locally in <code>C:\\git\\wandb\\colabs\\wandb-log\\wandb\\run-20210729_220038-1g8c7khp</code><br/><br/>\n",
       "            "
      ],
      "text/plain": [
       "<IPython.core.display.HTML object>"
      ]
     },
     "metadata": {},
     "output_type": "display_data"
    },
    {
     "data": {
      "text/html": [
       "<br/>Waiting for W&B process to finish, PID 26420<br/>Program ended successfully."
      ],
      "text/plain": [
       "<IPython.core.display.HTML object>"
      ]
     },
     "metadata": {},
     "output_type": "display_data"
    },
    {
     "data": {
      "application/vnd.jupyter.widget-view+json": {
       "model_id": "",
       "version_major": 2,
       "version_minor": 0
      },
      "text/plain": [
       "VBox(children=(Label(value=' 0.00MB of 0.00MB uploaded (0.00MB deduped)\\r'), FloatProgress(value=1.0, max=1.0)…"
      ]
     },
     "metadata": {},
     "output_type": "display_data"
    },
    {
     "data": {
      "text/html": [
       "Find user logs for this run at: <code>C:\\git\\wandb\\colabs\\wandb-log\\wandb\\run-20210729_220038-1g8c7khp\\logs\\debug.log</code>"
      ],
      "text/plain": [
       "<IPython.core.display.HTML object>"
      ]
     },
     "metadata": {},
     "output_type": "display_data"
    },
    {
     "data": {
      "text/html": [
       "Find internal logs for this run at: <code>C:\\git\\wandb\\colabs\\wandb-log\\wandb\\run-20210729_220038-1g8c7khp\\logs\\debug-internal.log</code>"
      ],
      "text/plain": [
       "<IPython.core.display.HTML object>"
      ]
     },
     "metadata": {},
     "output_type": "display_data"
    },
    {
     "data": {
      "text/html": [
       "<h3>Run summary:</h3><br/><style>\n",
       "    table.wandb td:nth-child(1) { padding: 0 10px; text-align: right }\n",
       "    </style><table class=\"wandb\">\n",
       "<tr><td>_runtime</td><td>8</td></tr><tr><td>_timestamp</td><td>1627563646</td></tr><tr><td>_step</td><td>0</td></tr></table>"
      ],
      "text/plain": [
       "<IPython.core.display.HTML object>"
      ]
     },
     "metadata": {},
     "output_type": "display_data"
    },
    {
     "data": {
      "text/html": [
       "<h3>Run history:</h3><br/><style>\n",
       "    table.wandb td:nth-child(1) { padding: 0 10px; text-align: right }\n",
       "    </style><table class=\"wandb\">\n",
       "<tr><td>_runtime</td><td>▁</td></tr><tr><td>_timestamp</td><td>▁</td></tr><tr><td>_step</td><td>▁</td></tr></table><br/>"
      ],
      "text/plain": [
       "<IPython.core.display.HTML object>"
      ]
     },
     "metadata": {},
     "output_type": "display_data"
    },
    {
     "data": {
      "text/html": [
       "Synced 4 W&B file(s), 1 media file(s), 0 artifact file(s) and 0 other file(s)"
      ],
      "text/plain": [
       "<IPython.core.display.HTML object>"
      ]
     },
     "metadata": {},
     "output_type": "display_data"
    },
    {
     "data": {
      "text/html": [
       "\n",
       "                    <br/>Synced <strong style=\"color:#cdcd00\">audio</strong>: <a href=\"https://wandb.ai/jaewooklee/visualize-predictions/runs/1g8c7khp\" target=\"_blank\">https://wandb.ai/jaewooklee/visualize-predictions/runs/1g8c7khp</a><br/>\n",
       "                "
      ],
      "text/plain": [
       "<IPython.core.display.HTML object>"
      ]
     },
     "metadata": {},
     "output_type": "display_data"
    }
   ],
   "source": [
    "# Initialize a new run\n",
    "wandb.init(project=\"visualize-predictions\", name=\"audio\")\n",
    "\n",
    "# Generate audio data\n",
    "path_to_audio = \"examples/data/piano.wav\"\n",
    "\n",
    "# Log that audio data\n",
    "wandb.log({\"examples\":\n",
    "           [wandb.Audio(path_to_audio, caption=\"Piano\", sample_rate=32)]})\n",
    "\n",
    "wandb.finish()"
   ]
  },
  {
   "cell_type": "markdown",
   "metadata": {
    "id": "Hg4l-LNkap2a"
   },
   "source": [
    "# Log tables"
   ]
  },
  {
   "cell_type": "code",
   "execution_count": 22,
   "metadata": {
    "id": "MHJiftAoap2b"
   },
   "outputs": [
    {
     "data": {
      "text/html": [
       "\n",
       "                Tracking run with wandb version 0.11.0<br/>\n",
       "                Syncing run <strong style=\"color:#cdcd00\">tables</strong> to <a href=\"https://wandb.ai\" target=\"_blank\">Weights & Biases</a> <a href=\"https://docs.wandb.com/integrations/jupyter.html\" target=\"_blank\">(Documentation)</a>.<br/>\n",
       "                Project page: <a href=\"https://wandb.ai/jaewooklee/visualize-predictions\" target=\"_blank\">https://wandb.ai/jaewooklee/visualize-predictions</a><br/>\n",
       "                Run page: <a href=\"https://wandb.ai/jaewooklee/visualize-predictions/runs/2kpze9tv\" target=\"_blank\">https://wandb.ai/jaewooklee/visualize-predictions/runs/2kpze9tv</a><br/>\n",
       "                Run data is saved locally in <code>C:\\git\\wandb\\colabs\\wandb-log\\wandb\\run-20210729_220315-2kpze9tv</code><br/><br/>\n",
       "            "
      ],
      "text/plain": [
       "<IPython.core.display.HTML object>"
      ]
     },
     "metadata": {},
     "output_type": "display_data"
    },
    {
     "data": {
      "text/html": [
       "<br/>Waiting for W&B process to finish, PID 20148<br/>Program ended successfully."
      ],
      "text/plain": [
       "<IPython.core.display.HTML object>"
      ]
     },
     "metadata": {},
     "output_type": "display_data"
    },
    {
     "data": {
      "application/vnd.jupyter.widget-view+json": {
       "model_id": "",
       "version_major": 2,
       "version_minor": 0
      },
      "text/plain": [
       "VBox(children=(Label(value=' 0.00MB of 0.00MB uploaded (0.00MB deduped)\\r'), FloatProgress(value=1.0, max=1.0)…"
      ]
     },
     "metadata": {},
     "output_type": "display_data"
    },
    {
     "data": {
      "text/html": [
       "Find user logs for this run at: <code>C:\\git\\wandb\\colabs\\wandb-log\\wandb\\run-20210729_220315-2kpze9tv\\logs\\debug.log</code>"
      ],
      "text/plain": [
       "<IPython.core.display.HTML object>"
      ]
     },
     "metadata": {},
     "output_type": "display_data"
    },
    {
     "data": {
      "text/html": [
       "Find internal logs for this run at: <code>C:\\git\\wandb\\colabs\\wandb-log\\wandb\\run-20210729_220315-2kpze9tv\\logs\\debug-internal.log</code>"
      ],
      "text/plain": [
       "<IPython.core.display.HTML object>"
      ]
     },
     "metadata": {},
     "output_type": "display_data"
    },
    {
     "data": {
      "text/html": [
       "<h3>Run summary:</h3><br/><style>\n",
       "    table.wandb td:nth-child(1) { padding: 0 10px; text-align: right }\n",
       "    </style><table class=\"wandb\">\n",
       "<tr><td>_runtime</td><td>10</td></tr><tr><td>_timestamp</td><td>1627563805</td></tr><tr><td>_step</td><td>1</td></tr></table>"
      ],
      "text/plain": [
       "<IPython.core.display.HTML object>"
      ]
     },
     "metadata": {},
     "output_type": "display_data"
    },
    {
     "data": {
      "text/html": [
       "<h3>Run history:</h3><br/><style>\n",
       "    table.wandb td:nth-child(1) { padding: 0 10px; text-align: right }\n",
       "    </style><table class=\"wandb\">\n",
       "<tr><td>_runtime</td><td>▁█</td></tr><tr><td>_timestamp</td><td>▁█</td></tr><tr><td>_step</td><td>▁█</td></tr></table><br/>"
      ],
      "text/plain": [
       "<IPython.core.display.HTML object>"
      ]
     },
     "metadata": {},
     "output_type": "display_data"
    },
    {
     "data": {
      "text/html": [
       "Synced 4 W&B file(s), 2 media file(s), 1 artifact file(s) and 0 other file(s)"
      ],
      "text/plain": [
       "<IPython.core.display.HTML object>"
      ]
     },
     "metadata": {},
     "output_type": "display_data"
    },
    {
     "data": {
      "text/html": [
       "\n",
       "                    <br/>Synced <strong style=\"color:#cdcd00\">tables</strong>: <a href=\"https://wandb.ai/jaewooklee/visualize-predictions/runs/2kpze9tv\" target=\"_blank\">https://wandb.ai/jaewooklee/visualize-predictions/runs/2kpze9tv</a><br/>\n",
       "                "
      ],
      "text/plain": [
       "<IPython.core.display.HTML object>"
      ]
     },
     "metadata": {},
     "output_type": "display_data"
    }
   ],
   "source": [
    "# Initialize a new run\n",
    "wandb.init(project=\"visualize-predictions\", name=\"tables\")\n",
    "\n",
    "# Create tabular data, method 1\n",
    "data = [[\"I love my phone\", \"1\", \"1\"],[\"My phone sucks\", \"0\", \"-1\"]]\n",
    "wandb.log({\"a_table\": wandb.Table(data=data, columns=[\"Text\", \"Predicted Label\", \"True Label\"])})\n",
    "\n",
    "# Create tabular data, method 2\n",
    "table = wandb.Table(columns=[\"Text\", \"Predicted Label\", \"True Label\"])\n",
    "table.add_data(\"I love my phone\", \"1\", \"1\")\n",
    "table.add_data(\"My phone sucks\", \"0\", \"-1\")\n",
    "wandb.log({\"another_table\": table})\n",
    "\n",
    "wandb.finish()"
   ]
  },
  {
   "cell_type": "markdown",
   "metadata": {
    "id": "zSoxI_k0ap2d"
   },
   "source": [
    "# Log HTML"
   ]
  },
  {
   "cell_type": "code",
   "execution_count": null,
   "metadata": {
    "id": "c9GN9a8wap2e"
   },
   "outputs": [],
   "source": [
    "# Initialize a new run\n",
    "wandb.init(project=\"visualize-predictions\", name=\"html\")\n",
    "\n",
    "# Generate HTML data\n",
    "path_to_html = \"examples/examples/data/some_html.html\"\n",
    "\n",
    "# Log an HTML file\n",
    "wandb.log({\"custom_file\": wandb.Html(open(path_to_html))})\n",
    "\n",
    "# Log raw HTML strings\n",
    "wandb.log({\"custom_string\": wandb.Html('<a href=\"https://mysite\">Link</a>')})\n",
    "\n",
    "wandb.finish()"
   ]
  },
  {
   "cell_type": "markdown",
   "metadata": {
    "id": "gulwx9d8ap2i"
   },
   "source": [
    "# Log 3D Objects"
   ]
  },
  {
   "cell_type": "code",
   "execution_count": null,
   "metadata": {
    "id": "NQSvF7Uyap2j"
   },
   "outputs": [],
   "source": [
    "# Initialize a new run\n",
    "wandb.init(project=\"visualize-predictions\", name=\"3d_objects\")\n",
    "\n",
    "# Generate 3D object data\n",
    "path_to_obj = \"examples/examples/data/wolf.obj\"\n",
    "\n",
    "# Log the 3D object\n",
    "wandb.log({\"3d_object\": wandb.Object3D(open(path_to_obj))})\n",
    "\n",
    "wandb.finish()"
   ]
  },
  {
   "cell_type": "markdown",
   "metadata": {
    "id": "u8sRSqobap2l"
   },
   "source": [
    "# Log Point Clouds"
   ]
  },
  {
   "cell_type": "code",
   "execution_count": null,
   "metadata": {
    "id": "uq9AYzwGap2l"
   },
   "outputs": [],
   "source": [
    "# Initialize a new run\n",
    "wandb.init(project=\"visualize-predictions\", name=\"point_clouds\")\n",
    "\n",
    "# Generate a cloud of points\n",
    "points = np.random.uniform(size=(250, 3))\n",
    "\n",
    "# Log points and boxes in W&B\n",
    "wandb.log(\n",
    "        {\n",
    "            \"point_scene\": wandb.Object3D(\n",
    "                {\n",
    "                    \"type\": \"lidar/beta\",\n",
    "                    \"points\": points,\n",
    "                    \"boxes\": np.array(\n",
    "                        [\n",
    "                            {\n",
    "                                \"corners\": [\n",
    "                                    [0,0,0],\n",
    "                                    [0,1,0],\n",
    "                                    [0,0,1],\n",
    "                                    [1,0,0],\n",
    "                                    [1,1,0],\n",
    "                                    [0,1,1],\n",
    "                                    [1,0,1],\n",
    "                                    [1,1,1]\n",
    "                                ],\n",
    "                                \"label\": \"Box\",\n",
    "                                \"color\": [123,321,111],\n",
    "                            },\n",
    "                            {\n",
    "                                \"corners\": [\n",
    "                                    [0,0,0],\n",
    "                                    [0,2,0],\n",
    "                                    [0,0,2],\n",
    "                                    [2,0,0],\n",
    "                                    [2,2,0],\n",
    "                                    [0,2,2],\n",
    "                                    [2,0,2],\n",
    "                                    [2,2,2]\n",
    "                                ],\n",
    "                                \"label\": \"Box-2\",\n",
    "                                \"color\": [111,321,0],\n",
    "                            }\n",
    "                        ]\n",
    "                    ),\n",
    "                    \"vectors\": np.array([])\n",
    "                }\n",
    "            )\n",
    "        }\n",
    "    )\n",
    "\n",
    "wandb.finish()"
   ]
  },
  {
   "cell_type": "markdown",
   "metadata": {
    "id": "82Coc1Oaap2q"
   },
   "source": [
    "## More Resources\n",
    "Check out some other cool things you can do with Weights & Biases:\n",
    "* [Track model performance](https://app.wandb.ai/lavanyashukla/visualize-models/reports/Visualize-Model-Performance--Vmlldzo1NTk2MA)\n",
    "* [Visualize sklearn models](https://app.wandb.ai/lavanyashukla/visualize-sklearn/reports/Visualize-Sklearn-Model-Performance--Vmlldzo0ODIzNg)\n",
    "* [Visualize model predictions](https://app.wandb.ai/lavanyashukla/visualize-predictions/reports/Visualize-Model-Predictions--Vmlldzo1NjM4OA/)"
   ]
  }
 ],
 "metadata": {
  "accelerator": "GPU",
  "colab": {
   "collapsed_sections": [],
   "include_colab_link": true,
   "name": "Log (Almost) Anything with W&B Media.ipynb",
   "private_outputs": true,
   "provenance": []
  },
  "kernelspec": {
   "display_name": "Python 3",
   "language": "python",
   "name": "python3"
  },
  "language_info": {
   "codemirror_mode": {
    "name": "ipython",
    "version": 3
   },
   "file_extension": ".py",
   "mimetype": "text/x-python",
   "name": "python",
   "nbconvert_exporter": "python",
   "pygments_lexer": "ipython3",
   "version": "3.8.5"
  }
 },
 "nbformat": 4,
 "nbformat_minor": 1
}
