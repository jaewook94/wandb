{
  "nbformat": 4,
  "nbformat_minor": 0,
  "metadata": {
    "colab": {
      "name": "PyTorch Sweep",
      "provenance": [],
      "include_colab_link": true
    },
    "kernelspec": {
      "name": "python3",
      "display_name": "Python 3"
    },
    "accelerator": "GPU"
  },
  "cells": [
    {
      "cell_type": "markdown",
      "metadata": {
        "id": "view-in-github",
        "colab_type": "text"
      },
      "source": [
        "<a href=\"https://colab.research.google.com/github/jaewook94/wandb/blob/main/colabs/pytorch/PyTorch_Sweep.ipynb\" target=\"_parent\"><img src=\"https://colab.research.google.com/assets/colab-badge.svg\" alt=\"Open In Colab\"/></a>"
      ]
    },
    {
      "cell_type": "markdown",
      "metadata": {
        "id": "9o4tpBS8Q_7d"
      },
      "source": [
        "# Introduction to Hyperparameter Sweeps using W&B\n",
        "\n",
        "Searching through high dimensional hyperparameter spaces to find the most performant model can get unwieldy very fast. Hyperparameter sweeps provide an organized and efficient way to conduct a battle royale of models and pick the most accurate model. They enable this by automatically searching through combinations of hyperparameter values (e.g. learning rate, batch size, number of hidden layers, optimizer type) to find the most optimal values.\n",
        "\n",
        "In this tutorial we'll see how you can run sophisticated hyperparameter sweeps in 3 easy steps using Weights and Biases.\n",
        "\n",
        "![](https://i.imgur.com/WVKkMWw.png)\n",
        "\n",
        "## Sweeps: An Overview\n",
        "\n",
        "Running a hyperparameter sweep with Weights & Biases is very easy. There are just 3 simple steps:\n",
        "\n",
        "1. **Define the sweep:** we do this by creating a dictionary or a [YAML file](https://docs.wandb.com/library/sweeps/configuration) that specifies the parameters to search through, the search strategy, the optimization metric et all.\n",
        "\n",
        "2. **Initialize the sweep:** with one line of code we initialize the sweep and pass in the dictionary of sweep configurations:\n",
        "`sweep_id = wandb.sweep(sweep_config)`\n",
        "\n",
        "3. **Run the sweep agent:** also accomplished with one line of code, we call wandb.agent() and pass the sweep_id to run, along with a function that defines your model architecture and trains it:\n",
        "`wandb.agent(sweep_id, function=train)`\n",
        "\n",
        "And voila! That's all there is to running a hyperparameter sweep! In the notebook below, we'll walk through these 3 steps in more detail.\n",
        "\n",
        "\n",
        "We highly encourage you to fork this notebook, tweak the parameters, or try the model with your own dataset!\n",
        "\n",
        "## Resources\n",
        "- [Sweeps docs →](https://docs.wandb.com/library/sweeps)\n",
        "- [Launching from the command line →](https://www.wandb.com/articles/hyperparameter-tuning-as-easy-as-1-2-3)\n"
      ]
    },
    {
      "cell_type": "markdown",
      "metadata": {
        "id": "4sP5RVh2b7Tb"
      },
      "source": [
        "# Setup\n",
        "Start out by installing the experiment tracking library and setting up your free W&B account:\n",
        "\n",
        "\n",
        "*   **pip install wandb** – Install the W&B library\n",
        "*   **import wandb** – Import the wandb library"
      ]
    },
    {
      "cell_type": "code",
      "metadata": {
        "id": "yxVNlItW_YpC"
      },
      "source": [
        "!pip install wandb\n",
        "!wandb login"
      ],
      "execution_count": null,
      "outputs": []
    },
    {
      "cell_type": "markdown",
      "metadata": {
        "id": "0lt3pdawcASI"
      },
      "source": [
        "## 1. Define the Sweep\n",
        "\n",
        "Weights & Biases sweeps give you powerful levers to configure your sweeps exactly how you want them, with just a few lines of code. The sweeps config can be defined as a dictionary or a [YAML file](https://docs.wandb.com/library/sweeps).\n",
        "\n",
        "Let's walk through some of them together:\n",
        "*   **Metric** – This is the metric the sweeps are attempting to optimize. Metrics can take a `name` (this metric should be logged by your training script) and a `goal` (maximize or minimize). \n",
        "*   **Search Strategy** – Specified using the 'method' variable. We support several different search strategies with sweeps. \n",
        "  *   **Grid Search** – Iterates over every combination of hyperparameter values.\n",
        "  *   **Random Search** – Iterates over randomly chosen combinations of hyperparameter values.\n",
        "  *   **Bayesian Search** – Creates a probabilistic model that maps hyperparameters to probability of a metric score, and chooses parameters with high probability of improving the metric. The objective of Bayesian optimization is to spend more time in picking the hyperparameter values, but in doing so trying out fewer hyperparameter values.\n",
        "*   **Stopping Criteria** – The strategy for determining when to kill off poorly peforming runs, and try more combinations faster. We offer several custom scheduling algorithms like [HyperBand](https://arxiv.org/pdf/1603.06560.pdf) and Envelope.\n",
        "*   **Parameters** – A dictionary containing the hyperparameter names, and discreet values, max and min values or distributions from which to pull their values to sweep over.\n",
        "\n",
        "You can find a list of all configuration options [here](https://docs.wandb.com/library/sweeps/configuration)."
      ]
    },
    {
      "cell_type": "code",
      "metadata": {
        "id": "r4VjKui20N3j"
      },
      "source": [
        "import torch\n",
        "import torch.optim as optim\n",
        "import torch.nn.functional as F\n",
        "import torchvision.datasets as datasets\n",
        "import torch.nn as nn\n",
        "import wandb\n",
        "from torchvision import datasets, transforms"
      ],
      "execution_count": null,
      "outputs": []
    },
    {
      "cell_type": "code",
      "metadata": {
        "id": "G0jKcJON9ID2"
      },
      "source": [
        "sweep_config = {\n",
        "    'method': 'random', #grid, random\n",
        "    'metric': {\n",
        "      'name': 'loss',\n",
        "      'goal': 'minimize'   \n",
        "    },\n",
        "    'parameters': {\n",
        "        'epochs': {\n",
        "            'values': [2, 5, 10]\n",
        "        },\n",
        "        'batch_size': {\n",
        "            'values': [256, 128, 64, 32]\n",
        "        },\n",
        "        'dropout': {\n",
        "            'values': [0.3, 0.4, 0.5]\n",
        "        },\n",
        "        'learning_rate': {\n",
        "            'values': [1e-2, 1e-3, 1e-4, 3e-4, 3e-5, 1e-5]\n",
        "        },\n",
        "        'fc_layer_size':{\n",
        "            'values':[128,256,512]\n",
        "        },\n",
        "        'optimizer': {\n",
        "            'values': ['adam', 'sgd']\n",
        "        },\n",
        "    }\n",
        "}"
      ],
      "execution_count": null,
      "outputs": []
    },
    {
      "cell_type": "markdown",
      "metadata": {
        "id": "J6v7-Q7jdNEU"
      },
      "source": [
        "## 2. Initialize the Sweep"
      ]
    },
    {
      "cell_type": "code",
      "metadata": {
        "id": "cc-06shTB2Vz",
        "colab": {
          "base_uri": "https://localhost:8080/",
          "height": 52
        },
        "outputId": "da6d86fe-ba74-4187-a6bd-c9f1f427171d"
      },
      "source": [
        "sweep_id = wandb.sweep(sweep_config, project=\"Pytorch-sweeps\")"
      ],
      "execution_count": null,
      "outputs": [
        {
          "output_type": "stream",
          "text": [
            "Create sweep with ID: r0euelyr\n",
            "Sweep URL: https://app.wandb.ai/cayush/Pytorch-sweeps/sweeps/r0euelyr\n"
          ],
          "name": "stdout"
        }
      ]
    },
    {
      "cell_type": "code",
      "metadata": {
        "id": "yP5-kK6U6mQS"
      },
      "source": [
        "def build_dataset(batch_size):\n",
        "   transform=transforms.Compose([\n",
        "        transforms.ToTensor(),\n",
        "        transforms.Normalize((0.1307,), (0.3081,))\n",
        "        ])\n",
        "   dataset = datasets.MNIST('../data', train=True, download=True,\n",
        "                       transform=transform)\n",
        "   train_loader = torch.utils.data.DataLoader(dataset,batch_size=batch_size)\n",
        "\n",
        "   return train_loader"
      ],
      "execution_count": null,
      "outputs": []
    },
    {
      "cell_type": "markdown",
      "metadata": {
        "id": "d3cPz_DmdSJy"
      },
      "source": [
        "### Define Your Neural Network\n",
        "Before we can run the sweep, let's define a function that creates and trains our neural network.\n",
        "\n",
        "In the function below, we define a simple fully-connected neural network in Pytorch, and add the following lines of code to log models metrics, visualize performance and output and track our experiments easily:\n",
        "*   **wandb.init()** – Initialize a new W&B run. Each run is single execution of the training script.\n",
        "*   **wandb.config** – Save all your hyperparameters in a config object. This lets you use our app to sort and compare your runs by hyperparameter values.\n",
        "*   **wandb.log()** – Logs custom objects – these can be images, videos, audio files, HTML, plots, point clouds etc. Here we use wandb.log to log images of Simpson characters overlaid with actual and predicted labels."
      ]
    },
    {
      "cell_type": "code",
      "metadata": {
        "id": "uFyNryERzckd"
      },
      "source": [
        "\n",
        "def train():\n",
        "    # Default values for hyper-parameters we're going to sweep over\n",
        "    config_defaults = {\n",
        "        'epochs': 5,\n",
        "        'batch_size': 128,\n",
        "        'learning_rate': 1e-3,\n",
        "        'optimizer': 'adam',\n",
        "        'fc_layer_size': 128,\n",
        "        'dropout': 0.5,\n",
        "    }\n",
        "    device = torch.device(\"cuda\" if torch.cuda.is_available() else \"cpu\")\n",
        "\n",
        "    # Initialize a new wandb run\n",
        "    wandb.init(config=config_defaults)\n",
        "    \n",
        "    # Config is a variable that holds and saves hyperparameters and inputs\n",
        "    config = wandb.config\n",
        "    \n",
        "    # Define the model architecture - This is a simplified version of the VGG19 architecture\n",
        "    network = nn.Sequential(\n",
        "     nn.Flatten(start_dim=1)\n",
        "    ,nn.Linear(784, config.fc_layer_size)\n",
        "    ,nn.ReLU()\n",
        "    ,nn.Dropout(config.dropout)\n",
        "    ,nn.Linear(config.fc_layer_size, 10)\n",
        "    ,nn.LogSoftmax(dim=1)\n",
        "     )\n",
        "    train_loader = build_dataset(config.batch_size)\n",
        "    # Set of Conv2D, Conv2D, MaxPooling2D layers with 32 and 64 filters\n",
        "\n",
        "    # Define the optimizer\n",
        "    if config.optimizer=='sgd':\n",
        "      optimizer = optim.SGD(network.parameters(),lr=config.learning_rate, momentum=0.9)\n",
        "    elif config.optimizer=='adam':\n",
        "      optimizer = optim.Adam(network.parameters(),lr=config.learning_rate)\n",
        "\n",
        "    network.train()\n",
        "    network = network.to(device)\n",
        "    for i in range(config.epochs):\n",
        "      closs= 0\n",
        "      for batch_idx, (data, target) in enumerate(train_loader):\n",
        "          data, target = data.to(device), target.to(device)\n",
        "          optimizer.zero_grad()\n",
        "          output = network(data)\n",
        "          loss = F.nll_loss(output, target)\n",
        "          loss.backward()\n",
        "          closs = closs + loss.item()\n",
        "          optimizer.step()\n",
        "          wandb.log({\"batch loss\":loss.item()})\n",
        "      wandb.log({\"loss\":closs/config.batch_size}) "
      ],
      "execution_count": null,
      "outputs": []
    },
    {
      "cell_type": "markdown",
      "metadata": {
        "id": "nlkILpCrddRp"
      },
      "source": [
        "## 3. Run the sweep agent"
      ]
    },
    {
      "cell_type": "code",
      "metadata": {
        "id": "rHpan13W6UZD",
        "colab": {
          "base_uri": "https://localhost:8080/",
          "height": 1000
        },
        "outputId": "65e78abd-a42a-41a1-b2c6-8ac53c5a7d8b"
      },
      "source": [
        "wandb.agent(sweep_id, train)"
      ],
      "execution_count": null,
      "outputs": [
        {
          "output_type": "stream",
          "text": [
            "wandb: Agent Starting Run: pb0oc2eg with config:\n",
            "\tbatch_size: 256\n",
            "\tdropout: 0.5\n",
            "\tepochs: 10\n",
            "\tfc_layer_size: 256\n",
            "\tlearning_rate: 3e-05\n",
            "\toptimizer: adam\n",
            "wandb: Agent Started Run: pb0oc2eg\n"
          ],
          "name": "stdout"
        },
        {
          "output_type": "display_data",
          "data": {
            "text/html": [
              "\n",
              "                Logging results to <a href=\"https://wandb.com\" target=\"_blank\">Weights & Biases</a> <a href=\"https://docs.wandb.com/integrations/jupyter.html\" target=\"_blank\">(Documentation)</a>.<br/>\n",
              "                Project page: <a href=\"https://app.wandb.ai/cayush/Pytorch-sweeps\" target=\"_blank\">https://app.wandb.ai/cayush/Pytorch-sweeps</a><br/>\n",
              "                Sweep page: <a href=\"https://app.wandb.ai/cayush/Pytorch-sweeps/sweeps/r0euelyr\" target=\"_blank\">https://app.wandb.ai/cayush/Pytorch-sweeps/sweeps/r0euelyr</a><br/>\n",
              "Run page: <a href=\"https://app.wandb.ai/cayush/Pytorch-sweeps/runs/pb0oc2eg\" target=\"_blank\">https://app.wandb.ai/cayush/Pytorch-sweeps/runs/pb0oc2eg</a><br/>\n",
              "            "
            ],
            "text/plain": [
              "<IPython.core.display.HTML object>"
            ]
          },
          "metadata": {
            "tags": []
          }
        },
        {
          "output_type": "stream",
          "text": [
            "wandb: Agent Finished Run: pb0oc2eg \n",
            "\n",
            "wandb: Agent Starting Run: kysb24w1 with config:\n",
            "\tbatch_size: 256\n",
            "\tdropout: 0.4\n",
            "\tepochs: 5\n",
            "\tfc_layer_size: 128\n",
            "\tlearning_rate: 0.0001\n",
            "\toptimizer: sgd\n",
            "wandb: Agent Started Run: kysb24w1\n"
          ],
          "name": "stdout"
        },
        {
          "output_type": "display_data",
          "data": {
            "text/html": [
              "\n",
              "                Logging results to <a href=\"https://wandb.com\" target=\"_blank\">Weights & Biases</a> <a href=\"https://docs.wandb.com/integrations/jupyter.html\" target=\"_blank\">(Documentation)</a>.<br/>\n",
              "                Project page: <a href=\"https://app.wandb.ai/cayush/Pytorch-sweeps\" target=\"_blank\">https://app.wandb.ai/cayush/Pytorch-sweeps</a><br/>\n",
              "                Sweep page: <a href=\"https://app.wandb.ai/cayush/Pytorch-sweeps/sweeps/r0euelyr\" target=\"_blank\">https://app.wandb.ai/cayush/Pytorch-sweeps/sweeps/r0euelyr</a><br/>\n",
              "Run page: <a href=\"https://app.wandb.ai/cayush/Pytorch-sweeps/runs/kysb24w1\" target=\"_blank\">https://app.wandb.ai/cayush/Pytorch-sweeps/runs/kysb24w1</a><br/>\n",
              "            "
            ],
            "text/plain": [
              "<IPython.core.display.HTML object>"
            ]
          },
          "metadata": {
            "tags": []
          }
        },
        {
          "output_type": "stream",
          "text": [
            "wandb: Agent Finished Run: kysb24w1 \n",
            "\n",
            "wandb: Agent Starting Run: 082c1mih with config:\n",
            "\tbatch_size: 256\n",
            "\tdropout: 0.4\n",
            "\tepochs: 2\n",
            "\tfc_layer_size: 128\n",
            "\tlearning_rate: 0.001\n",
            "\toptimizer: adam\n",
            "wandb: Agent Started Run: 082c1mih\n"
          ],
          "name": "stdout"
        },
        {
          "output_type": "display_data",
          "data": {
            "text/html": [
              "\n",
              "                Logging results to <a href=\"https://wandb.com\" target=\"_blank\">Weights & Biases</a> <a href=\"https://docs.wandb.com/integrations/jupyter.html\" target=\"_blank\">(Documentation)</a>.<br/>\n",
              "                Project page: <a href=\"https://app.wandb.ai/cayush/Pytorch-sweeps\" target=\"_blank\">https://app.wandb.ai/cayush/Pytorch-sweeps</a><br/>\n",
              "                Sweep page: <a href=\"https://app.wandb.ai/cayush/Pytorch-sweeps/sweeps/r0euelyr\" target=\"_blank\">https://app.wandb.ai/cayush/Pytorch-sweeps/sweeps/r0euelyr</a><br/>\n",
              "Run page: <a href=\"https://app.wandb.ai/cayush/Pytorch-sweeps/runs/082c1mih\" target=\"_blank\">https://app.wandb.ai/cayush/Pytorch-sweeps/runs/082c1mih</a><br/>\n",
              "            "
            ],
            "text/plain": [
              "<IPython.core.display.HTML object>"
            ]
          },
          "metadata": {
            "tags": []
          }
        },
        {
          "output_type": "stream",
          "text": [
            "wandb: Agent Finished Run: 082c1mih \n",
            "\n",
            "wandb: Agent Starting Run: hf80cq0i with config:\n",
            "\tbatch_size: 256\n",
            "\tdropout: 0.5\n",
            "\tepochs: 5\n",
            "\tfc_layer_size: 256\n",
            "\tlearning_rate: 3e-05\n",
            "\toptimizer: adam\n",
            "wandb: Agent Started Run: hf80cq0i\n"
          ],
          "name": "stdout"
        },
        {
          "output_type": "display_data",
          "data": {
            "text/html": [
              "\n",
              "                Logging results to <a href=\"https://wandb.com\" target=\"_blank\">Weights & Biases</a> <a href=\"https://docs.wandb.com/integrations/jupyter.html\" target=\"_blank\">(Documentation)</a>.<br/>\n",
              "                Project page: <a href=\"https://app.wandb.ai/cayush/Pytorch-sweeps\" target=\"_blank\">https://app.wandb.ai/cayush/Pytorch-sweeps</a><br/>\n",
              "                Sweep page: <a href=\"https://app.wandb.ai/cayush/Pytorch-sweeps/sweeps/r0euelyr\" target=\"_blank\">https://app.wandb.ai/cayush/Pytorch-sweeps/sweeps/r0euelyr</a><br/>\n",
              "Run page: <a href=\"https://app.wandb.ai/cayush/Pytorch-sweeps/runs/hf80cq0i\" target=\"_blank\">https://app.wandb.ai/cayush/Pytorch-sweeps/runs/hf80cq0i</a><br/>\n",
              "            "
            ],
            "text/plain": [
              "<IPython.core.display.HTML object>"
            ]
          },
          "metadata": {
            "tags": []
          }
        },
        {
          "output_type": "stream",
          "text": [
            "wandb: Agent Finished Run: hf80cq0i \n",
            "\n",
            "wandb: Agent Starting Run: 4iyjwh7s with config:\n",
            "\tbatch_size: 128\n",
            "\tdropout: 0.4\n",
            "\tepochs: 2\n",
            "\tfc_layer_size: 256\n",
            "\tlearning_rate: 1e-05\n",
            "\toptimizer: sgd\n",
            "wandb: Agent Started Run: 4iyjwh7s\n"
          ],
          "name": "stdout"
        },
        {
          "output_type": "display_data",
          "data": {
            "text/html": [
              "\n",
              "                Logging results to <a href=\"https://wandb.com\" target=\"_blank\">Weights & Biases</a> <a href=\"https://docs.wandb.com/integrations/jupyter.html\" target=\"_blank\">(Documentation)</a>.<br/>\n",
              "                Project page: <a href=\"https://app.wandb.ai/cayush/Pytorch-sweeps\" target=\"_blank\">https://app.wandb.ai/cayush/Pytorch-sweeps</a><br/>\n",
              "                Sweep page: <a href=\"https://app.wandb.ai/cayush/Pytorch-sweeps/sweeps/r0euelyr\" target=\"_blank\">https://app.wandb.ai/cayush/Pytorch-sweeps/sweeps/r0euelyr</a><br/>\n",
              "Run page: <a href=\"https://app.wandb.ai/cayush/Pytorch-sweeps/runs/4iyjwh7s\" target=\"_blank\">https://app.wandb.ai/cayush/Pytorch-sweeps/runs/4iyjwh7s</a><br/>\n",
              "            "
            ],
            "text/plain": [
              "<IPython.core.display.HTML object>"
            ]
          },
          "metadata": {
            "tags": []
          }
        },
        {
          "output_type": "stream",
          "text": [
            "wandb: Agent Finished Run: 4iyjwh7s \n",
            "\n",
            "wandb: Agent Starting Run: 804pk8dx with config:\n",
            "\tbatch_size: 256\n",
            "\tdropout: 0.5\n",
            "\tepochs: 2\n",
            "\tfc_layer_size: 128\n",
            "\tlearning_rate: 0.01\n",
            "\toptimizer: adam\n",
            "wandb: Agent Started Run: 804pk8dx\n"
          ],
          "name": "stdout"
        },
        {
          "output_type": "display_data",
          "data": {
            "text/html": [
              "\n",
              "                Logging results to <a href=\"https://wandb.com\" target=\"_blank\">Weights & Biases</a> <a href=\"https://docs.wandb.com/integrations/jupyter.html\" target=\"_blank\">(Documentation)</a>.<br/>\n",
              "                Project page: <a href=\"https://app.wandb.ai/cayush/Pytorch-sweeps\" target=\"_blank\">https://app.wandb.ai/cayush/Pytorch-sweeps</a><br/>\n",
              "                Sweep page: <a href=\"https://app.wandb.ai/cayush/Pytorch-sweeps/sweeps/r0euelyr\" target=\"_blank\">https://app.wandb.ai/cayush/Pytorch-sweeps/sweeps/r0euelyr</a><br/>\n",
              "Run page: <a href=\"https://app.wandb.ai/cayush/Pytorch-sweeps/runs/804pk8dx\" target=\"_blank\">https://app.wandb.ai/cayush/Pytorch-sweeps/runs/804pk8dx</a><br/>\n",
              "            "
            ],
            "text/plain": [
              "<IPython.core.display.HTML object>"
            ]
          },
          "metadata": {
            "tags": []
          }
        },
        {
          "output_type": "stream",
          "text": [
            "wandb: Agent Finished Run: 804pk8dx \n",
            "\n",
            "wandb: Agent Starting Run: xycsnmiw with config:\n",
            "\tbatch_size: 64\n",
            "\tdropout: 0.3\n",
            "\tepochs: 5\n",
            "\tfc_layer_size: 128\n",
            "\tlearning_rate: 0.0003\n",
            "\toptimizer: adam\n",
            "wandb: Agent Started Run: xycsnmiw\n"
          ],
          "name": "stdout"
        },
        {
          "output_type": "display_data",
          "data": {
            "text/html": [
              "\n",
              "                Logging results to <a href=\"https://wandb.com\" target=\"_blank\">Weights & Biases</a> <a href=\"https://docs.wandb.com/integrations/jupyter.html\" target=\"_blank\">(Documentation)</a>.<br/>\n",
              "                Project page: <a href=\"https://app.wandb.ai/cayush/Pytorch-sweeps\" target=\"_blank\">https://app.wandb.ai/cayush/Pytorch-sweeps</a><br/>\n",
              "                Sweep page: <a href=\"https://app.wandb.ai/cayush/Pytorch-sweeps/sweeps/r0euelyr\" target=\"_blank\">https://app.wandb.ai/cayush/Pytorch-sweeps/sweeps/r0euelyr</a><br/>\n",
              "Run page: <a href=\"https://app.wandb.ai/cayush/Pytorch-sweeps/runs/xycsnmiw\" target=\"_blank\">https://app.wandb.ai/cayush/Pytorch-sweeps/runs/xycsnmiw</a><br/>\n",
              "            "
            ],
            "text/plain": [
              "<IPython.core.display.HTML object>"
            ]
          },
          "metadata": {
            "tags": []
          }
        },
        {
          "output_type": "stream",
          "text": [
            "wandb: Agent Finished Run: xycsnmiw \n",
            "\n",
            "wandb: Agent Starting Run: pfz9mroq with config:\n",
            "\tbatch_size: 64\n",
            "\tdropout: 0.3\n",
            "\tepochs: 5\n",
            "\tfc_layer_size: 512\n",
            "\tlearning_rate: 1e-05\n",
            "\toptimizer: sgd\n",
            "wandb: Agent Started Run: pfz9mroq\n"
          ],
          "name": "stdout"
        },
        {
          "output_type": "display_data",
          "data": {
            "text/html": [
              "\n",
              "                Logging results to <a href=\"https://wandb.com\" target=\"_blank\">Weights & Biases</a> <a href=\"https://docs.wandb.com/integrations/jupyter.html\" target=\"_blank\">(Documentation)</a>.<br/>\n",
              "                Project page: <a href=\"https://app.wandb.ai/cayush/Pytorch-sweeps\" target=\"_blank\">https://app.wandb.ai/cayush/Pytorch-sweeps</a><br/>\n",
              "                Sweep page: <a href=\"https://app.wandb.ai/cayush/Pytorch-sweeps/sweeps/r0euelyr\" target=\"_blank\">https://app.wandb.ai/cayush/Pytorch-sweeps/sweeps/r0euelyr</a><br/>\n",
              "Run page: <a href=\"https://app.wandb.ai/cayush/Pytorch-sweeps/runs/pfz9mroq\" target=\"_blank\">https://app.wandb.ai/cayush/Pytorch-sweeps/runs/pfz9mroq</a><br/>\n",
              "            "
            ],
            "text/plain": [
              "<IPython.core.display.HTML object>"
            ]
          },
          "metadata": {
            "tags": []
          }
        },
        {
          "output_type": "stream",
          "text": [
            "wandb: Agent Finished Run: pfz9mroq \n",
            "\n",
            "wandb: Agent Starting Run: 0knyx730 with config:\n",
            "\tbatch_size: 128\n",
            "\tdropout: 0.5\n",
            "\tepochs: 2\n",
            "\tfc_layer_size: 128\n",
            "\tlearning_rate: 1e-05\n",
            "\toptimizer: sgd\n",
            "wandb: Agent Started Run: 0knyx730\n"
          ],
          "name": "stdout"
        },
        {
          "output_type": "display_data",
          "data": {
            "text/html": [
              "\n",
              "                Logging results to <a href=\"https://wandb.com\" target=\"_blank\">Weights & Biases</a> <a href=\"https://docs.wandb.com/integrations/jupyter.html\" target=\"_blank\">(Documentation)</a>.<br/>\n",
              "                Project page: <a href=\"https://app.wandb.ai/cayush/Pytorch-sweeps\" target=\"_blank\">https://app.wandb.ai/cayush/Pytorch-sweeps</a><br/>\n",
              "                Sweep page: <a href=\"https://app.wandb.ai/cayush/Pytorch-sweeps/sweeps/r0euelyr\" target=\"_blank\">https://app.wandb.ai/cayush/Pytorch-sweeps/sweeps/r0euelyr</a><br/>\n",
              "Run page: <a href=\"https://app.wandb.ai/cayush/Pytorch-sweeps/runs/0knyx730\" target=\"_blank\">https://app.wandb.ai/cayush/Pytorch-sweeps/runs/0knyx730</a><br/>\n",
              "            "
            ],
            "text/plain": [
              "<IPython.core.display.HTML object>"
            ]
          },
          "metadata": {
            "tags": []
          }
        },
        {
          "output_type": "stream",
          "text": [
            "wandb: Agent Finished Run: 0knyx730 \n",
            "\n",
            "wandb: Agent Starting Run: 8k1aj4jx with config:\n",
            "\tbatch_size: 128\n",
            "\tdropout: 0.4\n",
            "\tepochs: 5\n",
            "\tfc_layer_size: 256\n",
            "\tlearning_rate: 1e-05\n",
            "\toptimizer: adam\n",
            "wandb: Agent Started Run: 8k1aj4jx\n"
          ],
          "name": "stdout"
        },
        {
          "output_type": "display_data",
          "data": {
            "text/html": [
              "\n",
              "                Logging results to <a href=\"https://wandb.com\" target=\"_blank\">Weights & Biases</a> <a href=\"https://docs.wandb.com/integrations/jupyter.html\" target=\"_blank\">(Documentation)</a>.<br/>\n",
              "                Project page: <a href=\"https://app.wandb.ai/cayush/Pytorch-sweeps\" target=\"_blank\">https://app.wandb.ai/cayush/Pytorch-sweeps</a><br/>\n",
              "                Sweep page: <a href=\"https://app.wandb.ai/cayush/Pytorch-sweeps/sweeps/r0euelyr\" target=\"_blank\">https://app.wandb.ai/cayush/Pytorch-sweeps/sweeps/r0euelyr</a><br/>\n",
              "Run page: <a href=\"https://app.wandb.ai/cayush/Pytorch-sweeps/runs/8k1aj4jx\" target=\"_blank\">https://app.wandb.ai/cayush/Pytorch-sweeps/runs/8k1aj4jx</a><br/>\n",
              "            "
            ],
            "text/plain": [
              "<IPython.core.display.HTML object>"
            ]
          },
          "metadata": {
            "tags": []
          }
        },
        {
          "output_type": "stream",
          "text": [
            "wandb: Agent Finished Run: 8k1aj4jx \n",
            "\n",
            "wandb: Agent Starting Run: l33u2ow4 with config:\n",
            "\tbatch_size: 256\n",
            "\tdropout: 0.3\n",
            "\tepochs: 5\n",
            "\tfc_layer_size: 256\n",
            "\tlearning_rate: 0.0003\n",
            "\toptimizer: sgd\n",
            "wandb: Agent Started Run: l33u2ow4\n"
          ],
          "name": "stdout"
        },
        {
          "output_type": "display_data",
          "data": {
            "text/html": [
              "\n",
              "                Logging results to <a href=\"https://wandb.com\" target=\"_blank\">Weights & Biases</a> <a href=\"https://docs.wandb.com/integrations/jupyter.html\" target=\"_blank\">(Documentation)</a>.<br/>\n",
              "                Project page: <a href=\"https://app.wandb.ai/cayush/Pytorch-sweeps\" target=\"_blank\">https://app.wandb.ai/cayush/Pytorch-sweeps</a><br/>\n",
              "                Sweep page: <a href=\"https://app.wandb.ai/cayush/Pytorch-sweeps/sweeps/r0euelyr\" target=\"_blank\">https://app.wandb.ai/cayush/Pytorch-sweeps/sweeps/r0euelyr</a><br/>\n",
              "Run page: <a href=\"https://app.wandb.ai/cayush/Pytorch-sweeps/runs/l33u2ow4\" target=\"_blank\">https://app.wandb.ai/cayush/Pytorch-sweeps/runs/l33u2ow4</a><br/>\n",
              "            "
            ],
            "text/plain": [
              "<IPython.core.display.HTML object>"
            ]
          },
          "metadata": {
            "tags": []
          }
        },
        {
          "output_type": "stream",
          "text": [
            "wandb: Agent Finished Run: l33u2ow4 \n",
            "\n",
            "wandb: Agent Starting Run: 8wea75tg with config:\n",
            "\tbatch_size: 32\n",
            "\tdropout: 0.4\n",
            "\tepochs: 2\n",
            "\tfc_layer_size: 128\n",
            "\tlearning_rate: 3e-05\n",
            "\toptimizer: sgd\n",
            "wandb: Agent Started Run: 8wea75tg\n"
          ],
          "name": "stdout"
        },
        {
          "output_type": "display_data",
          "data": {
            "text/html": [
              "\n",
              "                Logging results to <a href=\"https://wandb.com\" target=\"_blank\">Weights & Biases</a> <a href=\"https://docs.wandb.com/integrations/jupyter.html\" target=\"_blank\">(Documentation)</a>.<br/>\n",
              "                Project page: <a href=\"https://app.wandb.ai/cayush/Pytorch-sweeps\" target=\"_blank\">https://app.wandb.ai/cayush/Pytorch-sweeps</a><br/>\n",
              "                Sweep page: <a href=\"https://app.wandb.ai/cayush/Pytorch-sweeps/sweeps/r0euelyr\" target=\"_blank\">https://app.wandb.ai/cayush/Pytorch-sweeps/sweeps/r0euelyr</a><br/>\n",
              "Run page: <a href=\"https://app.wandb.ai/cayush/Pytorch-sweeps/runs/8wea75tg\" target=\"_blank\">https://app.wandb.ai/cayush/Pytorch-sweeps/runs/8wea75tg</a><br/>\n",
              "            "
            ],
            "text/plain": [
              "<IPython.core.display.HTML object>"
            ]
          },
          "metadata": {
            "tags": []
          }
        },
        {
          "output_type": "stream",
          "text": [
            "wandb: Agent Finished Run: 8wea75tg \n",
            "\n",
            "wandb: Agent Starting Run: 3085z4pp with config:\n",
            "\tbatch_size: 256\n",
            "\tdropout: 0.4\n",
            "\tepochs: 10\n",
            "\tfc_layer_size: 512\n",
            "\tlearning_rate: 0.0001\n",
            "\toptimizer: sgd\n",
            "wandb: Agent Started Run: 3085z4pp\n"
          ],
          "name": "stdout"
        },
        {
          "output_type": "display_data",
          "data": {
            "text/html": [
              "\n",
              "                Logging results to <a href=\"https://wandb.com\" target=\"_blank\">Weights & Biases</a> <a href=\"https://docs.wandb.com/integrations/jupyter.html\" target=\"_blank\">(Documentation)</a>.<br/>\n",
              "                Project page: <a href=\"https://app.wandb.ai/cayush/Pytorch-sweeps\" target=\"_blank\">https://app.wandb.ai/cayush/Pytorch-sweeps</a><br/>\n",
              "                Sweep page: <a href=\"https://app.wandb.ai/cayush/Pytorch-sweeps/sweeps/r0euelyr\" target=\"_blank\">https://app.wandb.ai/cayush/Pytorch-sweeps/sweeps/r0euelyr</a><br/>\n",
              "Run page: <a href=\"https://app.wandb.ai/cayush/Pytorch-sweeps/runs/3085z4pp\" target=\"_blank\">https://app.wandb.ai/cayush/Pytorch-sweeps/runs/3085z4pp</a><br/>\n",
              "            "
            ],
            "text/plain": [
              "<IPython.core.display.HTML object>"
            ]
          },
          "metadata": {
            "tags": []
          }
        },
        {
          "output_type": "stream",
          "text": [
            "wandb: Agent Finished Run: 3085z4pp \n",
            "\n",
            "wandb: Agent Starting Run: dq2n9qew with config:\n",
            "\tbatch_size: 32\n",
            "\tdropout: 0.5\n",
            "\tepochs: 5\n",
            "\tfc_layer_size: 256\n",
            "\tlearning_rate: 0.0003\n",
            "\toptimizer: adam\n",
            "wandb: Agent Started Run: dq2n9qew\n"
          ],
          "name": "stdout"
        },
        {
          "output_type": "display_data",
          "data": {
            "text/html": [
              "\n",
              "                Logging results to <a href=\"https://wandb.com\" target=\"_blank\">Weights & Biases</a> <a href=\"https://docs.wandb.com/integrations/jupyter.html\" target=\"_blank\">(Documentation)</a>.<br/>\n",
              "                Project page: <a href=\"https://app.wandb.ai/cayush/Pytorch-sweeps\" target=\"_blank\">https://app.wandb.ai/cayush/Pytorch-sweeps</a><br/>\n",
              "                Sweep page: <a href=\"https://app.wandb.ai/cayush/Pytorch-sweeps/sweeps/r0euelyr\" target=\"_blank\">https://app.wandb.ai/cayush/Pytorch-sweeps/sweeps/r0euelyr</a><br/>\n",
              "Run page: <a href=\"https://app.wandb.ai/cayush/Pytorch-sweeps/runs/dq2n9qew\" target=\"_blank\">https://app.wandb.ai/cayush/Pytorch-sweeps/runs/dq2n9qew</a><br/>\n",
              "            "
            ],
            "text/plain": [
              "<IPython.core.display.HTML object>"
            ]
          },
          "metadata": {
            "tags": []
          }
        },
        {
          "output_type": "stream",
          "text": [
            "wandb: Agent Finished Run: dq2n9qew \n",
            "\n",
            "wandb: Agent Starting Run: 5he0ufms with config:\n",
            "\tbatch_size: 32\n",
            "\tdropout: 0.3\n",
            "\tepochs: 10\n",
            "\tfc_layer_size: 128\n",
            "\tlearning_rate: 0.0003\n",
            "\toptimizer: sgd\n",
            "wandb: Agent Started Run: 5he0ufms\n"
          ],
          "name": "stdout"
        },
        {
          "output_type": "display_data",
          "data": {
            "text/html": [
              "\n",
              "                Logging results to <a href=\"https://wandb.com\" target=\"_blank\">Weights & Biases</a> <a href=\"https://docs.wandb.com/integrations/jupyter.html\" target=\"_blank\">(Documentation)</a>.<br/>\n",
              "                Project page: <a href=\"https://app.wandb.ai/cayush/Pytorch-sweeps\" target=\"_blank\">https://app.wandb.ai/cayush/Pytorch-sweeps</a><br/>\n",
              "                Sweep page: <a href=\"https://app.wandb.ai/cayush/Pytorch-sweeps/sweeps/r0euelyr\" target=\"_blank\">https://app.wandb.ai/cayush/Pytorch-sweeps/sweeps/r0euelyr</a><br/>\n",
              "Run page: <a href=\"https://app.wandb.ai/cayush/Pytorch-sweeps/runs/5he0ufms\" target=\"_blank\">https://app.wandb.ai/cayush/Pytorch-sweeps/runs/5he0ufms</a><br/>\n",
              "            "
            ],
            "text/plain": [
              "<IPython.core.display.HTML object>"
            ]
          },
          "metadata": {
            "tags": []
          }
        },
        {
          "output_type": "stream",
          "text": [
            "wandb: Agent Finished Run: 5he0ufms \n",
            "\n",
            "wandb: Agent Starting Run: x4y53xhh with config:\n",
            "\tbatch_size: 128\n",
            "\tdropout: 0.4\n",
            "\tepochs: 10\n",
            "\tfc_layer_size: 256\n",
            "\tlearning_rate: 0.01\n",
            "\toptimizer: sgd\n",
            "wandb: Agent Started Run: x4y53xhh\n"
          ],
          "name": "stdout"
        },
        {
          "output_type": "display_data",
          "data": {
            "text/html": [
              "\n",
              "                Logging results to <a href=\"https://wandb.com\" target=\"_blank\">Weights & Biases</a> <a href=\"https://docs.wandb.com/integrations/jupyter.html\" target=\"_blank\">(Documentation)</a>.<br/>\n",
              "                Project page: <a href=\"https://app.wandb.ai/cayush/Pytorch-sweeps\" target=\"_blank\">https://app.wandb.ai/cayush/Pytorch-sweeps</a><br/>\n",
              "                Sweep page: <a href=\"https://app.wandb.ai/cayush/Pytorch-sweeps/sweeps/r0euelyr\" target=\"_blank\">https://app.wandb.ai/cayush/Pytorch-sweeps/sweeps/r0euelyr</a><br/>\n",
              "Run page: <a href=\"https://app.wandb.ai/cayush/Pytorch-sweeps/runs/x4y53xhh\" target=\"_blank\">https://app.wandb.ai/cayush/Pytorch-sweeps/runs/x4y53xhh</a><br/>\n",
              "            "
            ],
            "text/plain": [
              "<IPython.core.display.HTML object>"
            ]
          },
          "metadata": {
            "tags": []
          }
        },
        {
          "output_type": "stream",
          "text": [
            "wandb: Agent Finished Run: x4y53xhh \n",
            "\n",
            "wandb: Agent Starting Run: 6rr7rwui with config:\n",
            "\tbatch_size: 128\n",
            "\tdropout: 0.5\n",
            "\tepochs: 10\n",
            "\tfc_layer_size: 256\n",
            "\tlearning_rate: 1e-05\n",
            "\toptimizer: adam\n",
            "wandb: Agent Started Run: 6rr7rwui\n"
          ],
          "name": "stdout"
        },
        {
          "output_type": "display_data",
          "data": {
            "text/html": [
              "\n",
              "                Logging results to <a href=\"https://wandb.com\" target=\"_blank\">Weights & Biases</a> <a href=\"https://docs.wandb.com/integrations/jupyter.html\" target=\"_blank\">(Documentation)</a>.<br/>\n",
              "                Project page: <a href=\"https://app.wandb.ai/cayush/Pytorch-sweeps\" target=\"_blank\">https://app.wandb.ai/cayush/Pytorch-sweeps</a><br/>\n",
              "                Sweep page: <a href=\"https://app.wandb.ai/cayush/Pytorch-sweeps/sweeps/r0euelyr\" target=\"_blank\">https://app.wandb.ai/cayush/Pytorch-sweeps/sweeps/r0euelyr</a><br/>\n",
              "Run page: <a href=\"https://app.wandb.ai/cayush/Pytorch-sweeps/runs/6rr7rwui\" target=\"_blank\">https://app.wandb.ai/cayush/Pytorch-sweeps/runs/6rr7rwui</a><br/>\n",
              "            "
            ],
            "text/plain": [
              "<IPython.core.display.HTML object>"
            ]
          },
          "metadata": {
            "tags": []
          }
        },
        {
          "output_type": "stream",
          "text": [
            "wandb: Agent Finished Run: 6rr7rwui \n",
            "\n",
            "wandb: Agent Starting Run: r58ihnwe with config:\n",
            "\tbatch_size: 64\n",
            "\tdropout: 0.5\n",
            "\tepochs: 5\n",
            "\tfc_layer_size: 512\n",
            "\tlearning_rate: 3e-05\n",
            "\toptimizer: sgd\n",
            "wandb: Agent Started Run: r58ihnwe\n"
          ],
          "name": "stdout"
        },
        {
          "output_type": "display_data",
          "data": {
            "text/html": [
              "\n",
              "                Logging results to <a href=\"https://wandb.com\" target=\"_blank\">Weights & Biases</a> <a href=\"https://docs.wandb.com/integrations/jupyter.html\" target=\"_blank\">(Documentation)</a>.<br/>\n",
              "                Project page: <a href=\"https://app.wandb.ai/cayush/Pytorch-sweeps\" target=\"_blank\">https://app.wandb.ai/cayush/Pytorch-sweeps</a><br/>\n",
              "                Sweep page: <a href=\"https://app.wandb.ai/cayush/Pytorch-sweeps/sweeps/r0euelyr\" target=\"_blank\">https://app.wandb.ai/cayush/Pytorch-sweeps/sweeps/r0euelyr</a><br/>\n",
              "Run page: <a href=\"https://app.wandb.ai/cayush/Pytorch-sweeps/runs/r58ihnwe\" target=\"_blank\">https://app.wandb.ai/cayush/Pytorch-sweeps/runs/r58ihnwe</a><br/>\n",
              "            "
            ],
            "text/plain": [
              "<IPython.core.display.HTML object>"
            ]
          },
          "metadata": {
            "tags": []
          }
        },
        {
          "output_type": "stream",
          "text": [
            "wandb: Agent Finished Run: r58ihnwe \n",
            "\n",
            "wandb: Agent Starting Run: xz1bi8dd with config:\n",
            "\tbatch_size: 128\n",
            "\tdropout: 0.3\n",
            "\tepochs: 5\n",
            "\tfc_layer_size: 256\n",
            "\tlearning_rate: 0.001\n",
            "\toptimizer: adam\n",
            "wandb: Agent Started Run: xz1bi8dd\n"
          ],
          "name": "stdout"
        },
        {
          "output_type": "display_data",
          "data": {
            "text/html": [
              "\n",
              "                Logging results to <a href=\"https://wandb.com\" target=\"_blank\">Weights & Biases</a> <a href=\"https://docs.wandb.com/integrations/jupyter.html\" target=\"_blank\">(Documentation)</a>.<br/>\n",
              "                Project page: <a href=\"https://app.wandb.ai/cayush/Pytorch-sweeps\" target=\"_blank\">https://app.wandb.ai/cayush/Pytorch-sweeps</a><br/>\n",
              "                Sweep page: <a href=\"https://app.wandb.ai/cayush/Pytorch-sweeps/sweeps/r0euelyr\" target=\"_blank\">https://app.wandb.ai/cayush/Pytorch-sweeps/sweeps/r0euelyr</a><br/>\n",
              "Run page: <a href=\"https://app.wandb.ai/cayush/Pytorch-sweeps/runs/xz1bi8dd\" target=\"_blank\">https://app.wandb.ai/cayush/Pytorch-sweeps/runs/xz1bi8dd</a><br/>\n",
              "            "
            ],
            "text/plain": [
              "<IPython.core.display.HTML object>"
            ]
          },
          "metadata": {
            "tags": []
          }
        },
        {
          "output_type": "stream",
          "text": [
            "wandb: Agent Finished Run: xz1bi8dd \n",
            "\n",
            "wandb: Agent Starting Run: 4e3inc3g with config:\n",
            "\tbatch_size: 64\n",
            "\tdropout: 0.5\n",
            "\tepochs: 10\n",
            "\tfc_layer_size: 128\n",
            "\tlearning_rate: 1e-05\n",
            "\toptimizer: sgd\n",
            "wandb: Agent Started Run: 4e3inc3g\n"
          ],
          "name": "stdout"
        },
        {
          "output_type": "display_data",
          "data": {
            "text/html": [
              "\n",
              "                Logging results to <a href=\"https://wandb.com\" target=\"_blank\">Weights & Biases</a> <a href=\"https://docs.wandb.com/integrations/jupyter.html\" target=\"_blank\">(Documentation)</a>.<br/>\n",
              "                Project page: <a href=\"https://app.wandb.ai/cayush/Pytorch-sweeps\" target=\"_blank\">https://app.wandb.ai/cayush/Pytorch-sweeps</a><br/>\n",
              "                Sweep page: <a href=\"https://app.wandb.ai/cayush/Pytorch-sweeps/sweeps/r0euelyr\" target=\"_blank\">https://app.wandb.ai/cayush/Pytorch-sweeps/sweeps/r0euelyr</a><br/>\n",
              "Run page: <a href=\"https://app.wandb.ai/cayush/Pytorch-sweeps/runs/4e3inc3g\" target=\"_blank\">https://app.wandb.ai/cayush/Pytorch-sweeps/runs/4e3inc3g</a><br/>\n",
              "            "
            ],
            "text/plain": [
              "<IPython.core.display.HTML object>"
            ]
          },
          "metadata": {
            "tags": []
          }
        },
        {
          "output_type": "stream",
          "text": [
            "wandb: Agent Finished Run: 4e3inc3g \n",
            "\n",
            "wandb: Agent Starting Run: etuwbwj9 with config:\n",
            "\tbatch_size: 32\n",
            "\tdropout: 0.5\n",
            "\tepochs: 5\n",
            "\tfc_layer_size: 512\n",
            "\tlearning_rate: 0.001\n",
            "\toptimizer: sgd\n",
            "wandb: Agent Started Run: etuwbwj9\n"
          ],
          "name": "stdout"
        },
        {
          "output_type": "display_data",
          "data": {
            "text/html": [
              "\n",
              "                Logging results to <a href=\"https://wandb.com\" target=\"_blank\">Weights & Biases</a> <a href=\"https://docs.wandb.com/integrations/jupyter.html\" target=\"_blank\">(Documentation)</a>.<br/>\n",
              "                Project page: <a href=\"https://app.wandb.ai/cayush/Pytorch-sweeps\" target=\"_blank\">https://app.wandb.ai/cayush/Pytorch-sweeps</a><br/>\n",
              "                Sweep page: <a href=\"https://app.wandb.ai/cayush/Pytorch-sweeps/sweeps/r0euelyr\" target=\"_blank\">https://app.wandb.ai/cayush/Pytorch-sweeps/sweeps/r0euelyr</a><br/>\n",
              "Run page: <a href=\"https://app.wandb.ai/cayush/Pytorch-sweeps/runs/etuwbwj9\" target=\"_blank\">https://app.wandb.ai/cayush/Pytorch-sweeps/runs/etuwbwj9</a><br/>\n",
              "            "
            ],
            "text/plain": [
              "<IPython.core.display.HTML object>"
            ]
          },
          "metadata": {
            "tags": []
          }
        },
        {
          "output_type": "stream",
          "text": [
            "wandb: Agent Finished Run: etuwbwj9 \n",
            "\n",
            "wandb: Agent Starting Run: 0uc0y4mi with config:\n",
            "\tbatch_size: 256\n",
            "\tdropout: 0.3\n",
            "\tepochs: 2\n",
            "\tfc_layer_size: 256\n",
            "\tlearning_rate: 0.0003\n",
            "\toptimizer: sgd\n",
            "wandb: Agent Started Run: 0uc0y4mi\n"
          ],
          "name": "stdout"
        },
        {
          "output_type": "display_data",
          "data": {
            "text/html": [
              "\n",
              "                Logging results to <a href=\"https://wandb.com\" target=\"_blank\">Weights & Biases</a> <a href=\"https://docs.wandb.com/integrations/jupyter.html\" target=\"_blank\">(Documentation)</a>.<br/>\n",
              "                Project page: <a href=\"https://app.wandb.ai/cayush/Pytorch-sweeps\" target=\"_blank\">https://app.wandb.ai/cayush/Pytorch-sweeps</a><br/>\n",
              "                Sweep page: <a href=\"https://app.wandb.ai/cayush/Pytorch-sweeps/sweeps/r0euelyr\" target=\"_blank\">https://app.wandb.ai/cayush/Pytorch-sweeps/sweeps/r0euelyr</a><br/>\n",
              "Run page: <a href=\"https://app.wandb.ai/cayush/Pytorch-sweeps/runs/0uc0y4mi\" target=\"_blank\">https://app.wandb.ai/cayush/Pytorch-sweeps/runs/0uc0y4mi</a><br/>\n",
              "            "
            ],
            "text/plain": [
              "<IPython.core.display.HTML object>"
            ]
          },
          "metadata": {
            "tags": []
          }
        },
        {
          "output_type": "stream",
          "text": [
            "wandb: Agent Finished Run: 0uc0y4mi \n",
            "\n",
            "wandb: Agent Starting Run: z55mwb8w with config:\n",
            "\tbatch_size: 128\n",
            "\tdropout: 0.3\n",
            "\tepochs: 5\n",
            "\tfc_layer_size: 128\n",
            "\tlearning_rate: 0.0001\n",
            "\toptimizer: adam\n",
            "wandb: Agent Started Run: z55mwb8w\n"
          ],
          "name": "stdout"
        },
        {
          "output_type": "display_data",
          "data": {
            "text/html": [
              "\n",
              "                Logging results to <a href=\"https://wandb.com\" target=\"_blank\">Weights & Biases</a> <a href=\"https://docs.wandb.com/integrations/jupyter.html\" target=\"_blank\">(Documentation)</a>.<br/>\n",
              "                Project page: <a href=\"https://app.wandb.ai/cayush/Pytorch-sweeps\" target=\"_blank\">https://app.wandb.ai/cayush/Pytorch-sweeps</a><br/>\n",
              "                Sweep page: <a href=\"https://app.wandb.ai/cayush/Pytorch-sweeps/sweeps/r0euelyr\" target=\"_blank\">https://app.wandb.ai/cayush/Pytorch-sweeps/sweeps/r0euelyr</a><br/>\n",
              "Run page: <a href=\"https://app.wandb.ai/cayush/Pytorch-sweeps/runs/z55mwb8w\" target=\"_blank\">https://app.wandb.ai/cayush/Pytorch-sweeps/runs/z55mwb8w</a><br/>\n",
              "            "
            ],
            "text/plain": [
              "<IPython.core.display.HTML object>"
            ]
          },
          "metadata": {
            "tags": []
          }
        },
        {
          "output_type": "stream",
          "text": [
            "wandb: Agent Finished Run: z55mwb8w \n",
            "\n",
            "wandb: Agent Starting Run: fzyz8wy9 with config:\n",
            "\tbatch_size: 64\n",
            "\tdropout: 0.3\n",
            "\tepochs: 10\n",
            "\tfc_layer_size: 128\n",
            "\tlearning_rate: 3e-05\n",
            "\toptimizer: sgd\n",
            "wandb: Agent Started Run: fzyz8wy9\n"
          ],
          "name": "stdout"
        },
        {
          "output_type": "display_data",
          "data": {
            "text/html": [
              "\n",
              "                Logging results to <a href=\"https://wandb.com\" target=\"_blank\">Weights & Biases</a> <a href=\"https://docs.wandb.com/integrations/jupyter.html\" target=\"_blank\">(Documentation)</a>.<br/>\n",
              "                Project page: <a href=\"https://app.wandb.ai/cayush/Pytorch-sweeps\" target=\"_blank\">https://app.wandb.ai/cayush/Pytorch-sweeps</a><br/>\n",
              "                Sweep page: <a href=\"https://app.wandb.ai/cayush/Pytorch-sweeps/sweeps/r0euelyr\" target=\"_blank\">https://app.wandb.ai/cayush/Pytorch-sweeps/sweeps/r0euelyr</a><br/>\n",
              "Run page: <a href=\"https://app.wandb.ai/cayush/Pytorch-sweeps/runs/fzyz8wy9\" target=\"_blank\">https://app.wandb.ai/cayush/Pytorch-sweeps/runs/fzyz8wy9</a><br/>\n",
              "            "
            ],
            "text/plain": [
              "<IPython.core.display.HTML object>"
            ]
          },
          "metadata": {
            "tags": []
          }
        },
        {
          "output_type": "stream",
          "text": [
            "wandb: Agent Finished Run: fzyz8wy9 \n",
            "\n"
          ],
          "name": "stdout"
        },
        {
          "output_type": "stream",
          "text": [
            "Retry attempt failed:\n",
            "Traceback (most recent call last):\n",
            "  File \"/usr/local/lib/python3.6/dist-packages/urllib3/connectionpool.py\", line 384, in _make_request\n",
            "    six.raise_from(e, None)\n",
            "  File \"<string>\", line 2, in raise_from\n",
            "  File \"/usr/local/lib/python3.6/dist-packages/urllib3/connectionpool.py\", line 380, in _make_request\n",
            "    httplib_response = conn.getresponse()\n",
            "  File \"/usr/lib/python3.6/http/client.py\", line 1356, in getresponse\n",
            "    response.begin()\n",
            "  File \"/usr/lib/python3.6/http/client.py\", line 307, in begin\n",
            "    version, status, reason = self._read_status()\n",
            "  File \"/usr/lib/python3.6/http/client.py\", line 268, in _read_status\n",
            "    line = str(self.fp.readline(_MAXLINE + 1), \"iso-8859-1\")\n",
            "  File \"/usr/lib/python3.6/socket.py\", line 586, in readinto\n",
            "    return self._sock.recv_into(b)\n",
            "  File \"/usr/lib/python3.6/ssl.py\", line 1012, in recv_into\n",
            "    return self.read(nbytes, buffer)\n",
            "  File \"/usr/lib/python3.6/ssl.py\", line 874, in read\n",
            "    return self._sslobj.read(len, buffer)\n",
            "  File \"/usr/lib/python3.6/ssl.py\", line 631, in read\n",
            "    v = self._sslobj.read(len, buffer)\n",
            "socket.timeout: The read operation timed out\n",
            "\n",
            "During handling of the above exception, another exception occurred:\n",
            "\n",
            "Traceback (most recent call last):\n",
            "  File \"/usr/local/lib/python3.6/dist-packages/requests/adapters.py\", line 449, in send\n",
            "    timeout=timeout\n",
            "  File \"/usr/local/lib/python3.6/dist-packages/urllib3/connectionpool.py\", line 638, in urlopen\n",
            "    _stacktrace=sys.exc_info()[2])\n",
            "  File \"/usr/local/lib/python3.6/dist-packages/urllib3/util/retry.py\", line 368, in increment\n",
            "    raise six.reraise(type(error), error, _stacktrace)\n",
            "  File \"/usr/local/lib/python3.6/dist-packages/urllib3/packages/six.py\", line 686, in reraise\n",
            "    raise value\n",
            "  File \"/usr/local/lib/python3.6/dist-packages/urllib3/connectionpool.py\", line 600, in urlopen\n",
            "    chunked=chunked)\n",
            "  File \"/usr/local/lib/python3.6/dist-packages/urllib3/connectionpool.py\", line 386, in _make_request\n",
            "    self._raise_timeout(err=e, url=url, timeout_value=read_timeout)\n",
            "  File \"/usr/local/lib/python3.6/dist-packages/urllib3/connectionpool.py\", line 306, in _raise_timeout\n",
            "    raise ReadTimeoutError(self, url, \"Read timed out. (read timeout=%s)\" % timeout_value)\n",
            "urllib3.exceptions.ReadTimeoutError: HTTPSConnectionPool(host='api.wandb.ai', port=443): Read timed out. (read timeout=10)\n",
            "\n",
            "During handling of the above exception, another exception occurred:\n",
            "\n",
            "Traceback (most recent call last):\n",
            "  File \"/usr/local/lib/python3.6/dist-packages/wandb/retry.py\", line 95, in __call__\n",
            "    result = self._call_fn(*args, **kwargs)\n",
            "  File \"/usr/local/lib/python3.6/dist-packages/wandb/apis/internal.py\", line 108, in execute\n",
            "    return self.client.execute(*args, **kwargs)\n",
            "  File \"/usr/local/lib/python3.6/dist-packages/gql/client.py\", line 52, in execute\n",
            "    result = self._get_result(document, *args, **kwargs)\n",
            "  File \"/usr/local/lib/python3.6/dist-packages/gql/client.py\", line 60, in _get_result\n",
            "    return self.transport.execute(document, *args, **kwargs)\n",
            "  File \"/usr/local/lib/python3.6/dist-packages/gql/transport/requests.py\", line 38, in execute\n",
            "    request = requests.post(self.url, **post_args)\n",
            "  File \"/usr/local/lib/python3.6/dist-packages/requests/api.py\", line 119, in post\n",
            "    return request('post', url, data=data, json=json, **kwargs)\n",
            "  File \"/usr/local/lib/python3.6/dist-packages/requests/api.py\", line 61, in request\n",
            "    return session.request(method=method, url=url, **kwargs)\n",
            "  File \"/usr/local/lib/python3.6/dist-packages/requests/sessions.py\", line 530, in request\n",
            "    resp = self.send(prep, **send_kwargs)\n",
            "  File \"/usr/local/lib/python3.6/dist-packages/requests/sessions.py\", line 643, in send\n",
            "    r = adapter.send(request, **kwargs)\n",
            "  File \"/usr/local/lib/python3.6/dist-packages/requests/adapters.py\", line 529, in send\n",
            "    raise ReadTimeout(e, request=request)\n",
            "requests.exceptions.ReadTimeout: HTTPSConnectionPool(host='api.wandb.ai', port=443): Read timed out. (read timeout=10)\n",
            "\u001b[34m\u001b[1mwandb\u001b[0m: Network error (ReadTimeout), entering retry loop. See /content/wandb/debug.log for full traceback.\n",
            "\u001b[34m\u001b[1mwandb\u001b[0m: Network error resolved after 0:00:57.138232, resuming normal operation.\n"
          ],
          "name": "stderr"
        },
        {
          "output_type": "stream",
          "text": [
            "wandb: Agent Starting Run: 3u1g55f0 with config:\n",
            "\tbatch_size: 32\n",
            "\tdropout: 0.4\n",
            "\tepochs: 5\n",
            "\tfc_layer_size: 128\n",
            "\tlearning_rate: 0.0001\n",
            "\toptimizer: sgd\n",
            "wandb: Agent Started Run: 3u1g55f0\n"
          ],
          "name": "stdout"
        },
        {
          "output_type": "display_data",
          "data": {
            "text/html": [
              "\n",
              "                Logging results to <a href=\"https://wandb.com\" target=\"_blank\">Weights & Biases</a> <a href=\"https://docs.wandb.com/integrations/jupyter.html\" target=\"_blank\">(Documentation)</a>.<br/>\n",
              "                Project page: <a href=\"https://app.wandb.ai/cayush/Pytorch-sweeps\" target=\"_blank\">https://app.wandb.ai/cayush/Pytorch-sweeps</a><br/>\n",
              "                Sweep page: <a href=\"https://app.wandb.ai/cayush/Pytorch-sweeps/sweeps/r0euelyr\" target=\"_blank\">https://app.wandb.ai/cayush/Pytorch-sweeps/sweeps/r0euelyr</a><br/>\n",
              "Run page: <a href=\"https://app.wandb.ai/cayush/Pytorch-sweeps/runs/3u1g55f0\" target=\"_blank\">https://app.wandb.ai/cayush/Pytorch-sweeps/runs/3u1g55f0</a><br/>\n",
              "            "
            ],
            "text/plain": [
              "<IPython.core.display.HTML object>"
            ]
          },
          "metadata": {
            "tags": []
          }
        },
        {
          "output_type": "stream",
          "text": [
            "wandb: Agent Finished Run: 3u1g55f0 \n",
            "\n",
            "wandb: Agent Starting Run: m0vs77k8 with config:\n",
            "\tbatch_size: 32\n",
            "\tdropout: 0.3\n",
            "\tepochs: 2\n",
            "\tfc_layer_size: 128\n",
            "\tlearning_rate: 0.0001\n",
            "\toptimizer: sgd\n",
            "wandb: Agent Started Run: m0vs77k8\n"
          ],
          "name": "stdout"
        },
        {
          "output_type": "display_data",
          "data": {
            "text/html": [
              "\n",
              "                Logging results to <a href=\"https://wandb.com\" target=\"_blank\">Weights & Biases</a> <a href=\"https://docs.wandb.com/integrations/jupyter.html\" target=\"_blank\">(Documentation)</a>.<br/>\n",
              "                Project page: <a href=\"https://app.wandb.ai/cayush/Pytorch-sweeps\" target=\"_blank\">https://app.wandb.ai/cayush/Pytorch-sweeps</a><br/>\n",
              "                Sweep page: <a href=\"https://app.wandb.ai/cayush/Pytorch-sweeps/sweeps/r0euelyr\" target=\"_blank\">https://app.wandb.ai/cayush/Pytorch-sweeps/sweeps/r0euelyr</a><br/>\n",
              "Run page: <a href=\"https://app.wandb.ai/cayush/Pytorch-sweeps/runs/m0vs77k8\" target=\"_blank\">https://app.wandb.ai/cayush/Pytorch-sweeps/runs/m0vs77k8</a><br/>\n",
              "            "
            ],
            "text/plain": [
              "<IPython.core.display.HTML object>"
            ]
          },
          "metadata": {
            "tags": []
          }
        },
        {
          "output_type": "stream",
          "text": [
            "wandb: Agent Finished Run: m0vs77k8 \n",
            "\n",
            "wandb: Agent Starting Run: dws7zofl with config:\n",
            "\tbatch_size: 64\n",
            "\tdropout: 0.5\n",
            "\tepochs: 2\n",
            "\tfc_layer_size: 512\n",
            "\tlearning_rate: 0.01\n",
            "\toptimizer: sgd\n",
            "wandb: Agent Started Run: dws7zofl\n"
          ],
          "name": "stdout"
        },
        {
          "output_type": "display_data",
          "data": {
            "text/html": [
              "\n",
              "                Logging results to <a href=\"https://wandb.com\" target=\"_blank\">Weights & Biases</a> <a href=\"https://docs.wandb.com/integrations/jupyter.html\" target=\"_blank\">(Documentation)</a>.<br/>\n",
              "                Project page: <a href=\"https://app.wandb.ai/cayush/Pytorch-sweeps\" target=\"_blank\">https://app.wandb.ai/cayush/Pytorch-sweeps</a><br/>\n",
              "                Sweep page: <a href=\"https://app.wandb.ai/cayush/Pytorch-sweeps/sweeps/r0euelyr\" target=\"_blank\">https://app.wandb.ai/cayush/Pytorch-sweeps/sweeps/r0euelyr</a><br/>\n",
              "Run page: <a href=\"https://app.wandb.ai/cayush/Pytorch-sweeps/runs/dws7zofl\" target=\"_blank\">https://app.wandb.ai/cayush/Pytorch-sweeps/runs/dws7zofl</a><br/>\n",
              "            "
            ],
            "text/plain": [
              "<IPython.core.display.HTML object>"
            ]
          },
          "metadata": {
            "tags": []
          }
        },
        {
          "output_type": "stream",
          "text": [
            "wandb: Agent Finished Run: dws7zofl \n",
            "\n",
            "wandb: Agent Starting Run: tuy30758 with config:\n",
            "\tbatch_size: 64\n",
            "\tdropout: 0.4\n",
            "\tepochs: 2\n",
            "\tfc_layer_size: 128\n",
            "\tlearning_rate: 0.01\n",
            "\toptimizer: adam\n",
            "wandb: Agent Started Run: tuy30758\n"
          ],
          "name": "stdout"
        },
        {
          "output_type": "display_data",
          "data": {
            "text/html": [
              "\n",
              "                Logging results to <a href=\"https://wandb.com\" target=\"_blank\">Weights & Biases</a> <a href=\"https://docs.wandb.com/integrations/jupyter.html\" target=\"_blank\">(Documentation)</a>.<br/>\n",
              "                Project page: <a href=\"https://app.wandb.ai/cayush/Pytorch-sweeps\" target=\"_blank\">https://app.wandb.ai/cayush/Pytorch-sweeps</a><br/>\n",
              "                Sweep page: <a href=\"https://app.wandb.ai/cayush/Pytorch-sweeps/sweeps/r0euelyr\" target=\"_blank\">https://app.wandb.ai/cayush/Pytorch-sweeps/sweeps/r0euelyr</a><br/>\n",
              "Run page: <a href=\"https://app.wandb.ai/cayush/Pytorch-sweeps/runs/tuy30758\" target=\"_blank\">https://app.wandb.ai/cayush/Pytorch-sweeps/runs/tuy30758</a><br/>\n",
              "            "
            ],
            "text/plain": [
              "<IPython.core.display.HTML object>"
            ]
          },
          "metadata": {
            "tags": []
          }
        },
        {
          "output_type": "stream",
          "text": [
            "wandb: Agent Finished Run: tuy30758 \n",
            "\n",
            "wandb: Agent Starting Run: kxiq26wx with config:\n",
            "\tbatch_size: 256\n",
            "\tdropout: 0.3\n",
            "\tepochs: 2\n",
            "\tfc_layer_size: 256\n",
            "\tlearning_rate: 0.001\n",
            "\toptimizer: adam\n",
            "wandb: Agent Started Run: kxiq26wx\n"
          ],
          "name": "stdout"
        },
        {
          "output_type": "display_data",
          "data": {
            "text/html": [
              "\n",
              "                Logging results to <a href=\"https://wandb.com\" target=\"_blank\">Weights & Biases</a> <a href=\"https://docs.wandb.com/integrations/jupyter.html\" target=\"_blank\">(Documentation)</a>.<br/>\n",
              "                Project page: <a href=\"https://app.wandb.ai/cayush/Pytorch-sweeps\" target=\"_blank\">https://app.wandb.ai/cayush/Pytorch-sweeps</a><br/>\n",
              "                Sweep page: <a href=\"https://app.wandb.ai/cayush/Pytorch-sweeps/sweeps/r0euelyr\" target=\"_blank\">https://app.wandb.ai/cayush/Pytorch-sweeps/sweeps/r0euelyr</a><br/>\n",
              "Run page: <a href=\"https://app.wandb.ai/cayush/Pytorch-sweeps/runs/kxiq26wx\" target=\"_blank\">https://app.wandb.ai/cayush/Pytorch-sweeps/runs/kxiq26wx</a><br/>\n",
              "            "
            ],
            "text/plain": [
              "<IPython.core.display.HTML object>"
            ]
          },
          "metadata": {
            "tags": []
          }
        },
        {
          "output_type": "stream",
          "text": [
            "wandb: Agent Finished Run: kxiq26wx \n",
            "\n",
            "wandb: Agent Starting Run: n2x6gjls with config:\n",
            "\tbatch_size: 32\n",
            "\tdropout: 0.5\n",
            "\tepochs: 10\n",
            "\tfc_layer_size: 512\n",
            "\tlearning_rate: 0.0001\n",
            "\toptimizer: sgd\n",
            "wandb: Agent Started Run: n2x6gjls\n"
          ],
          "name": "stdout"
        },
        {
          "output_type": "display_data",
          "data": {
            "text/html": [
              "\n",
              "                Logging results to <a href=\"https://wandb.com\" target=\"_blank\">Weights & Biases</a> <a href=\"https://docs.wandb.com/integrations/jupyter.html\" target=\"_blank\">(Documentation)</a>.<br/>\n",
              "                Project page: <a href=\"https://app.wandb.ai/cayush/Pytorch-sweeps\" target=\"_blank\">https://app.wandb.ai/cayush/Pytorch-sweeps</a><br/>\n",
              "                Sweep page: <a href=\"https://app.wandb.ai/cayush/Pytorch-sweeps/sweeps/r0euelyr\" target=\"_blank\">https://app.wandb.ai/cayush/Pytorch-sweeps/sweeps/r0euelyr</a><br/>\n",
              "Run page: <a href=\"https://app.wandb.ai/cayush/Pytorch-sweeps/runs/n2x6gjls\" target=\"_blank\">https://app.wandb.ai/cayush/Pytorch-sweeps/runs/n2x6gjls</a><br/>\n",
              "            "
            ],
            "text/plain": [
              "<IPython.core.display.HTML object>"
            ]
          },
          "metadata": {
            "tags": []
          }
        },
        {
          "output_type": "stream",
          "text": [
            "wandb: Agent Finished Run: n2x6gjls \n",
            "\n",
            "wandb: Agent Starting Run: a2l4lg8n with config:\n",
            "\tbatch_size: 64\n",
            "\tdropout: 0.4\n",
            "\tepochs: 2\n",
            "\tfc_layer_size: 256\n",
            "\tlearning_rate: 0.001\n",
            "\toptimizer: sgd\n",
            "wandb: Agent Started Run: a2l4lg8n\n"
          ],
          "name": "stdout"
        },
        {
          "output_type": "display_data",
          "data": {
            "text/html": [
              "\n",
              "                Logging results to <a href=\"https://wandb.com\" target=\"_blank\">Weights & Biases</a> <a href=\"https://docs.wandb.com/integrations/jupyter.html\" target=\"_blank\">(Documentation)</a>.<br/>\n",
              "                Project page: <a href=\"https://app.wandb.ai/cayush/Pytorch-sweeps\" target=\"_blank\">https://app.wandb.ai/cayush/Pytorch-sweeps</a><br/>\n",
              "                Sweep page: <a href=\"https://app.wandb.ai/cayush/Pytorch-sweeps/sweeps/r0euelyr\" target=\"_blank\">https://app.wandb.ai/cayush/Pytorch-sweeps/sweeps/r0euelyr</a><br/>\n",
              "Run page: <a href=\"https://app.wandb.ai/cayush/Pytorch-sweeps/runs/a2l4lg8n\" target=\"_blank\">https://app.wandb.ai/cayush/Pytorch-sweeps/runs/a2l4lg8n</a><br/>\n",
              "            "
            ],
            "text/plain": [
              "<IPython.core.display.HTML object>"
            ]
          },
          "metadata": {
            "tags": []
          }
        },
        {
          "output_type": "stream",
          "text": [
            "wandb: Agent Finished Run: a2l4lg8n \n",
            "\n",
            "wandb: Agent Starting Run: jo8zsirg with config:\n",
            "\tbatch_size: 64\n",
            "\tdropout: 0.4\n",
            "\tepochs: 5\n",
            "\tfc_layer_size: 256\n",
            "\tlearning_rate: 1e-05\n",
            "\toptimizer: sgd\n",
            "wandb: Agent Started Run: jo8zsirg\n"
          ],
          "name": "stdout"
        },
        {
          "output_type": "display_data",
          "data": {
            "text/html": [
              "\n",
              "                Logging results to <a href=\"https://wandb.com\" target=\"_blank\">Weights & Biases</a> <a href=\"https://docs.wandb.com/integrations/jupyter.html\" target=\"_blank\">(Documentation)</a>.<br/>\n",
              "                Project page: <a href=\"https://app.wandb.ai/cayush/Pytorch-sweeps\" target=\"_blank\">https://app.wandb.ai/cayush/Pytorch-sweeps</a><br/>\n",
              "                Sweep page: <a href=\"https://app.wandb.ai/cayush/Pytorch-sweeps/sweeps/r0euelyr\" target=\"_blank\">https://app.wandb.ai/cayush/Pytorch-sweeps/sweeps/r0euelyr</a><br/>\n",
              "Run page: <a href=\"https://app.wandb.ai/cayush/Pytorch-sweeps/runs/jo8zsirg\" target=\"_blank\">https://app.wandb.ai/cayush/Pytorch-sweeps/runs/jo8zsirg</a><br/>\n",
              "            "
            ],
            "text/plain": [
              "<IPython.core.display.HTML object>"
            ]
          },
          "metadata": {
            "tags": []
          }
        },
        {
          "output_type": "stream",
          "text": [
            "wandb: Agent Finished Run: jo8zsirg \n",
            "\n",
            "wandb: Agent Starting Run: ccormw8r with config:\n",
            "\tbatch_size: 128\n",
            "\tdropout: 0.5\n",
            "\tepochs: 10\n",
            "\tfc_layer_size: 512\n",
            "\tlearning_rate: 0.0003\n",
            "\toptimizer: adam\n",
            "wandb: Agent Started Run: ccormw8r\n"
          ],
          "name": "stdout"
        },
        {
          "output_type": "display_data",
          "data": {
            "text/html": [
              "\n",
              "                Logging results to <a href=\"https://wandb.com\" target=\"_blank\">Weights & Biases</a> <a href=\"https://docs.wandb.com/integrations/jupyter.html\" target=\"_blank\">(Documentation)</a>.<br/>\n",
              "                Project page: <a href=\"https://app.wandb.ai/cayush/Pytorch-sweeps\" target=\"_blank\">https://app.wandb.ai/cayush/Pytorch-sweeps</a><br/>\n",
              "                Sweep page: <a href=\"https://app.wandb.ai/cayush/Pytorch-sweeps/sweeps/r0euelyr\" target=\"_blank\">https://app.wandb.ai/cayush/Pytorch-sweeps/sweeps/r0euelyr</a><br/>\n",
              "Run page: <a href=\"https://app.wandb.ai/cayush/Pytorch-sweeps/runs/ccormw8r\" target=\"_blank\">https://app.wandb.ai/cayush/Pytorch-sweeps/runs/ccormw8r</a><br/>\n",
              "            "
            ],
            "text/plain": [
              "<IPython.core.display.HTML object>"
            ]
          },
          "metadata": {
            "tags": []
          }
        },
        {
          "output_type": "stream",
          "text": [
            "wandb: Agent Finished Run: ccormw8r \n",
            "\n",
            "wandb: Agent Starting Run: ka6v44n4 with config:\n",
            "\tbatch_size: 256\n",
            "\tdropout: 0.3\n",
            "\tepochs: 2\n",
            "\tfc_layer_size: 512\n",
            "\tlearning_rate: 1e-05\n",
            "\toptimizer: sgd\n",
            "wandb: Agent Started Run: ka6v44n4\n"
          ],
          "name": "stdout"
        },
        {
          "output_type": "display_data",
          "data": {
            "text/html": [
              "\n",
              "                Logging results to <a href=\"https://wandb.com\" target=\"_blank\">Weights & Biases</a> <a href=\"https://docs.wandb.com/integrations/jupyter.html\" target=\"_blank\">(Documentation)</a>.<br/>\n",
              "                Project page: <a href=\"https://app.wandb.ai/cayush/Pytorch-sweeps\" target=\"_blank\">https://app.wandb.ai/cayush/Pytorch-sweeps</a><br/>\n",
              "                Sweep page: <a href=\"https://app.wandb.ai/cayush/Pytorch-sweeps/sweeps/r0euelyr\" target=\"_blank\">https://app.wandb.ai/cayush/Pytorch-sweeps/sweeps/r0euelyr</a><br/>\n",
              "Run page: <a href=\"https://app.wandb.ai/cayush/Pytorch-sweeps/runs/ka6v44n4\" target=\"_blank\">https://app.wandb.ai/cayush/Pytorch-sweeps/runs/ka6v44n4</a><br/>\n",
              "            "
            ],
            "text/plain": [
              "<IPython.core.display.HTML object>"
            ]
          },
          "metadata": {
            "tags": []
          }
        },
        {
          "output_type": "stream",
          "text": [
            "wandb: Agent Finished Run: ka6v44n4 \n",
            "\n",
            "wandb: Agent Starting Run: ttckh0it with config:\n",
            "\tbatch_size: 32\n",
            "\tdropout: 0.4\n",
            "\tepochs: 2\n",
            "\tfc_layer_size: 128\n",
            "\tlearning_rate: 0.0003\n",
            "\toptimizer: adam\n",
            "wandb: Agent Started Run: ttckh0it\n"
          ],
          "name": "stdout"
        },
        {
          "output_type": "display_data",
          "data": {
            "text/html": [
              "\n",
              "                Logging results to <a href=\"https://wandb.com\" target=\"_blank\">Weights & Biases</a> <a href=\"https://docs.wandb.com/integrations/jupyter.html\" target=\"_blank\">(Documentation)</a>.<br/>\n",
              "                Project page: <a href=\"https://app.wandb.ai/cayush/Pytorch-sweeps\" target=\"_blank\">https://app.wandb.ai/cayush/Pytorch-sweeps</a><br/>\n",
              "                Sweep page: <a href=\"https://app.wandb.ai/cayush/Pytorch-sweeps/sweeps/r0euelyr\" target=\"_blank\">https://app.wandb.ai/cayush/Pytorch-sweeps/sweeps/r0euelyr</a><br/>\n",
              "Run page: <a href=\"https://app.wandb.ai/cayush/Pytorch-sweeps/runs/ttckh0it\" target=\"_blank\">https://app.wandb.ai/cayush/Pytorch-sweeps/runs/ttckh0it</a><br/>\n",
              "            "
            ],
            "text/plain": [
              "<IPython.core.display.HTML object>"
            ]
          },
          "metadata": {
            "tags": []
          }
        },
        {
          "output_type": "stream",
          "text": [
            "wandb: Agent Finished Run: ttckh0it \n",
            "\n",
            "wandb: Agent Starting Run: b8i3qhky with config:\n",
            "\tbatch_size: 128\n",
            "\tdropout: 0.4\n",
            "\tepochs: 5\n",
            "\tfc_layer_size: 512\n",
            "\tlearning_rate: 3e-05\n",
            "\toptimizer: adam\n",
            "wandb: Agent Started Run: b8i3qhky\n"
          ],
          "name": "stdout"
        },
        {
          "output_type": "display_data",
          "data": {
            "text/html": [
              "\n",
              "                Logging results to <a href=\"https://wandb.com\" target=\"_blank\">Weights & Biases</a> <a href=\"https://docs.wandb.com/integrations/jupyter.html\" target=\"_blank\">(Documentation)</a>.<br/>\n",
              "                Project page: <a href=\"https://app.wandb.ai/cayush/Pytorch-sweeps\" target=\"_blank\">https://app.wandb.ai/cayush/Pytorch-sweeps</a><br/>\n",
              "                Sweep page: <a href=\"https://app.wandb.ai/cayush/Pytorch-sweeps/sweeps/r0euelyr\" target=\"_blank\">https://app.wandb.ai/cayush/Pytorch-sweeps/sweeps/r0euelyr</a><br/>\n",
              "Run page: <a href=\"https://app.wandb.ai/cayush/Pytorch-sweeps/runs/b8i3qhky\" target=\"_blank\">https://app.wandb.ai/cayush/Pytorch-sweeps/runs/b8i3qhky</a><br/>\n",
              "            "
            ],
            "text/plain": [
              "<IPython.core.display.HTML object>"
            ]
          },
          "metadata": {
            "tags": []
          }
        },
        {
          "output_type": "stream",
          "text": [
            "wandb: Agent Finished Run: b8i3qhky \n",
            "\n",
            "wandb: Agent Starting Run: st6325xy with config:\n",
            "\tbatch_size: 256\n",
            "\tdropout: 0.4\n",
            "\tepochs: 2\n",
            "\tfc_layer_size: 256\n",
            "\tlearning_rate: 0.001\n",
            "\toptimizer: sgd\n",
            "wandb: Agent Started Run: st6325xy\n"
          ],
          "name": "stdout"
        },
        {
          "output_type": "display_data",
          "data": {
            "text/html": [
              "\n",
              "                Logging results to <a href=\"https://wandb.com\" target=\"_blank\">Weights & Biases</a> <a href=\"https://docs.wandb.com/integrations/jupyter.html\" target=\"_blank\">(Documentation)</a>.<br/>\n",
              "                Project page: <a href=\"https://app.wandb.ai/cayush/Pytorch-sweeps\" target=\"_blank\">https://app.wandb.ai/cayush/Pytorch-sweeps</a><br/>\n",
              "                Sweep page: <a href=\"https://app.wandb.ai/cayush/Pytorch-sweeps/sweeps/r0euelyr\" target=\"_blank\">https://app.wandb.ai/cayush/Pytorch-sweeps/sweeps/r0euelyr</a><br/>\n",
              "Run page: <a href=\"https://app.wandb.ai/cayush/Pytorch-sweeps/runs/st6325xy\" target=\"_blank\">https://app.wandb.ai/cayush/Pytorch-sweeps/runs/st6325xy</a><br/>\n",
              "            "
            ],
            "text/plain": [
              "<IPython.core.display.HTML object>"
            ]
          },
          "metadata": {
            "tags": []
          }
        },
        {
          "output_type": "stream",
          "text": [
            "wandb: Agent Finished Run: st6325xy \n",
            "\n",
            "wandb: Agent Starting Run: 4w9dph2r with config:\n",
            "\tbatch_size: 256\n",
            "\tdropout: 0.5\n",
            "\tepochs: 10\n",
            "\tfc_layer_size: 128\n",
            "\tlearning_rate: 1e-05\n",
            "\toptimizer: adam\n",
            "wandb: Agent Started Run: 4w9dph2r\n"
          ],
          "name": "stdout"
        },
        {
          "output_type": "display_data",
          "data": {
            "text/html": [
              "\n",
              "                Logging results to <a href=\"https://wandb.com\" target=\"_blank\">Weights & Biases</a> <a href=\"https://docs.wandb.com/integrations/jupyter.html\" target=\"_blank\">(Documentation)</a>.<br/>\n",
              "                Project page: <a href=\"https://app.wandb.ai/cayush/Pytorch-sweeps\" target=\"_blank\">https://app.wandb.ai/cayush/Pytorch-sweeps</a><br/>\n",
              "                Sweep page: <a href=\"https://app.wandb.ai/cayush/Pytorch-sweeps/sweeps/r0euelyr\" target=\"_blank\">https://app.wandb.ai/cayush/Pytorch-sweeps/sweeps/r0euelyr</a><br/>\n",
              "Run page: <a href=\"https://app.wandb.ai/cayush/Pytorch-sweeps/runs/4w9dph2r\" target=\"_blank\">https://app.wandb.ai/cayush/Pytorch-sweeps/runs/4w9dph2r</a><br/>\n",
              "            "
            ],
            "text/plain": [
              "<IPython.core.display.HTML object>"
            ]
          },
          "metadata": {
            "tags": []
          }
        },
        {
          "output_type": "stream",
          "text": [
            "wandb: Agent Finished Run: 4w9dph2r \n",
            "\n",
            "wandb: Agent Starting Run: kza576pq with config:\n",
            "\tbatch_size: 256\n",
            "\tdropout: 0.5\n",
            "\tepochs: 10\n",
            "\tfc_layer_size: 512\n",
            "\tlearning_rate: 0.001\n",
            "\toptimizer: adam\n",
            "wandb: Agent Started Run: kza576pq\n"
          ],
          "name": "stdout"
        },
        {
          "output_type": "display_data",
          "data": {
            "text/html": [
              "\n",
              "                Logging results to <a href=\"https://wandb.com\" target=\"_blank\">Weights & Biases</a> <a href=\"https://docs.wandb.com/integrations/jupyter.html\" target=\"_blank\">(Documentation)</a>.<br/>\n",
              "                Project page: <a href=\"https://app.wandb.ai/cayush/Pytorch-sweeps\" target=\"_blank\">https://app.wandb.ai/cayush/Pytorch-sweeps</a><br/>\n",
              "                Sweep page: <a href=\"https://app.wandb.ai/cayush/Pytorch-sweeps/sweeps/r0euelyr\" target=\"_blank\">https://app.wandb.ai/cayush/Pytorch-sweeps/sweeps/r0euelyr</a><br/>\n",
              "Run page: <a href=\"https://app.wandb.ai/cayush/Pytorch-sweeps/runs/kza576pq\" target=\"_blank\">https://app.wandb.ai/cayush/Pytorch-sweeps/runs/kza576pq</a><br/>\n",
              "            "
            ],
            "text/plain": [
              "<IPython.core.display.HTML object>"
            ]
          },
          "metadata": {
            "tags": []
          }
        },
        {
          "output_type": "stream",
          "text": [
            "wandb: Agent Finished Run: kza576pq \n",
            "\n",
            "wandb: Agent Starting Run: fogahw51 with config:\n",
            "\tbatch_size: 64\n",
            "\tdropout: 0.5\n",
            "\tepochs: 5\n",
            "\tfc_layer_size: 256\n",
            "\tlearning_rate: 1e-05\n",
            "\toptimizer: sgd\n",
            "wandb: Agent Started Run: fogahw51\n"
          ],
          "name": "stdout"
        },
        {
          "output_type": "display_data",
          "data": {
            "text/html": [
              "\n",
              "                Logging results to <a href=\"https://wandb.com\" target=\"_blank\">Weights & Biases</a> <a href=\"https://docs.wandb.com/integrations/jupyter.html\" target=\"_blank\">(Documentation)</a>.<br/>\n",
              "                Project page: <a href=\"https://app.wandb.ai/cayush/Pytorch-sweeps\" target=\"_blank\">https://app.wandb.ai/cayush/Pytorch-sweeps</a><br/>\n",
              "                Sweep page: <a href=\"https://app.wandb.ai/cayush/Pytorch-sweeps/sweeps/r0euelyr\" target=\"_blank\">https://app.wandb.ai/cayush/Pytorch-sweeps/sweeps/r0euelyr</a><br/>\n",
              "Run page: <a href=\"https://app.wandb.ai/cayush/Pytorch-sweeps/runs/fogahw51\" target=\"_blank\">https://app.wandb.ai/cayush/Pytorch-sweeps/runs/fogahw51</a><br/>\n",
              "            "
            ],
            "text/plain": [
              "<IPython.core.display.HTML object>"
            ]
          },
          "metadata": {
            "tags": []
          }
        },
        {
          "output_type": "stream",
          "text": [
            "wandb: Agent Finished Run: fogahw51 \n",
            "\n",
            "wandb: Agent Starting Run: 4ug9raox with config:\n",
            "\tbatch_size: 256\n",
            "\tdropout: 0.5\n",
            "\tepochs: 2\n",
            "\tfc_layer_size: 128\n",
            "\tlearning_rate: 1e-05\n",
            "\toptimizer: adam\n",
            "wandb: Agent Started Run: 4ug9raox\n"
          ],
          "name": "stdout"
        },
        {
          "output_type": "display_data",
          "data": {
            "text/html": [
              "\n",
              "                Logging results to <a href=\"https://wandb.com\" target=\"_blank\">Weights & Biases</a> <a href=\"https://docs.wandb.com/integrations/jupyter.html\" target=\"_blank\">(Documentation)</a>.<br/>\n",
              "                Project page: <a href=\"https://app.wandb.ai/cayush/Pytorch-sweeps\" target=\"_blank\">https://app.wandb.ai/cayush/Pytorch-sweeps</a><br/>\n",
              "                Sweep page: <a href=\"https://app.wandb.ai/cayush/Pytorch-sweeps/sweeps/r0euelyr\" target=\"_blank\">https://app.wandb.ai/cayush/Pytorch-sweeps/sweeps/r0euelyr</a><br/>\n",
              "Run page: <a href=\"https://app.wandb.ai/cayush/Pytorch-sweeps/runs/4ug9raox\" target=\"_blank\">https://app.wandb.ai/cayush/Pytorch-sweeps/runs/4ug9raox</a><br/>\n",
              "            "
            ],
            "text/plain": [
              "<IPython.core.display.HTML object>"
            ]
          },
          "metadata": {
            "tags": []
          }
        },
        {
          "output_type": "stream",
          "text": [
            "wandb: Agent Finished Run: 4ug9raox \n",
            "\n",
            "wandb: Agent Starting Run: yjcxcsm4 with config:\n",
            "\tbatch_size: 128\n",
            "\tdropout: 0.4\n",
            "\tepochs: 5\n",
            "\tfc_layer_size: 512\n",
            "\tlearning_rate: 1e-05\n",
            "\toptimizer: adam\n",
            "wandb: Agent Started Run: yjcxcsm4\n"
          ],
          "name": "stdout"
        },
        {
          "output_type": "display_data",
          "data": {
            "text/html": [
              "\n",
              "                Logging results to <a href=\"https://wandb.com\" target=\"_blank\">Weights & Biases</a> <a href=\"https://docs.wandb.com/integrations/jupyter.html\" target=\"_blank\">(Documentation)</a>.<br/>\n",
              "                Project page: <a href=\"https://app.wandb.ai/cayush/Pytorch-sweeps\" target=\"_blank\">https://app.wandb.ai/cayush/Pytorch-sweeps</a><br/>\n",
              "                Sweep page: <a href=\"https://app.wandb.ai/cayush/Pytorch-sweeps/sweeps/r0euelyr\" target=\"_blank\">https://app.wandb.ai/cayush/Pytorch-sweeps/sweeps/r0euelyr</a><br/>\n",
              "Run page: <a href=\"https://app.wandb.ai/cayush/Pytorch-sweeps/runs/yjcxcsm4\" target=\"_blank\">https://app.wandb.ai/cayush/Pytorch-sweeps/runs/yjcxcsm4</a><br/>\n",
              "            "
            ],
            "text/plain": [
              "<IPython.core.display.HTML object>"
            ]
          },
          "metadata": {
            "tags": []
          }
        },
        {
          "output_type": "stream",
          "text": [
            "wandb: Agent Finished Run: yjcxcsm4 \n",
            "\n",
            "wandb: Agent Starting Run: 111vs7xr with config:\n",
            "\tbatch_size: 32\n",
            "\tdropout: 0.5\n",
            "\tepochs: 2\n",
            "\tfc_layer_size: 512\n",
            "\tlearning_rate: 1e-05\n",
            "\toptimizer: adam\n",
            "wandb: Agent Started Run: 111vs7xr\n"
          ],
          "name": "stdout"
        },
        {
          "output_type": "display_data",
          "data": {
            "text/html": [
              "\n",
              "                Logging results to <a href=\"https://wandb.com\" target=\"_blank\">Weights & Biases</a> <a href=\"https://docs.wandb.com/integrations/jupyter.html\" target=\"_blank\">(Documentation)</a>.<br/>\n",
              "                Project page: <a href=\"https://app.wandb.ai/cayush/Pytorch-sweeps\" target=\"_blank\">https://app.wandb.ai/cayush/Pytorch-sweeps</a><br/>\n",
              "                Sweep page: <a href=\"https://app.wandb.ai/cayush/Pytorch-sweeps/sweeps/r0euelyr\" target=\"_blank\">https://app.wandb.ai/cayush/Pytorch-sweeps/sweeps/r0euelyr</a><br/>\n",
              "Run page: <a href=\"https://app.wandb.ai/cayush/Pytorch-sweeps/runs/111vs7xr\" target=\"_blank\">https://app.wandb.ai/cayush/Pytorch-sweeps/runs/111vs7xr</a><br/>\n",
              "            "
            ],
            "text/plain": [
              "<IPython.core.display.HTML object>"
            ]
          },
          "metadata": {
            "tags": []
          }
        },
        {
          "output_type": "stream",
          "text": [
            "wandb: Agent Finished Run: 111vs7xr \n",
            "\n",
            "wandb: Agent Starting Run: kddxavjp with config:\n",
            "\tbatch_size: 256\n",
            "\tdropout: 0.3\n",
            "\tepochs: 2\n",
            "\tfc_layer_size: 512\n",
            "\tlearning_rate: 0.001\n",
            "\toptimizer: adam\n",
            "wandb: Agent Started Run: kddxavjp\n"
          ],
          "name": "stdout"
        },
        {
          "output_type": "display_data",
          "data": {
            "text/html": [
              "\n",
              "                Logging results to <a href=\"https://wandb.com\" target=\"_blank\">Weights & Biases</a> <a href=\"https://docs.wandb.com/integrations/jupyter.html\" target=\"_blank\">(Documentation)</a>.<br/>\n",
              "                Project page: <a href=\"https://app.wandb.ai/cayush/Pytorch-sweeps\" target=\"_blank\">https://app.wandb.ai/cayush/Pytorch-sweeps</a><br/>\n",
              "                Sweep page: <a href=\"https://app.wandb.ai/cayush/Pytorch-sweeps/sweeps/r0euelyr\" target=\"_blank\">https://app.wandb.ai/cayush/Pytorch-sweeps/sweeps/r0euelyr</a><br/>\n",
              "Run page: <a href=\"https://app.wandb.ai/cayush/Pytorch-sweeps/runs/kddxavjp\" target=\"_blank\">https://app.wandb.ai/cayush/Pytorch-sweeps/runs/kddxavjp</a><br/>\n",
              "            "
            ],
            "text/plain": [
              "<IPython.core.display.HTML object>"
            ]
          },
          "metadata": {
            "tags": []
          }
        },
        {
          "output_type": "stream",
          "text": [
            "wandb: Agent Finished Run: kddxavjp \n",
            "\n",
            "wandb: Agent Starting Run: urlkd0df with config:\n",
            "\tbatch_size: 256\n",
            "\tdropout: 0.5\n",
            "\tepochs: 10\n",
            "\tfc_layer_size: 256\n",
            "\tlearning_rate: 0.001\n",
            "\toptimizer: adam\n",
            "wandb: Agent Started Run: urlkd0df\n"
          ],
          "name": "stdout"
        },
        {
          "output_type": "display_data",
          "data": {
            "text/html": [
              "\n",
              "                Logging results to <a href=\"https://wandb.com\" target=\"_blank\">Weights & Biases</a> <a href=\"https://docs.wandb.com/integrations/jupyter.html\" target=\"_blank\">(Documentation)</a>.<br/>\n",
              "                Project page: <a href=\"https://app.wandb.ai/cayush/Pytorch-sweeps\" target=\"_blank\">https://app.wandb.ai/cayush/Pytorch-sweeps</a><br/>\n",
              "                Sweep page: <a href=\"https://app.wandb.ai/cayush/Pytorch-sweeps/sweeps/r0euelyr\" target=\"_blank\">https://app.wandb.ai/cayush/Pytorch-sweeps/sweeps/r0euelyr</a><br/>\n",
              "Run page: <a href=\"https://app.wandb.ai/cayush/Pytorch-sweeps/runs/urlkd0df\" target=\"_blank\">https://app.wandb.ai/cayush/Pytorch-sweeps/runs/urlkd0df</a><br/>\n",
              "            "
            ],
            "text/plain": [
              "<IPython.core.display.HTML object>"
            ]
          },
          "metadata": {
            "tags": []
          }
        },
        {
          "output_type": "stream",
          "text": [
            "wandb: Agent Finished Run: urlkd0df \n",
            "\n",
            "wandb: Agent Starting Run: 72thmbpj with config:\n",
            "\tbatch_size: 64\n",
            "\tdropout: 0.5\n",
            "\tepochs: 5\n",
            "\tfc_layer_size: 512\n",
            "\tlearning_rate: 0.01\n",
            "\toptimizer: adam\n",
            "wandb: Agent Started Run: 72thmbpj\n"
          ],
          "name": "stdout"
        },
        {
          "output_type": "display_data",
          "data": {
            "text/html": [
              "\n",
              "                Logging results to <a href=\"https://wandb.com\" target=\"_blank\">Weights & Biases</a> <a href=\"https://docs.wandb.com/integrations/jupyter.html\" target=\"_blank\">(Documentation)</a>.<br/>\n",
              "                Project page: <a href=\"https://app.wandb.ai/cayush/Pytorch-sweeps\" target=\"_blank\">https://app.wandb.ai/cayush/Pytorch-sweeps</a><br/>\n",
              "                Sweep page: <a href=\"https://app.wandb.ai/cayush/Pytorch-sweeps/sweeps/r0euelyr\" target=\"_blank\">https://app.wandb.ai/cayush/Pytorch-sweeps/sweeps/r0euelyr</a><br/>\n",
              "Run page: <a href=\"https://app.wandb.ai/cayush/Pytorch-sweeps/runs/72thmbpj\" target=\"_blank\">https://app.wandb.ai/cayush/Pytorch-sweeps/runs/72thmbpj</a><br/>\n",
              "            "
            ],
            "text/plain": [
              "<IPython.core.display.HTML object>"
            ]
          },
          "metadata": {
            "tags": []
          }
        },
        {
          "output_type": "stream",
          "text": [
            "wandb: Agent Finished Run: 72thmbpj \n",
            "\n",
            "wandb: Agent Starting Run: 6ygskkxc with config:\n",
            "\tbatch_size: 32\n",
            "\tdropout: 0.3\n",
            "\tepochs: 5\n",
            "\tfc_layer_size: 128\n",
            "\tlearning_rate: 0.001\n",
            "\toptimizer: sgd\n",
            "wandb: Agent Started Run: 6ygskkxc\n"
          ],
          "name": "stdout"
        },
        {
          "output_type": "display_data",
          "data": {
            "text/html": [
              "\n",
              "                Logging results to <a href=\"https://wandb.com\" target=\"_blank\">Weights & Biases</a> <a href=\"https://docs.wandb.com/integrations/jupyter.html\" target=\"_blank\">(Documentation)</a>.<br/>\n",
              "                Project page: <a href=\"https://app.wandb.ai/cayush/Pytorch-sweeps\" target=\"_blank\">https://app.wandb.ai/cayush/Pytorch-sweeps</a><br/>\n",
              "                Sweep page: <a href=\"https://app.wandb.ai/cayush/Pytorch-sweeps/sweeps/r0euelyr\" target=\"_blank\">https://app.wandb.ai/cayush/Pytorch-sweeps/sweeps/r0euelyr</a><br/>\n",
              "Run page: <a href=\"https://app.wandb.ai/cayush/Pytorch-sweeps/runs/6ygskkxc\" target=\"_blank\">https://app.wandb.ai/cayush/Pytorch-sweeps/runs/6ygskkxc</a><br/>\n",
              "            "
            ],
            "text/plain": [
              "<IPython.core.display.HTML object>"
            ]
          },
          "metadata": {
            "tags": []
          }
        },
        {
          "output_type": "stream",
          "text": [
            "wandb: Agent Finished Run: 6ygskkxc \n",
            "\n",
            "wandb: Agent Starting Run: orn9taal with config:\n",
            "\tbatch_size: 128\n",
            "\tdropout: 0.5\n",
            "\tepochs: 2\n",
            "\tfc_layer_size: 512\n",
            "\tlearning_rate: 0.0003\n",
            "\toptimizer: sgd\n",
            "wandb: Agent Started Run: orn9taal\n"
          ],
          "name": "stdout"
        },
        {
          "output_type": "display_data",
          "data": {
            "text/html": [
              "\n",
              "                Logging results to <a href=\"https://wandb.com\" target=\"_blank\">Weights & Biases</a> <a href=\"https://docs.wandb.com/integrations/jupyter.html\" target=\"_blank\">(Documentation)</a>.<br/>\n",
              "                Project page: <a href=\"https://app.wandb.ai/cayush/Pytorch-sweeps\" target=\"_blank\">https://app.wandb.ai/cayush/Pytorch-sweeps</a><br/>\n",
              "                Sweep page: <a href=\"https://app.wandb.ai/cayush/Pytorch-sweeps/sweeps/r0euelyr\" target=\"_blank\">https://app.wandb.ai/cayush/Pytorch-sweeps/sweeps/r0euelyr</a><br/>\n",
              "Run page: <a href=\"https://app.wandb.ai/cayush/Pytorch-sweeps/runs/orn9taal\" target=\"_blank\">https://app.wandb.ai/cayush/Pytorch-sweeps/runs/orn9taal</a><br/>\n",
              "            "
            ],
            "text/plain": [
              "<IPython.core.display.HTML object>"
            ]
          },
          "metadata": {
            "tags": []
          }
        },
        {
          "output_type": "stream",
          "text": [
            "wandb: Agent Finished Run: orn9taal \n",
            "\n",
            "wandb: Agent Starting Run: 57mc1uzi with config:\n",
            "\tbatch_size: 256\n",
            "\tdropout: 0.3\n",
            "\tepochs: 2\n",
            "\tfc_layer_size: 256\n",
            "\tlearning_rate: 0.01\n",
            "\toptimizer: adam\n",
            "wandb: Agent Started Run: 57mc1uzi\n"
          ],
          "name": "stdout"
        },
        {
          "output_type": "display_data",
          "data": {
            "text/html": [
              "\n",
              "                Logging results to <a href=\"https://wandb.com\" target=\"_blank\">Weights & Biases</a> <a href=\"https://docs.wandb.com/integrations/jupyter.html\" target=\"_blank\">(Documentation)</a>.<br/>\n",
              "                Project page: <a href=\"https://app.wandb.ai/cayush/Pytorch-sweeps\" target=\"_blank\">https://app.wandb.ai/cayush/Pytorch-sweeps</a><br/>\n",
              "                Sweep page: <a href=\"https://app.wandb.ai/cayush/Pytorch-sweeps/sweeps/r0euelyr\" target=\"_blank\">https://app.wandb.ai/cayush/Pytorch-sweeps/sweeps/r0euelyr</a><br/>\n",
              "Run page: <a href=\"https://app.wandb.ai/cayush/Pytorch-sweeps/runs/57mc1uzi\" target=\"_blank\">https://app.wandb.ai/cayush/Pytorch-sweeps/runs/57mc1uzi</a><br/>\n",
              "            "
            ],
            "text/plain": [
              "<IPython.core.display.HTML object>"
            ]
          },
          "metadata": {
            "tags": []
          }
        },
        {
          "output_type": "stream",
          "text": [
            "wandb: Agent Finished Run: 57mc1uzi \n",
            "\n",
            "wandb: Agent Starting Run: c04r0fwh with config:\n",
            "\tbatch_size: 64\n",
            "\tdropout: 0.3\n",
            "\tepochs: 2\n",
            "\tfc_layer_size: 128\n",
            "\tlearning_rate: 0.001\n",
            "\toptimizer: sgd\n",
            "wandb: Agent Started Run: c04r0fwh\n"
          ],
          "name": "stdout"
        },
        {
          "output_type": "display_data",
          "data": {
            "text/html": [
              "\n",
              "                Logging results to <a href=\"https://wandb.com\" target=\"_blank\">Weights & Biases</a> <a href=\"https://docs.wandb.com/integrations/jupyter.html\" target=\"_blank\">(Documentation)</a>.<br/>\n",
              "                Project page: <a href=\"https://app.wandb.ai/cayush/Pytorch-sweeps\" target=\"_blank\">https://app.wandb.ai/cayush/Pytorch-sweeps</a><br/>\n",
              "                Sweep page: <a href=\"https://app.wandb.ai/cayush/Pytorch-sweeps/sweeps/r0euelyr\" target=\"_blank\">https://app.wandb.ai/cayush/Pytorch-sweeps/sweeps/r0euelyr</a><br/>\n",
              "Run page: <a href=\"https://app.wandb.ai/cayush/Pytorch-sweeps/runs/c04r0fwh\" target=\"_blank\">https://app.wandb.ai/cayush/Pytorch-sweeps/runs/c04r0fwh</a><br/>\n",
              "            "
            ],
            "text/plain": [
              "<IPython.core.display.HTML object>"
            ]
          },
          "metadata": {
            "tags": []
          }
        },
        {
          "output_type": "stream",
          "text": [
            "wandb: Agent Finished Run: c04r0fwh \n",
            "\n",
            "wandb: Agent Starting Run: w26y9yiz with config:\n",
            "\tbatch_size: 128\n",
            "\tdropout: 0.3\n",
            "\tepochs: 10\n",
            "\tfc_layer_size: 256\n",
            "\tlearning_rate: 0.001\n",
            "\toptimizer: sgd\n",
            "wandb: Agent Started Run: w26y9yiz\n"
          ],
          "name": "stdout"
        },
        {
          "output_type": "display_data",
          "data": {
            "text/html": [
              "\n",
              "                Logging results to <a href=\"https://wandb.com\" target=\"_blank\">Weights & Biases</a> <a href=\"https://docs.wandb.com/integrations/jupyter.html\" target=\"_blank\">(Documentation)</a>.<br/>\n",
              "                Project page: <a href=\"https://app.wandb.ai/cayush/Pytorch-sweeps\" target=\"_blank\">https://app.wandb.ai/cayush/Pytorch-sweeps</a><br/>\n",
              "                Sweep page: <a href=\"https://app.wandb.ai/cayush/Pytorch-sweeps/sweeps/r0euelyr\" target=\"_blank\">https://app.wandb.ai/cayush/Pytorch-sweeps/sweeps/r0euelyr</a><br/>\n",
              "Run page: <a href=\"https://app.wandb.ai/cayush/Pytorch-sweeps/runs/w26y9yiz\" target=\"_blank\">https://app.wandb.ai/cayush/Pytorch-sweeps/runs/w26y9yiz</a><br/>\n",
              "            "
            ],
            "text/plain": [
              "<IPython.core.display.HTML object>"
            ]
          },
          "metadata": {
            "tags": []
          }
        },
        {
          "output_type": "stream",
          "text": [
            "wandb: Agent Finished Run: w26y9yiz \n",
            "\n",
            "wandb: Agent Starting Run: hwzov7nl with config:\n",
            "\tbatch_size: 128\n",
            "\tdropout: 0.3\n",
            "\tepochs: 10\n",
            "\tfc_layer_size: 512\n",
            "\tlearning_rate: 0.0001\n",
            "\toptimizer: sgd\n",
            "wandb: Agent Started Run: hwzov7nl\n"
          ],
          "name": "stdout"
        },
        {
          "output_type": "display_data",
          "data": {
            "text/html": [
              "\n",
              "                Logging results to <a href=\"https://wandb.com\" target=\"_blank\">Weights & Biases</a> <a href=\"https://docs.wandb.com/integrations/jupyter.html\" target=\"_blank\">(Documentation)</a>.<br/>\n",
              "                Project page: <a href=\"https://app.wandb.ai/cayush/Pytorch-sweeps\" target=\"_blank\">https://app.wandb.ai/cayush/Pytorch-sweeps</a><br/>\n",
              "                Sweep page: <a href=\"https://app.wandb.ai/cayush/Pytorch-sweeps/sweeps/r0euelyr\" target=\"_blank\">https://app.wandb.ai/cayush/Pytorch-sweeps/sweeps/r0euelyr</a><br/>\n",
              "Run page: <a href=\"https://app.wandb.ai/cayush/Pytorch-sweeps/runs/hwzov7nl\" target=\"_blank\">https://app.wandb.ai/cayush/Pytorch-sweeps/runs/hwzov7nl</a><br/>\n",
              "            "
            ],
            "text/plain": [
              "<IPython.core.display.HTML object>"
            ]
          },
          "metadata": {
            "tags": []
          }
        },
        {
          "output_type": "stream",
          "text": [
            "wandb: Agent Finished Run: hwzov7nl \n",
            "\n",
            "wandb: Agent Starting Run: n9n9j7wa with config:\n",
            "\tbatch_size: 64\n",
            "\tdropout: 0.5\n",
            "\tepochs: 2\n",
            "\tfc_layer_size: 256\n",
            "\tlearning_rate: 0.001\n",
            "\toptimizer: sgd\n",
            "wandb: Agent Started Run: n9n9j7wa\n"
          ],
          "name": "stdout"
        },
        {
          "output_type": "display_data",
          "data": {
            "text/html": [
              "\n",
              "                Logging results to <a href=\"https://wandb.com\" target=\"_blank\">Weights & Biases</a> <a href=\"https://docs.wandb.com/integrations/jupyter.html\" target=\"_blank\">(Documentation)</a>.<br/>\n",
              "                Project page: <a href=\"https://app.wandb.ai/cayush/Pytorch-sweeps\" target=\"_blank\">https://app.wandb.ai/cayush/Pytorch-sweeps</a><br/>\n",
              "                Sweep page: <a href=\"https://app.wandb.ai/cayush/Pytorch-sweeps/sweeps/r0euelyr\" target=\"_blank\">https://app.wandb.ai/cayush/Pytorch-sweeps/sweeps/r0euelyr</a><br/>\n",
              "Run page: <a href=\"https://app.wandb.ai/cayush/Pytorch-sweeps/runs/n9n9j7wa\" target=\"_blank\">https://app.wandb.ai/cayush/Pytorch-sweeps/runs/n9n9j7wa</a><br/>\n",
              "            "
            ],
            "text/plain": [
              "<IPython.core.display.HTML object>"
            ]
          },
          "metadata": {
            "tags": []
          }
        },
        {
          "output_type": "stream",
          "text": [
            "wandb: Agent Finished Run: n9n9j7wa \n",
            "\n",
            "wandb: Agent Starting Run: 7mqtd0be with config:\n",
            "\tbatch_size: 32\n",
            "\tdropout: 0.3\n",
            "\tepochs: 2\n",
            "\tfc_layer_size: 512\n",
            "\tlearning_rate: 3e-05\n",
            "\toptimizer: sgd\n",
            "wandb: Agent Started Run: 7mqtd0be\n"
          ],
          "name": "stdout"
        },
        {
          "output_type": "display_data",
          "data": {
            "text/html": [
              "\n",
              "                Logging results to <a href=\"https://wandb.com\" target=\"_blank\">Weights & Biases</a> <a href=\"https://docs.wandb.com/integrations/jupyter.html\" target=\"_blank\">(Documentation)</a>.<br/>\n",
              "                Project page: <a href=\"https://app.wandb.ai/cayush/Pytorch-sweeps\" target=\"_blank\">https://app.wandb.ai/cayush/Pytorch-sweeps</a><br/>\n",
              "                Sweep page: <a href=\"https://app.wandb.ai/cayush/Pytorch-sweeps/sweeps/r0euelyr\" target=\"_blank\">https://app.wandb.ai/cayush/Pytorch-sweeps/sweeps/r0euelyr</a><br/>\n",
              "Run page: <a href=\"https://app.wandb.ai/cayush/Pytorch-sweeps/runs/7mqtd0be\" target=\"_blank\">https://app.wandb.ai/cayush/Pytorch-sweeps/runs/7mqtd0be</a><br/>\n",
              "            "
            ],
            "text/plain": [
              "<IPython.core.display.HTML object>"
            ]
          },
          "metadata": {
            "tags": []
          }
        },
        {
          "output_type": "stream",
          "text": [
            "wandb: Agent Finished Run: 7mqtd0be \n",
            "\n",
            "wandb: Agent Starting Run: ovjwvhru with config:\n",
            "\tbatch_size: 256\n",
            "\tdropout: 0.5\n",
            "\tepochs: 10\n",
            "\tfc_layer_size: 128\n",
            "\tlearning_rate: 1e-05\n",
            "\toptimizer: sgd\n",
            "wandb: Agent Started Run: ovjwvhru\n"
          ],
          "name": "stdout"
        },
        {
          "output_type": "display_data",
          "data": {
            "text/html": [
              "\n",
              "                Logging results to <a href=\"https://wandb.com\" target=\"_blank\">Weights & Biases</a> <a href=\"https://docs.wandb.com/integrations/jupyter.html\" target=\"_blank\">(Documentation)</a>.<br/>\n",
              "                Project page: <a href=\"https://app.wandb.ai/cayush/Pytorch-sweeps\" target=\"_blank\">https://app.wandb.ai/cayush/Pytorch-sweeps</a><br/>\n",
              "                Sweep page: <a href=\"https://app.wandb.ai/cayush/Pytorch-sweeps/sweeps/r0euelyr\" target=\"_blank\">https://app.wandb.ai/cayush/Pytorch-sweeps/sweeps/r0euelyr</a><br/>\n",
              "Run page: <a href=\"https://app.wandb.ai/cayush/Pytorch-sweeps/runs/ovjwvhru\" target=\"_blank\">https://app.wandb.ai/cayush/Pytorch-sweeps/runs/ovjwvhru</a><br/>\n",
              "            "
            ],
            "text/plain": [
              "<IPython.core.display.HTML object>"
            ]
          },
          "metadata": {
            "tags": []
          }
        },
        {
          "output_type": "stream",
          "text": [
            "wandb: Agent Finished Run: ovjwvhru \n",
            "\n",
            "wandb: Agent Starting Run: tiedmr6t with config:\n",
            "\tbatch_size: 64\n",
            "\tdropout: 0.5\n",
            "\tepochs: 10\n",
            "\tfc_layer_size: 256\n",
            "\tlearning_rate: 1e-05\n",
            "\toptimizer: adam\n",
            "wandb: Agent Started Run: tiedmr6t\n"
          ],
          "name": "stdout"
        },
        {
          "output_type": "display_data",
          "data": {
            "text/html": [
              "\n",
              "                Logging results to <a href=\"https://wandb.com\" target=\"_blank\">Weights & Biases</a> <a href=\"https://docs.wandb.com/integrations/jupyter.html\" target=\"_blank\">(Documentation)</a>.<br/>\n",
              "                Project page: <a href=\"https://app.wandb.ai/cayush/Pytorch-sweeps\" target=\"_blank\">https://app.wandb.ai/cayush/Pytorch-sweeps</a><br/>\n",
              "                Sweep page: <a href=\"https://app.wandb.ai/cayush/Pytorch-sweeps/sweeps/r0euelyr\" target=\"_blank\">https://app.wandb.ai/cayush/Pytorch-sweeps/sweeps/r0euelyr</a><br/>\n",
              "Run page: <a href=\"https://app.wandb.ai/cayush/Pytorch-sweeps/runs/tiedmr6t\" target=\"_blank\">https://app.wandb.ai/cayush/Pytorch-sweeps/runs/tiedmr6t</a><br/>\n",
              "            "
            ],
            "text/plain": [
              "<IPython.core.display.HTML object>"
            ]
          },
          "metadata": {
            "tags": []
          }
        },
        {
          "output_type": "stream",
          "text": [
            "wandb: Agent Finished Run: tiedmr6t \n",
            "\n",
            "wandb: Agent Starting Run: 25wq08t3 with config:\n",
            "\tbatch_size: 256\n",
            "\tdropout: 0.4\n",
            "\tepochs: 2\n",
            "\tfc_layer_size: 128\n",
            "\tlearning_rate: 0.0001\n",
            "\toptimizer: adam\n",
            "wandb: Agent Started Run: 25wq08t3\n"
          ],
          "name": "stdout"
        },
        {
          "output_type": "display_data",
          "data": {
            "text/html": [
              "\n",
              "                Logging results to <a href=\"https://wandb.com\" target=\"_blank\">Weights & Biases</a> <a href=\"https://docs.wandb.com/integrations/jupyter.html\" target=\"_blank\">(Documentation)</a>.<br/>\n",
              "                Project page: <a href=\"https://app.wandb.ai/cayush/Pytorch-sweeps\" target=\"_blank\">https://app.wandb.ai/cayush/Pytorch-sweeps</a><br/>\n",
              "                Sweep page: <a href=\"https://app.wandb.ai/cayush/Pytorch-sweeps/sweeps/r0euelyr\" target=\"_blank\">https://app.wandb.ai/cayush/Pytorch-sweeps/sweeps/r0euelyr</a><br/>\n",
              "Run page: <a href=\"https://app.wandb.ai/cayush/Pytorch-sweeps/runs/25wq08t3\" target=\"_blank\">https://app.wandb.ai/cayush/Pytorch-sweeps/runs/25wq08t3</a><br/>\n",
              "            "
            ],
            "text/plain": [
              "<IPython.core.display.HTML object>"
            ]
          },
          "metadata": {
            "tags": []
          }
        },
        {
          "output_type": "stream",
          "text": [
            "wandb: Agent Finished Run: 25wq08t3 \n",
            "\n",
            "wandb: Agent Starting Run: 30sc85yq with config:\n",
            "\tbatch_size: 32\n",
            "\tdropout: 0.4\n",
            "\tepochs: 2\n",
            "\tfc_layer_size: 512\n",
            "\tlearning_rate: 0.0001\n",
            "\toptimizer: sgd\n",
            "wandb: Agent Started Run: 30sc85yq\n"
          ],
          "name": "stdout"
        },
        {
          "output_type": "display_data",
          "data": {
            "text/html": [
              "\n",
              "                Logging results to <a href=\"https://wandb.com\" target=\"_blank\">Weights & Biases</a> <a href=\"https://docs.wandb.com/integrations/jupyter.html\" target=\"_blank\">(Documentation)</a>.<br/>\n",
              "                Project page: <a href=\"https://app.wandb.ai/cayush/Pytorch-sweeps\" target=\"_blank\">https://app.wandb.ai/cayush/Pytorch-sweeps</a><br/>\n",
              "                Sweep page: <a href=\"https://app.wandb.ai/cayush/Pytorch-sweeps/sweeps/r0euelyr\" target=\"_blank\">https://app.wandb.ai/cayush/Pytorch-sweeps/sweeps/r0euelyr</a><br/>\n",
              "Run page: <a href=\"https://app.wandb.ai/cayush/Pytorch-sweeps/runs/30sc85yq\" target=\"_blank\">https://app.wandb.ai/cayush/Pytorch-sweeps/runs/30sc85yq</a><br/>\n",
              "            "
            ],
            "text/plain": [
              "<IPython.core.display.HTML object>"
            ]
          },
          "metadata": {
            "tags": []
          }
        },
        {
          "output_type": "stream",
          "text": [
            "wandb: Agent Finished Run: 30sc85yq \n",
            "\n",
            "wandb: Agent Starting Run: 3bxmpvf1 with config:\n",
            "\tbatch_size: 64\n",
            "\tdropout: 0.3\n",
            "\tepochs: 2\n",
            "\tfc_layer_size: 128\n",
            "\tlearning_rate: 0.0003\n",
            "\toptimizer: sgd\n",
            "wandb: Agent Started Run: 3bxmpvf1\n"
          ],
          "name": "stdout"
        },
        {
          "output_type": "display_data",
          "data": {
            "text/html": [
              "\n",
              "                Logging results to <a href=\"https://wandb.com\" target=\"_blank\">Weights & Biases</a> <a href=\"https://docs.wandb.com/integrations/jupyter.html\" target=\"_blank\">(Documentation)</a>.<br/>\n",
              "                Project page: <a href=\"https://app.wandb.ai/cayush/Pytorch-sweeps\" target=\"_blank\">https://app.wandb.ai/cayush/Pytorch-sweeps</a><br/>\n",
              "                Sweep page: <a href=\"https://app.wandb.ai/cayush/Pytorch-sweeps/sweeps/r0euelyr\" target=\"_blank\">https://app.wandb.ai/cayush/Pytorch-sweeps/sweeps/r0euelyr</a><br/>\n",
              "Run page: <a href=\"https://app.wandb.ai/cayush/Pytorch-sweeps/runs/3bxmpvf1\" target=\"_blank\">https://app.wandb.ai/cayush/Pytorch-sweeps/runs/3bxmpvf1</a><br/>\n",
              "            "
            ],
            "text/plain": [
              "<IPython.core.display.HTML object>"
            ]
          },
          "metadata": {
            "tags": []
          }
        },
        {
          "output_type": "stream",
          "text": [
            "wandb: Agent Finished Run: 3bxmpvf1 \n",
            "\n",
            "wandb: Agent Starting Run: dvxovcbl with config:\n",
            "\tbatch_size: 128\n",
            "\tdropout: 0.3\n",
            "\tepochs: 5\n",
            "\tfc_layer_size: 512\n",
            "\tlearning_rate: 3e-05\n",
            "\toptimizer: sgd\n",
            "wandb: Agent Started Run: dvxovcbl\n"
          ],
          "name": "stdout"
        },
        {
          "output_type": "display_data",
          "data": {
            "text/html": [
              "\n",
              "                Logging results to <a href=\"https://wandb.com\" target=\"_blank\">Weights & Biases</a> <a href=\"https://docs.wandb.com/integrations/jupyter.html\" target=\"_blank\">(Documentation)</a>.<br/>\n",
              "                Project page: <a href=\"https://app.wandb.ai/cayush/Pytorch-sweeps\" target=\"_blank\">https://app.wandb.ai/cayush/Pytorch-sweeps</a><br/>\n",
              "                Sweep page: <a href=\"https://app.wandb.ai/cayush/Pytorch-sweeps/sweeps/r0euelyr\" target=\"_blank\">https://app.wandb.ai/cayush/Pytorch-sweeps/sweeps/r0euelyr</a><br/>\n",
              "Run page: <a href=\"https://app.wandb.ai/cayush/Pytorch-sweeps/runs/dvxovcbl\" target=\"_blank\">https://app.wandb.ai/cayush/Pytorch-sweeps/runs/dvxovcbl</a><br/>\n",
              "            "
            ],
            "text/plain": [
              "<IPython.core.display.HTML object>"
            ]
          },
          "metadata": {
            "tags": []
          }
        },
        {
          "output_type": "stream",
          "text": [
            "wandb: Agent Finished Run: dvxovcbl \n",
            "\n",
            "wandb: Agent Starting Run: o8qchl6c with config:\n",
            "\tbatch_size: 256\n",
            "\tdropout: 0.4\n",
            "\tepochs: 2\n",
            "\tfc_layer_size: 512\n",
            "\tlearning_rate: 0.001\n",
            "\toptimizer: sgd\n",
            "wandb: Agent Started Run: o8qchl6c\n"
          ],
          "name": "stdout"
        },
        {
          "output_type": "display_data",
          "data": {
            "text/html": [
              "\n",
              "                Logging results to <a href=\"https://wandb.com\" target=\"_blank\">Weights & Biases</a> <a href=\"https://docs.wandb.com/integrations/jupyter.html\" target=\"_blank\">(Documentation)</a>.<br/>\n",
              "                Project page: <a href=\"https://app.wandb.ai/cayush/Pytorch-sweeps\" target=\"_blank\">https://app.wandb.ai/cayush/Pytorch-sweeps</a><br/>\n",
              "                Sweep page: <a href=\"https://app.wandb.ai/cayush/Pytorch-sweeps/sweeps/r0euelyr\" target=\"_blank\">https://app.wandb.ai/cayush/Pytorch-sweeps/sweeps/r0euelyr</a><br/>\n",
              "Run page: <a href=\"https://app.wandb.ai/cayush/Pytorch-sweeps/runs/o8qchl6c\" target=\"_blank\">https://app.wandb.ai/cayush/Pytorch-sweeps/runs/o8qchl6c</a><br/>\n",
              "            "
            ],
            "text/plain": [
              "<IPython.core.display.HTML object>"
            ]
          },
          "metadata": {
            "tags": []
          }
        },
        {
          "output_type": "stream",
          "text": [
            "wandb: Agent Finished Run: o8qchl6c \n",
            "\n",
            "wandb: Agent Starting Run: dcwnmzqy with config:\n",
            "\tbatch_size: 256\n",
            "\tdropout: 0.4\n",
            "\tepochs: 2\n",
            "\tfc_layer_size: 512\n",
            "\tlearning_rate: 0.001\n",
            "\toptimizer: adam\n",
            "wandb: Agent Started Run: dcwnmzqy\n"
          ],
          "name": "stdout"
        },
        {
          "output_type": "display_data",
          "data": {
            "text/html": [
              "\n",
              "                Logging results to <a href=\"https://wandb.com\" target=\"_blank\">Weights & Biases</a> <a href=\"https://docs.wandb.com/integrations/jupyter.html\" target=\"_blank\">(Documentation)</a>.<br/>\n",
              "                Project page: <a href=\"https://app.wandb.ai/cayush/Pytorch-sweeps\" target=\"_blank\">https://app.wandb.ai/cayush/Pytorch-sweeps</a><br/>\n",
              "                Sweep page: <a href=\"https://app.wandb.ai/cayush/Pytorch-sweeps/sweeps/r0euelyr\" target=\"_blank\">https://app.wandb.ai/cayush/Pytorch-sweeps/sweeps/r0euelyr</a><br/>\n",
              "Run page: <a href=\"https://app.wandb.ai/cayush/Pytorch-sweeps/runs/dcwnmzqy\" target=\"_blank\">https://app.wandb.ai/cayush/Pytorch-sweeps/runs/dcwnmzqy</a><br/>\n",
              "            "
            ],
            "text/plain": [
              "<IPython.core.display.HTML object>"
            ]
          },
          "metadata": {
            "tags": []
          }
        },
        {
          "output_type": "stream",
          "text": [
            "wandb: Agent Finished Run: dcwnmzqy \n",
            "\n",
            "wandb: Agent Starting Run: jn1i9hyv with config:\n",
            "\tbatch_size: 64\n",
            "\tdropout: 0.4\n",
            "\tepochs: 5\n",
            "\tfc_layer_size: 256\n",
            "\tlearning_rate: 3e-05\n",
            "\toptimizer: adam\n",
            "wandb: Agent Started Run: jn1i9hyv\n"
          ],
          "name": "stdout"
        },
        {
          "output_type": "display_data",
          "data": {
            "text/html": [
              "\n",
              "                Logging results to <a href=\"https://wandb.com\" target=\"_blank\">Weights & Biases</a> <a href=\"https://docs.wandb.com/integrations/jupyter.html\" target=\"_blank\">(Documentation)</a>.<br/>\n",
              "                Project page: <a href=\"https://app.wandb.ai/cayush/Pytorch-sweeps\" target=\"_blank\">https://app.wandb.ai/cayush/Pytorch-sweeps</a><br/>\n",
              "                Sweep page: <a href=\"https://app.wandb.ai/cayush/Pytorch-sweeps/sweeps/r0euelyr\" target=\"_blank\">https://app.wandb.ai/cayush/Pytorch-sweeps/sweeps/r0euelyr</a><br/>\n",
              "Run page: <a href=\"https://app.wandb.ai/cayush/Pytorch-sweeps/runs/jn1i9hyv\" target=\"_blank\">https://app.wandb.ai/cayush/Pytorch-sweeps/runs/jn1i9hyv</a><br/>\n",
              "            "
            ],
            "text/plain": [
              "<IPython.core.display.HTML object>"
            ]
          },
          "metadata": {
            "tags": []
          }
        },
        {
          "output_type": "stream",
          "text": [
            "wandb: Agent Finished Run: jn1i9hyv \n",
            "\n",
            "wandb: Agent Starting Run: d69aecnd with config:\n",
            "\tbatch_size: 128\n",
            "\tdropout: 0.3\n",
            "\tepochs: 5\n",
            "\tfc_layer_size: 512\n",
            "\tlearning_rate: 0.0003\n",
            "\toptimizer: adam\n",
            "wandb: Agent Started Run: d69aecnd\n"
          ],
          "name": "stdout"
        },
        {
          "output_type": "display_data",
          "data": {
            "text/html": [
              "\n",
              "                Logging results to <a href=\"https://wandb.com\" target=\"_blank\">Weights & Biases</a> <a href=\"https://docs.wandb.com/integrations/jupyter.html\" target=\"_blank\">(Documentation)</a>.<br/>\n",
              "                Project page: <a href=\"https://app.wandb.ai/cayush/Pytorch-sweeps\" target=\"_blank\">https://app.wandb.ai/cayush/Pytorch-sweeps</a><br/>\n",
              "                Sweep page: <a href=\"https://app.wandb.ai/cayush/Pytorch-sweeps/sweeps/r0euelyr\" target=\"_blank\">https://app.wandb.ai/cayush/Pytorch-sweeps/sweeps/r0euelyr</a><br/>\n",
              "Run page: <a href=\"https://app.wandb.ai/cayush/Pytorch-sweeps/runs/d69aecnd\" target=\"_blank\">https://app.wandb.ai/cayush/Pytorch-sweeps/runs/d69aecnd</a><br/>\n",
              "            "
            ],
            "text/plain": [
              "<IPython.core.display.HTML object>"
            ]
          },
          "metadata": {
            "tags": []
          }
        },
        {
          "output_type": "stream",
          "text": [
            "wandb: Agent Finished Run: d69aecnd \n",
            "\n",
            "wandb: Agent Starting Run: ql0408di with config:\n",
            "\tbatch_size: 64\n",
            "\tdropout: 0.5\n",
            "\tepochs: 5\n",
            "\tfc_layer_size: 128\n",
            "\tlearning_rate: 0.01\n",
            "\toptimizer: adam\n",
            "wandb: Agent Started Run: ql0408di\n"
          ],
          "name": "stdout"
        },
        {
          "output_type": "display_data",
          "data": {
            "text/html": [
              "\n",
              "                Logging results to <a href=\"https://wandb.com\" target=\"_blank\">Weights & Biases</a> <a href=\"https://docs.wandb.com/integrations/jupyter.html\" target=\"_blank\">(Documentation)</a>.<br/>\n",
              "                Project page: <a href=\"https://app.wandb.ai/cayush/Pytorch-sweeps\" target=\"_blank\">https://app.wandb.ai/cayush/Pytorch-sweeps</a><br/>\n",
              "                Sweep page: <a href=\"https://app.wandb.ai/cayush/Pytorch-sweeps/sweeps/r0euelyr\" target=\"_blank\">https://app.wandb.ai/cayush/Pytorch-sweeps/sweeps/r0euelyr</a><br/>\n",
              "Run page: <a href=\"https://app.wandb.ai/cayush/Pytorch-sweeps/runs/ql0408di\" target=\"_blank\">https://app.wandb.ai/cayush/Pytorch-sweeps/runs/ql0408di</a><br/>\n",
              "            "
            ],
            "text/plain": [
              "<IPython.core.display.HTML object>"
            ]
          },
          "metadata": {
            "tags": []
          }
        },
        {
          "output_type": "stream",
          "text": [
            "wandb: Agent Finished Run: ql0408di \n",
            "\n",
            "wandb: Agent Starting Run: 111s3lc6 with config:\n",
            "\tbatch_size: 32\n",
            "\tdropout: 0.5\n",
            "\tepochs: 5\n",
            "\tfc_layer_size: 256\n",
            "\tlearning_rate: 0.0001\n",
            "\toptimizer: sgd\n",
            "wandb: Agent Started Run: 111s3lc6\n"
          ],
          "name": "stdout"
        },
        {
          "output_type": "display_data",
          "data": {
            "text/html": [
              "\n",
              "                Logging results to <a href=\"https://wandb.com\" target=\"_blank\">Weights & Biases</a> <a href=\"https://docs.wandb.com/integrations/jupyter.html\" target=\"_blank\">(Documentation)</a>.<br/>\n",
              "                Project page: <a href=\"https://app.wandb.ai/cayush/Pytorch-sweeps\" target=\"_blank\">https://app.wandb.ai/cayush/Pytorch-sweeps</a><br/>\n",
              "                Sweep page: <a href=\"https://app.wandb.ai/cayush/Pytorch-sweeps/sweeps/r0euelyr\" target=\"_blank\">https://app.wandb.ai/cayush/Pytorch-sweeps/sweeps/r0euelyr</a><br/>\n",
              "Run page: <a href=\"https://app.wandb.ai/cayush/Pytorch-sweeps/runs/111s3lc6\" target=\"_blank\">https://app.wandb.ai/cayush/Pytorch-sweeps/runs/111s3lc6</a><br/>\n",
              "            "
            ],
            "text/plain": [
              "<IPython.core.display.HTML object>"
            ]
          },
          "metadata": {
            "tags": []
          }
        },
        {
          "output_type": "stream",
          "text": [
            "wandb: Agent Finished Run: 111s3lc6 \n",
            "\n",
            "wandb: Agent Starting Run: 3ter74iv with config:\n",
            "\tbatch_size: 64\n",
            "\tdropout: 0.3\n",
            "\tepochs: 5\n",
            "\tfc_layer_size: 256\n",
            "\tlearning_rate: 0.01\n",
            "\toptimizer: adam\n",
            "wandb: Agent Started Run: 3ter74iv\n"
          ],
          "name": "stdout"
        },
        {
          "output_type": "display_data",
          "data": {
            "text/html": [
              "\n",
              "                Logging results to <a href=\"https://wandb.com\" target=\"_blank\">Weights & Biases</a> <a href=\"https://docs.wandb.com/integrations/jupyter.html\" target=\"_blank\">(Documentation)</a>.<br/>\n",
              "                Project page: <a href=\"https://app.wandb.ai/cayush/Pytorch-sweeps\" target=\"_blank\">https://app.wandb.ai/cayush/Pytorch-sweeps</a><br/>\n",
              "                Sweep page: <a href=\"https://app.wandb.ai/cayush/Pytorch-sweeps/sweeps/r0euelyr\" target=\"_blank\">https://app.wandb.ai/cayush/Pytorch-sweeps/sweeps/r0euelyr</a><br/>\n",
              "Run page: <a href=\"https://app.wandb.ai/cayush/Pytorch-sweeps/runs/3ter74iv\" target=\"_blank\">https://app.wandb.ai/cayush/Pytorch-sweeps/runs/3ter74iv</a><br/>\n",
              "            "
            ],
            "text/plain": [
              "<IPython.core.display.HTML object>"
            ]
          },
          "metadata": {
            "tags": []
          }
        },
        {
          "output_type": "stream",
          "text": [
            "wandb: Agent Finished Run: 3ter74iv \n",
            "\n",
            "wandb: Agent Starting Run: jhn6u78g with config:\n",
            "\tbatch_size: 64\n",
            "\tdropout: 0.3\n",
            "\tepochs: 2\n",
            "\tfc_layer_size: 128\n",
            "\tlearning_rate: 1e-05\n",
            "\toptimizer: adam\n",
            "wandb: Agent Started Run: jhn6u78g\n"
          ],
          "name": "stdout"
        },
        {
          "output_type": "display_data",
          "data": {
            "text/html": [
              "\n",
              "                Logging results to <a href=\"https://wandb.com\" target=\"_blank\">Weights & Biases</a> <a href=\"https://docs.wandb.com/integrations/jupyter.html\" target=\"_blank\">(Documentation)</a>.<br/>\n",
              "                Project page: <a href=\"https://app.wandb.ai/cayush/Pytorch-sweeps\" target=\"_blank\">https://app.wandb.ai/cayush/Pytorch-sweeps</a><br/>\n",
              "                Sweep page: <a href=\"https://app.wandb.ai/cayush/Pytorch-sweeps/sweeps/r0euelyr\" target=\"_blank\">https://app.wandb.ai/cayush/Pytorch-sweeps/sweeps/r0euelyr</a><br/>\n",
              "Run page: <a href=\"https://app.wandb.ai/cayush/Pytorch-sweeps/runs/jhn6u78g\" target=\"_blank\">https://app.wandb.ai/cayush/Pytorch-sweeps/runs/jhn6u78g</a><br/>\n",
              "            "
            ],
            "text/plain": [
              "<IPython.core.display.HTML object>"
            ]
          },
          "metadata": {
            "tags": []
          }
        },
        {
          "output_type": "stream",
          "text": [
            "wandb: Agent Finished Run: jhn6u78g \n",
            "\n",
            "wandb: Agent Starting Run: mg66i3k8 with config:\n",
            "\tbatch_size: 128\n",
            "\tdropout: 0.4\n",
            "\tepochs: 2\n",
            "\tfc_layer_size: 256\n",
            "\tlearning_rate: 0.0003\n",
            "\toptimizer: sgd\n",
            "wandb: Agent Started Run: mg66i3k8\n"
          ],
          "name": "stdout"
        },
        {
          "output_type": "display_data",
          "data": {
            "text/html": [
              "\n",
              "                Logging results to <a href=\"https://wandb.com\" target=\"_blank\">Weights & Biases</a> <a href=\"https://docs.wandb.com/integrations/jupyter.html\" target=\"_blank\">(Documentation)</a>.<br/>\n",
              "                Project page: <a href=\"https://app.wandb.ai/cayush/Pytorch-sweeps\" target=\"_blank\">https://app.wandb.ai/cayush/Pytorch-sweeps</a><br/>\n",
              "                Sweep page: <a href=\"https://app.wandb.ai/cayush/Pytorch-sweeps/sweeps/r0euelyr\" target=\"_blank\">https://app.wandb.ai/cayush/Pytorch-sweeps/sweeps/r0euelyr</a><br/>\n",
              "Run page: <a href=\"https://app.wandb.ai/cayush/Pytorch-sweeps/runs/mg66i3k8\" target=\"_blank\">https://app.wandb.ai/cayush/Pytorch-sweeps/runs/mg66i3k8</a><br/>\n",
              "            "
            ],
            "text/plain": [
              "<IPython.core.display.HTML object>"
            ]
          },
          "metadata": {
            "tags": []
          }
        },
        {
          "output_type": "stream",
          "text": [
            "wandb: Agent Finished Run: mg66i3k8 \n",
            "\n",
            "wandb: Agent Starting Run: 15z81h0q with config:\n",
            "\tbatch_size: 32\n",
            "\tdropout: 0.5\n",
            "\tepochs: 5\n",
            "\tfc_layer_size: 256\n",
            "\tlearning_rate: 3e-05\n",
            "\toptimizer: sgd\n",
            "wandb: Agent Started Run: 15z81h0q\n"
          ],
          "name": "stdout"
        },
        {
          "output_type": "display_data",
          "data": {
            "text/html": [
              "\n",
              "                Logging results to <a href=\"https://wandb.com\" target=\"_blank\">Weights & Biases</a> <a href=\"https://docs.wandb.com/integrations/jupyter.html\" target=\"_blank\">(Documentation)</a>.<br/>\n",
              "                Project page: <a href=\"https://app.wandb.ai/cayush/Pytorch-sweeps\" target=\"_blank\">https://app.wandb.ai/cayush/Pytorch-sweeps</a><br/>\n",
              "                Sweep page: <a href=\"https://app.wandb.ai/cayush/Pytorch-sweeps/sweeps/r0euelyr\" target=\"_blank\">https://app.wandb.ai/cayush/Pytorch-sweeps/sweeps/r0euelyr</a><br/>\n",
              "Run page: <a href=\"https://app.wandb.ai/cayush/Pytorch-sweeps/runs/15z81h0q\" target=\"_blank\">https://app.wandb.ai/cayush/Pytorch-sweeps/runs/15z81h0q</a><br/>\n",
              "            "
            ],
            "text/plain": [
              "<IPython.core.display.HTML object>"
            ]
          },
          "metadata": {
            "tags": []
          }
        },
        {
          "output_type": "stream",
          "text": [
            "wandb: Agent Finished Run: 15z81h0q \n",
            "\n",
            "wandb: Agent Starting Run: 6t366eo1 with config:\n",
            "\tbatch_size: 256\n",
            "\tdropout: 0.4\n",
            "\tepochs: 2\n",
            "\tfc_layer_size: 128\n",
            "\tlearning_rate: 0.01\n",
            "\toptimizer: adam\n",
            "wandb: Agent Started Run: 6t366eo1\n"
          ],
          "name": "stdout"
        },
        {
          "output_type": "display_data",
          "data": {
            "text/html": [
              "\n",
              "                Logging results to <a href=\"https://wandb.com\" target=\"_blank\">Weights & Biases</a> <a href=\"https://docs.wandb.com/integrations/jupyter.html\" target=\"_blank\">(Documentation)</a>.<br/>\n",
              "                Project page: <a href=\"https://app.wandb.ai/cayush/Pytorch-sweeps\" target=\"_blank\">https://app.wandb.ai/cayush/Pytorch-sweeps</a><br/>\n",
              "                Sweep page: <a href=\"https://app.wandb.ai/cayush/Pytorch-sweeps/sweeps/r0euelyr\" target=\"_blank\">https://app.wandb.ai/cayush/Pytorch-sweeps/sweeps/r0euelyr</a><br/>\n",
              "Run page: <a href=\"https://app.wandb.ai/cayush/Pytorch-sweeps/runs/6t366eo1\" target=\"_blank\">https://app.wandb.ai/cayush/Pytorch-sweeps/runs/6t366eo1</a><br/>\n",
              "            "
            ],
            "text/plain": [
              "<IPython.core.display.HTML object>"
            ]
          },
          "metadata": {
            "tags": []
          }
        },
        {
          "output_type": "stream",
          "text": [
            "wandb: Agent Finished Run: 6t366eo1 \n",
            "\n",
            "wandb: Agent Starting Run: hhdw29k4 with config:\n",
            "\tbatch_size: 64\n",
            "\tdropout: 0.5\n",
            "\tepochs: 5\n",
            "\tfc_layer_size: 128\n",
            "\tlearning_rate: 0.01\n",
            "\toptimizer: adam\n",
            "wandb: Agent Started Run: hhdw29k4\n"
          ],
          "name": "stdout"
        },
        {
          "output_type": "display_data",
          "data": {
            "text/html": [
              "\n",
              "                Logging results to <a href=\"https://wandb.com\" target=\"_blank\">Weights & Biases</a> <a href=\"https://docs.wandb.com/integrations/jupyter.html\" target=\"_blank\">(Documentation)</a>.<br/>\n",
              "                Project page: <a href=\"https://app.wandb.ai/cayush/Pytorch-sweeps\" target=\"_blank\">https://app.wandb.ai/cayush/Pytorch-sweeps</a><br/>\n",
              "                Sweep page: <a href=\"https://app.wandb.ai/cayush/Pytorch-sweeps/sweeps/r0euelyr\" target=\"_blank\">https://app.wandb.ai/cayush/Pytorch-sweeps/sweeps/r0euelyr</a><br/>\n",
              "Run page: <a href=\"https://app.wandb.ai/cayush/Pytorch-sweeps/runs/hhdw29k4\" target=\"_blank\">https://app.wandb.ai/cayush/Pytorch-sweeps/runs/hhdw29k4</a><br/>\n",
              "            "
            ],
            "text/plain": [
              "<IPython.core.display.HTML object>"
            ]
          },
          "metadata": {
            "tags": []
          }
        },
        {
          "output_type": "stream",
          "text": [
            "wandb: Agent Finished Run: hhdw29k4 \n",
            "\n",
            "wandb: Agent Starting Run: ztrwewxr with config:\n",
            "\tbatch_size: 256\n",
            "\tdropout: 0.4\n",
            "\tepochs: 10\n",
            "\tfc_layer_size: 128\n",
            "\tlearning_rate: 0.0001\n",
            "\toptimizer: adam\n",
            "wandb: Agent Started Run: ztrwewxr\n"
          ],
          "name": "stdout"
        },
        {
          "output_type": "display_data",
          "data": {
            "text/html": [
              "\n",
              "                Logging results to <a href=\"https://wandb.com\" target=\"_blank\">Weights & Biases</a> <a href=\"https://docs.wandb.com/integrations/jupyter.html\" target=\"_blank\">(Documentation)</a>.<br/>\n",
              "                Project page: <a href=\"https://app.wandb.ai/cayush/Pytorch-sweeps\" target=\"_blank\">https://app.wandb.ai/cayush/Pytorch-sweeps</a><br/>\n",
              "                Sweep page: <a href=\"https://app.wandb.ai/cayush/Pytorch-sweeps/sweeps/r0euelyr\" target=\"_blank\">https://app.wandb.ai/cayush/Pytorch-sweeps/sweeps/r0euelyr</a><br/>\n",
              "Run page: <a href=\"https://app.wandb.ai/cayush/Pytorch-sweeps/runs/ztrwewxr\" target=\"_blank\">https://app.wandb.ai/cayush/Pytorch-sweeps/runs/ztrwewxr</a><br/>\n",
              "            "
            ],
            "text/plain": [
              "<IPython.core.display.HTML object>"
            ]
          },
          "metadata": {
            "tags": []
          }
        },
        {
          "output_type": "stream",
          "text": [
            "wandb: Agent Finished Run: ztrwewxr \n",
            "\n",
            "wandb: Agent Starting Run: g0e98pkc with config:\n",
            "\tbatch_size: 64\n",
            "\tdropout: 0.4\n",
            "\tepochs: 2\n",
            "\tfc_layer_size: 512\n",
            "\tlearning_rate: 0.01\n",
            "\toptimizer: adam\n",
            "wandb: Agent Started Run: g0e98pkc\n"
          ],
          "name": "stdout"
        },
        {
          "output_type": "display_data",
          "data": {
            "text/html": [
              "\n",
              "                Logging results to <a href=\"https://wandb.com\" target=\"_blank\">Weights & Biases</a> <a href=\"https://docs.wandb.com/integrations/jupyter.html\" target=\"_blank\">(Documentation)</a>.<br/>\n",
              "                Project page: <a href=\"https://app.wandb.ai/cayush/Pytorch-sweeps\" target=\"_blank\">https://app.wandb.ai/cayush/Pytorch-sweeps</a><br/>\n",
              "                Sweep page: <a href=\"https://app.wandb.ai/cayush/Pytorch-sweeps/sweeps/r0euelyr\" target=\"_blank\">https://app.wandb.ai/cayush/Pytorch-sweeps/sweeps/r0euelyr</a><br/>\n",
              "Run page: <a href=\"https://app.wandb.ai/cayush/Pytorch-sweeps/runs/g0e98pkc\" target=\"_blank\">https://app.wandb.ai/cayush/Pytorch-sweeps/runs/g0e98pkc</a><br/>\n",
              "            "
            ],
            "text/plain": [
              "<IPython.core.display.HTML object>"
            ]
          },
          "metadata": {
            "tags": []
          }
        },
        {
          "output_type": "stream",
          "text": [
            "wandb: Agent Finished Run: g0e98pkc \n",
            "\n",
            "wandb: Agent Starting Run: 6138igog with config:\n",
            "\tbatch_size: 64\n",
            "\tdropout: 0.4\n",
            "\tepochs: 2\n",
            "\tfc_layer_size: 512\n",
            "\tlearning_rate: 0.0001\n",
            "\toptimizer: adam\n",
            "wandb: Agent Started Run: 6138igog\n"
          ],
          "name": "stdout"
        },
        {
          "output_type": "display_data",
          "data": {
            "text/html": [
              "\n",
              "                Logging results to <a href=\"https://wandb.com\" target=\"_blank\">Weights & Biases</a> <a href=\"https://docs.wandb.com/integrations/jupyter.html\" target=\"_blank\">(Documentation)</a>.<br/>\n",
              "                Project page: <a href=\"https://app.wandb.ai/cayush/Pytorch-sweeps\" target=\"_blank\">https://app.wandb.ai/cayush/Pytorch-sweeps</a><br/>\n",
              "                Sweep page: <a href=\"https://app.wandb.ai/cayush/Pytorch-sweeps/sweeps/r0euelyr\" target=\"_blank\">https://app.wandb.ai/cayush/Pytorch-sweeps/sweeps/r0euelyr</a><br/>\n",
              "Run page: <a href=\"https://app.wandb.ai/cayush/Pytorch-sweeps/runs/6138igog\" target=\"_blank\">https://app.wandb.ai/cayush/Pytorch-sweeps/runs/6138igog</a><br/>\n",
              "            "
            ],
            "text/plain": [
              "<IPython.core.display.HTML object>"
            ]
          },
          "metadata": {
            "tags": []
          }
        },
        {
          "output_type": "stream",
          "text": [
            "wandb: Agent Finished Run: 6138igog \n",
            "\n",
            "wandb: Agent Starting Run: mbinnc1d with config:\n",
            "\tbatch_size: 64\n",
            "\tdropout: 0.3\n",
            "\tepochs: 10\n",
            "\tfc_layer_size: 128\n",
            "\tlearning_rate: 0.001\n",
            "\toptimizer: sgd\n",
            "wandb: Agent Started Run: mbinnc1d\n"
          ],
          "name": "stdout"
        },
        {
          "output_type": "display_data",
          "data": {
            "text/html": [
              "\n",
              "                Logging results to <a href=\"https://wandb.com\" target=\"_blank\">Weights & Biases</a> <a href=\"https://docs.wandb.com/integrations/jupyter.html\" target=\"_blank\">(Documentation)</a>.<br/>\n",
              "                Project page: <a href=\"https://app.wandb.ai/cayush/Pytorch-sweeps\" target=\"_blank\">https://app.wandb.ai/cayush/Pytorch-sweeps</a><br/>\n",
              "                Sweep page: <a href=\"https://app.wandb.ai/cayush/Pytorch-sweeps/sweeps/r0euelyr\" target=\"_blank\">https://app.wandb.ai/cayush/Pytorch-sweeps/sweeps/r0euelyr</a><br/>\n",
              "Run page: <a href=\"https://app.wandb.ai/cayush/Pytorch-sweeps/runs/mbinnc1d\" target=\"_blank\">https://app.wandb.ai/cayush/Pytorch-sweeps/runs/mbinnc1d</a><br/>\n",
              "            "
            ],
            "text/plain": [
              "<IPython.core.display.HTML object>"
            ]
          },
          "metadata": {
            "tags": []
          }
        },
        {
          "output_type": "stream",
          "text": [
            "wandb: Agent Finished Run: mbinnc1d \n",
            "\n",
            "wandb: Agent Starting Run: mqx1txij with config:\n",
            "\tbatch_size: 64\n",
            "\tdropout: 0.4\n",
            "\tepochs: 5\n",
            "\tfc_layer_size: 512\n",
            "\tlearning_rate: 0.0003\n",
            "\toptimizer: adam\n",
            "wandb: Agent Started Run: mqx1txij\n"
          ],
          "name": "stdout"
        },
        {
          "output_type": "display_data",
          "data": {
            "text/html": [
              "\n",
              "                Logging results to <a href=\"https://wandb.com\" target=\"_blank\">Weights & Biases</a> <a href=\"https://docs.wandb.com/integrations/jupyter.html\" target=\"_blank\">(Documentation)</a>.<br/>\n",
              "                Project page: <a href=\"https://app.wandb.ai/cayush/Pytorch-sweeps\" target=\"_blank\">https://app.wandb.ai/cayush/Pytorch-sweeps</a><br/>\n",
              "                Sweep page: <a href=\"https://app.wandb.ai/cayush/Pytorch-sweeps/sweeps/r0euelyr\" target=\"_blank\">https://app.wandb.ai/cayush/Pytorch-sweeps/sweeps/r0euelyr</a><br/>\n",
              "Run page: <a href=\"https://app.wandb.ai/cayush/Pytorch-sweeps/runs/mqx1txij\" target=\"_blank\">https://app.wandb.ai/cayush/Pytorch-sweeps/runs/mqx1txij</a><br/>\n",
              "            "
            ],
            "text/plain": [
              "<IPython.core.display.HTML object>"
            ]
          },
          "metadata": {
            "tags": []
          }
        },
        {
          "output_type": "stream",
          "text": [
            "wandb: Agent Finished Run: mqx1txij \n",
            "\n",
            "wandb: Agent Starting Run: uhabsa60 with config:\n",
            "\tbatch_size: 128\n",
            "\tdropout: 0.4\n",
            "\tepochs: 2\n",
            "\tfc_layer_size: 512\n",
            "\tlearning_rate: 3e-05\n",
            "\toptimizer: sgd\n",
            "wandb: Agent Started Run: uhabsa60\n"
          ],
          "name": "stdout"
        },
        {
          "output_type": "display_data",
          "data": {
            "text/html": [
              "\n",
              "                Logging results to <a href=\"https://wandb.com\" target=\"_blank\">Weights & Biases</a> <a href=\"https://docs.wandb.com/integrations/jupyter.html\" target=\"_blank\">(Documentation)</a>.<br/>\n",
              "                Project page: <a href=\"https://app.wandb.ai/cayush/Pytorch-sweeps\" target=\"_blank\">https://app.wandb.ai/cayush/Pytorch-sweeps</a><br/>\n",
              "                Sweep page: <a href=\"https://app.wandb.ai/cayush/Pytorch-sweeps/sweeps/r0euelyr\" target=\"_blank\">https://app.wandb.ai/cayush/Pytorch-sweeps/sweeps/r0euelyr</a><br/>\n",
              "Run page: <a href=\"https://app.wandb.ai/cayush/Pytorch-sweeps/runs/uhabsa60\" target=\"_blank\">https://app.wandb.ai/cayush/Pytorch-sweeps/runs/uhabsa60</a><br/>\n",
              "            "
            ],
            "text/plain": [
              "<IPython.core.display.HTML object>"
            ]
          },
          "metadata": {
            "tags": []
          }
        },
        {
          "output_type": "stream",
          "text": [
            "wandb: Agent Finished Run: uhabsa60 \n",
            "\n",
            "wandb: Agent Starting Run: xarc3hgr with config:\n",
            "\tbatch_size: 64\n",
            "\tdropout: 0.3\n",
            "\tepochs: 5\n",
            "\tfc_layer_size: 512\n",
            "\tlearning_rate: 0.0003\n",
            "\toptimizer: adam\n",
            "wandb: Agent Started Run: xarc3hgr\n"
          ],
          "name": "stdout"
        },
        {
          "output_type": "display_data",
          "data": {
            "text/html": [
              "\n",
              "                Logging results to <a href=\"https://wandb.com\" target=\"_blank\">Weights & Biases</a> <a href=\"https://docs.wandb.com/integrations/jupyter.html\" target=\"_blank\">(Documentation)</a>.<br/>\n",
              "                Project page: <a href=\"https://app.wandb.ai/cayush/Pytorch-sweeps\" target=\"_blank\">https://app.wandb.ai/cayush/Pytorch-sweeps</a><br/>\n",
              "                Sweep page: <a href=\"https://app.wandb.ai/cayush/Pytorch-sweeps/sweeps/r0euelyr\" target=\"_blank\">https://app.wandb.ai/cayush/Pytorch-sweeps/sweeps/r0euelyr</a><br/>\n",
              "Run page: <a href=\"https://app.wandb.ai/cayush/Pytorch-sweeps/runs/xarc3hgr\" target=\"_blank\">https://app.wandb.ai/cayush/Pytorch-sweeps/runs/xarc3hgr</a><br/>\n",
              "            "
            ],
            "text/plain": [
              "<IPython.core.display.HTML object>"
            ]
          },
          "metadata": {
            "tags": []
          }
        },
        {
          "output_type": "stream",
          "text": [
            "wandb: Agent Finished Run: xarc3hgr \n",
            "\n",
            "wandb: Agent Starting Run: kmrb1g49 with config:\n",
            "\tbatch_size: 256\n",
            "\tdropout: 0.5\n",
            "\tepochs: 5\n",
            "\tfc_layer_size: 256\n",
            "\tlearning_rate: 3e-05\n",
            "\toptimizer: adam\n",
            "wandb: Agent Started Run: kmrb1g49\n"
          ],
          "name": "stdout"
        },
        {
          "output_type": "display_data",
          "data": {
            "text/html": [
              "\n",
              "                Logging results to <a href=\"https://wandb.com\" target=\"_blank\">Weights & Biases</a> <a href=\"https://docs.wandb.com/integrations/jupyter.html\" target=\"_blank\">(Documentation)</a>.<br/>\n",
              "                Project page: <a href=\"https://app.wandb.ai/cayush/Pytorch-sweeps\" target=\"_blank\">https://app.wandb.ai/cayush/Pytorch-sweeps</a><br/>\n",
              "                Sweep page: <a href=\"https://app.wandb.ai/cayush/Pytorch-sweeps/sweeps/r0euelyr\" target=\"_blank\">https://app.wandb.ai/cayush/Pytorch-sweeps/sweeps/r0euelyr</a><br/>\n",
              "Run page: <a href=\"https://app.wandb.ai/cayush/Pytorch-sweeps/runs/kmrb1g49\" target=\"_blank\">https://app.wandb.ai/cayush/Pytorch-sweeps/runs/kmrb1g49</a><br/>\n",
              "            "
            ],
            "text/plain": [
              "<IPython.core.display.HTML object>"
            ]
          },
          "metadata": {
            "tags": []
          }
        },
        {
          "output_type": "stream",
          "text": [
            "wandb: Agent Finished Run: kmrb1g49 \n",
            "\n",
            "wandb: Agent Starting Run: icbz0u5s with config:\n",
            "\tbatch_size: 128\n",
            "\tdropout: 0.4\n",
            "\tepochs: 5\n",
            "\tfc_layer_size: 128\n",
            "\tlearning_rate: 1e-05\n",
            "\toptimizer: sgd\n",
            "wandb: Agent Started Run: icbz0u5s\n"
          ],
          "name": "stdout"
        },
        {
          "output_type": "display_data",
          "data": {
            "text/html": [
              "\n",
              "                Logging results to <a href=\"https://wandb.com\" target=\"_blank\">Weights & Biases</a> <a href=\"https://docs.wandb.com/integrations/jupyter.html\" target=\"_blank\">(Documentation)</a>.<br/>\n",
              "                Project page: <a href=\"https://app.wandb.ai/cayush/Pytorch-sweeps\" target=\"_blank\">https://app.wandb.ai/cayush/Pytorch-sweeps</a><br/>\n",
              "                Sweep page: <a href=\"https://app.wandb.ai/cayush/Pytorch-sweeps/sweeps/r0euelyr\" target=\"_blank\">https://app.wandb.ai/cayush/Pytorch-sweeps/sweeps/r0euelyr</a><br/>\n",
              "Run page: <a href=\"https://app.wandb.ai/cayush/Pytorch-sweeps/runs/icbz0u5s\" target=\"_blank\">https://app.wandb.ai/cayush/Pytorch-sweeps/runs/icbz0u5s</a><br/>\n",
              "            "
            ],
            "text/plain": [
              "<IPython.core.display.HTML object>"
            ]
          },
          "metadata": {
            "tags": []
          }
        },
        {
          "output_type": "stream",
          "text": [
            "wandb: Agent Finished Run: icbz0u5s \n",
            "\n",
            "wandb: Agent Starting Run: ws825w78 with config:\n",
            "\tbatch_size: 256\n",
            "\tdropout: 0.4\n",
            "\tepochs: 2\n",
            "\tfc_layer_size: 128\n",
            "\tlearning_rate: 0.0001\n",
            "\toptimizer: adam\n",
            "wandb: Agent Started Run: ws825w78\n"
          ],
          "name": "stdout"
        },
        {
          "output_type": "display_data",
          "data": {
            "text/html": [
              "\n",
              "                Logging results to <a href=\"https://wandb.com\" target=\"_blank\">Weights & Biases</a> <a href=\"https://docs.wandb.com/integrations/jupyter.html\" target=\"_blank\">(Documentation)</a>.<br/>\n",
              "                Project page: <a href=\"https://app.wandb.ai/cayush/Pytorch-sweeps\" target=\"_blank\">https://app.wandb.ai/cayush/Pytorch-sweeps</a><br/>\n",
              "                Sweep page: <a href=\"https://app.wandb.ai/cayush/Pytorch-sweeps/sweeps/r0euelyr\" target=\"_blank\">https://app.wandb.ai/cayush/Pytorch-sweeps/sweeps/r0euelyr</a><br/>\n",
              "Run page: <a href=\"https://app.wandb.ai/cayush/Pytorch-sweeps/runs/ws825w78\" target=\"_blank\">https://app.wandb.ai/cayush/Pytorch-sweeps/runs/ws825w78</a><br/>\n",
              "            "
            ],
            "text/plain": [
              "<IPython.core.display.HTML object>"
            ]
          },
          "metadata": {
            "tags": []
          }
        },
        {
          "output_type": "stream",
          "text": [
            "wandb: Agent Finished Run: ws825w78 \n",
            "\n",
            "wandb: Agent Starting Run: h3n7ishs with config:\n",
            "\tbatch_size: 32\n",
            "\tdropout: 0.4\n",
            "\tepochs: 5\n",
            "\tfc_layer_size: 256\n",
            "\tlearning_rate: 1e-05\n",
            "\toptimizer: sgd\n",
            "wandb: Agent Started Run: h3n7ishs\n"
          ],
          "name": "stdout"
        },
        {
          "output_type": "display_data",
          "data": {
            "text/html": [
              "\n",
              "                Logging results to <a href=\"https://wandb.com\" target=\"_blank\">Weights & Biases</a> <a href=\"https://docs.wandb.com/integrations/jupyter.html\" target=\"_blank\">(Documentation)</a>.<br/>\n",
              "                Project page: <a href=\"https://app.wandb.ai/cayush/Pytorch-sweeps\" target=\"_blank\">https://app.wandb.ai/cayush/Pytorch-sweeps</a><br/>\n",
              "                Sweep page: <a href=\"https://app.wandb.ai/cayush/Pytorch-sweeps/sweeps/r0euelyr\" target=\"_blank\">https://app.wandb.ai/cayush/Pytorch-sweeps/sweeps/r0euelyr</a><br/>\n",
              "Run page: <a href=\"https://app.wandb.ai/cayush/Pytorch-sweeps/runs/h3n7ishs\" target=\"_blank\">https://app.wandb.ai/cayush/Pytorch-sweeps/runs/h3n7ishs</a><br/>\n",
              "            "
            ],
            "text/plain": [
              "<IPython.core.display.HTML object>"
            ]
          },
          "metadata": {
            "tags": []
          }
        }
      ]
    },
    {
      "cell_type": "markdown",
      "metadata": {
        "id": "jnhWMrkodjdN"
      },
      "source": [
        "# Visualize Sweeps Results\n",
        "\n",
        "## Parallel coordinates plot\n",
        "This plot maps hyperparameter values to model metrics. It’s useful for honing in on combinations of hyperparameters that led to the best model performance.\n",
        "\n",
        "![](https://assets.website-files.com/5ac6b7f2924c652fd013a891/5e190366778ad831455f9af2_s_194708415DEC35F74A7691FF6810D3B14703D1EFE1672ED29000BA98171242A5_1578695138341_image.png)\n",
        "\n",
        "## Hyperparameter Importance Plot\n",
        "The hyperparameter importance plot surfaces which hyperparameters were the best predictors of, and highly correlated to desirable values for your metrics.\n",
        "\n",
        "![](https://assets.website-files.com/5ac6b7f2924c652fd013a891/5e190367778ad820b35f9af5_s_194708415DEC35F74A7691FF6810D3B14703D1EFE1672ED29000BA98171242A5_1578695757573_image.png)\n",
        "\n",
        "These visualizations can help you save both time and resources running expensive hyperparameter optimizations by honing in on the parameters (and value ranges) that are the most important, and thereby worthy of further exploration.\n",
        "\n",
        "# Next step - Get your hands dirty with sweeps\n",
        "We created a simple training script and [a few flavors of sweep configs](https://github.com/wandb/examples/tree/master/keras-cnn-fashion) for you to play with. We highly encourage you to give these a try. This repo also has examples to help you try more advanced sweep features like [Bayesian Hyperband](https://app.wandb.ai/wandb/examples-keras-cnn-fashion/sweeps/us0ifmrf?workspace=user-lavanyashukla), and [Hyperopt](https://app.wandb.ai/wandb/examples-keras-cnn-fashion/sweeps/xbs2wm5e?workspace=user-lavanyashukla)."
      ]
    }
  ]
}