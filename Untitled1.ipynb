{
 "cells": [
  {
   "cell_type": "code",
   "execution_count": 1,
   "id": "e51a9a8d",
   "metadata": {
    "scrolled": true
   },
   "outputs": [
    {
     "name": "stderr",
     "output_type": "stream",
     "text": [
      "wandb: Currently logged in as: jaewooklee (use `wandb login --relogin` to force relogin)\n"
     ]
    }
   ],
   "source": [
    "!wandb login"
   ]
  },
  {
   "cell_type": "code",
   "execution_count": 3,
   "id": "1ff53e48",
   "metadata": {},
   "outputs": [],
   "source": [
    "import wandb"
   ]
  },
  {
   "cell_type": "code",
   "execution_count": 7,
   "id": "aab6a0e5",
   "metadata": {},
   "outputs": [
    {
     "ename": "SyntaxError",
     "evalue": "invalid syntax (<ipython-input-7-aeaee1b68538>, line 11)",
     "output_type": "error",
     "traceback": [
      "\u001b[1;36m  File \u001b[1;32m\"<ipython-input-7-aeaee1b68538>\"\u001b[1;36m, line \u001b[1;32m11\u001b[0m\n\u001b[1;33m    boxes=[...identical to previous example...])\u001b[0m\n\u001b[1;37m              ^\u001b[0m\n\u001b[1;31mSyntaxError\u001b[0m\u001b[1;31m:\u001b[0m invalid syntax\n"
     ]
    }
   ],
   "source": [
    "raw_image_path = \"car.jpg\"\n",
    "\n",
    "class_set = wandb.Classes([\n",
    "    {\"name\" : \"person\", \"id\" : 0},\n",
    "    {\"name\" : \"car\", \"id\" : 1},\n",
    "    {\"name\" : \"road\", \"id\" : 2},\n",
    "    {\"name\" : \"building\", \"id\" : 3}\n",
    "])\n",
    "\n",
    "image_with_boxes = wandb.Image(raw_image_path, classes=class_set,\n",
    "    boxes=[...identical to previous example...])"
   ]
  },
  {
   "cell_type": "code",
   "execution_count": 6,
   "id": "44d99b25",
   "metadata": {},
   "outputs": [
    {
     "ename": "TypeError",
     "evalue": "argument of type 'int' is not iterable",
     "output_type": "error",
     "traceback": [
      "\u001b[1;31m---------------------------------------------------------------------------\u001b[0m",
      "\u001b[1;31mTypeError\u001b[0m                                 Traceback (most recent call last)",
      "\u001b[1;32m<ipython-input-6-e34627b22fd6>\u001b[0m in \u001b[0;36m<module>\u001b[1;34m\u001b[0m\n\u001b[0;32m      6\u001b[0m }\n\u001b[0;32m      7\u001b[0m \u001b[0mimage\u001b[0m \u001b[1;33m=\u001b[0m \u001b[1;34m\"car.jpg\"\u001b[0m\u001b[1;33m\u001b[0m\u001b[1;33m\u001b[0m\u001b[0m\n\u001b[1;32m----> 8\u001b[1;33m img = wandb.Image(image, classes = class_labels, boxes={\n\u001b[0m\u001b[0;32m      9\u001b[0m     \"predictions\": {\n\u001b[0;32m     10\u001b[0m         \"box_data\": [\n",
      "\u001b[1;32mC:\\anaconda3\\lib\\site-packages\\wandb\\sdk\\data_types.py\u001b[0m in \u001b[0;36m__init__\u001b[1;34m(self, data_or_path, mode, caption, grouping, classes, boxes, masks)\u001b[0m\n\u001b[0;32m   1816\u001b[0m             \u001b[0mself\u001b[0m\u001b[1;33m.\u001b[0m\u001b[0m_initialize_from_data\u001b[0m\u001b[1;33m(\u001b[0m\u001b[0mdata_or_path\u001b[0m\u001b[1;33m,\u001b[0m \u001b[0mmode\u001b[0m\u001b[1;33m)\u001b[0m\u001b[1;33m\u001b[0m\u001b[1;33m\u001b[0m\u001b[0m\n\u001b[0;32m   1817\u001b[0m \u001b[1;33m\u001b[0m\u001b[0m\n\u001b[1;32m-> 1818\u001b[1;33m         \u001b[0mself\u001b[0m\u001b[1;33m.\u001b[0m\u001b[0m_set_initialization_meta\u001b[0m\u001b[1;33m(\u001b[0m\u001b[0mgrouping\u001b[0m\u001b[1;33m,\u001b[0m \u001b[0mcaption\u001b[0m\u001b[1;33m,\u001b[0m \u001b[0mclasses\u001b[0m\u001b[1;33m,\u001b[0m \u001b[0mboxes\u001b[0m\u001b[1;33m,\u001b[0m \u001b[0mmasks\u001b[0m\u001b[1;33m)\u001b[0m\u001b[1;33m\u001b[0m\u001b[1;33m\u001b[0m\u001b[0m\n\u001b[0m\u001b[0;32m   1819\u001b[0m \u001b[1;33m\u001b[0m\u001b[0m\n\u001b[0;32m   1820\u001b[0m     def _set_initialization_meta(\n",
      "\u001b[1;32mC:\\anaconda3\\lib\\site-packages\\wandb\\sdk\\data_types.py\u001b[0m in \u001b[0;36m_set_initialization_meta\u001b[1;34m(self, grouping, caption, classes, boxes, masks)\u001b[0m\n\u001b[0;32m   1834\u001b[0m         \u001b[1;32mif\u001b[0m \u001b[0mclasses\u001b[0m \u001b[1;32mis\u001b[0m \u001b[1;32mnot\u001b[0m \u001b[1;32mNone\u001b[0m\u001b[1;33m:\u001b[0m\u001b[1;33m\u001b[0m\u001b[1;33m\u001b[0m\u001b[0m\n\u001b[0;32m   1835\u001b[0m             \u001b[1;32mif\u001b[0m \u001b[1;32mnot\u001b[0m \u001b[0misinstance\u001b[0m\u001b[1;33m(\u001b[0m\u001b[0mclasses\u001b[0m\u001b[1;33m,\u001b[0m \u001b[0mClasses\u001b[0m\u001b[1;33m)\u001b[0m\u001b[1;33m:\u001b[0m\u001b[1;33m\u001b[0m\u001b[1;33m\u001b[0m\u001b[0m\n\u001b[1;32m-> 1836\u001b[1;33m                 \u001b[0mself\u001b[0m\u001b[1;33m.\u001b[0m\u001b[0m_classes\u001b[0m \u001b[1;33m=\u001b[0m \u001b[0mClasses\u001b[0m\u001b[1;33m(\u001b[0m\u001b[0mclasses\u001b[0m\u001b[1;33m)\u001b[0m\u001b[1;33m\u001b[0m\u001b[1;33m\u001b[0m\u001b[0m\n\u001b[0m\u001b[0;32m   1837\u001b[0m             \u001b[1;32melse\u001b[0m\u001b[1;33m:\u001b[0m\u001b[1;33m\u001b[0m\u001b[1;33m\u001b[0m\u001b[0m\n\u001b[0;32m   1838\u001b[0m                 \u001b[0mself\u001b[0m\u001b[1;33m.\u001b[0m\u001b[0m_classes\u001b[0m \u001b[1;33m=\u001b[0m \u001b[0mclasses\u001b[0m\u001b[1;33m\u001b[0m\u001b[1;33m\u001b[0m\u001b[0m\n",
      "\u001b[1;32mC:\\anaconda3\\lib\\site-packages\\wandb\\sdk\\data_types.py\u001b[0m in \u001b[0;36m__init__\u001b[1;34m(self, class_set)\u001b[0m\n\u001b[0;32m   1717\u001b[0m         \u001b[0msuper\u001b[0m\u001b[1;33m(\u001b[0m\u001b[0mClasses\u001b[0m\u001b[1;33m,\u001b[0m \u001b[0mself\u001b[0m\u001b[1;33m)\u001b[0m\u001b[1;33m.\u001b[0m\u001b[0m__init__\u001b[0m\u001b[1;33m(\u001b[0m\u001b[1;33m)\u001b[0m\u001b[1;33m\u001b[0m\u001b[1;33m\u001b[0m\u001b[0m\n\u001b[0;32m   1718\u001b[0m         \u001b[1;32mfor\u001b[0m \u001b[0mclass_obj\u001b[0m \u001b[1;32min\u001b[0m \u001b[0mclass_set\u001b[0m\u001b[1;33m:\u001b[0m\u001b[1;33m\u001b[0m\u001b[1;33m\u001b[0m\u001b[0m\n\u001b[1;32m-> 1719\u001b[1;33m             \u001b[1;32massert\u001b[0m \u001b[1;34m\"id\"\u001b[0m \u001b[1;32min\u001b[0m \u001b[0mclass_obj\u001b[0m \u001b[1;32mand\u001b[0m \u001b[1;34m\"name\"\u001b[0m \u001b[1;32min\u001b[0m \u001b[0mclass_obj\u001b[0m\u001b[1;33m\u001b[0m\u001b[1;33m\u001b[0m\u001b[0m\n\u001b[0m\u001b[0;32m   1720\u001b[0m         \u001b[0mself\u001b[0m\u001b[1;33m.\u001b[0m\u001b[0m_class_set\u001b[0m \u001b[1;33m=\u001b[0m \u001b[0mclass_set\u001b[0m\u001b[1;33m\u001b[0m\u001b[1;33m\u001b[0m\u001b[0m\n\u001b[0;32m   1721\u001b[0m \u001b[1;33m\u001b[0m\u001b[0m\n",
      "\u001b[1;31mTypeError\u001b[0m: argument of type 'int' is not iterable"
     ]
    }
   ],
   "source": [
    "class_labels = {\n",
    "    \n",
    "    0: \"person\",\n",
    "    1: \"car\",\n",
    "    2: \"road\",\n",
    "    3: \"building\"\n",
    "}\n",
    "image = \"car.jpg\"\n",
    "img = wandb.Image(image, classes = class_labels, boxes={\n",
    "    \"predictions\": {\n",
    "        \"box_data\": [\n",
    "            {\n",
    "                # one box expressed in the default relative/fractional domain\n",
    "                \"position\": {\n",
    "                    \"minX\": 0.1,\n",
    "                    \"maxX\": 0.2,\n",
    "                    \"minY\": 0.3,\n",
    "                    \"maxY\": 0.4\n",
    "                },\n",
    "                \"class_id\" : 1,\n",
    "                \"box_caption\": class_labels[1],\n",
    "                \"scores\" : {\n",
    "                    \"acc\": 0.2,\n",
    "                    \"loss\": 1.2\n",
    "                }\n",
    "            },\n",
    "            {\n",
    "                # another box expressed in the pixel domain\n",
    "                \"position\": {\n",
    "                    \"middle\": [150, 20],\n",
    "                    \"width\": 68,\n",
    "                    \"height\": 112\n",
    "                },\n",
    "                \"domain\" : \"pixel\",\n",
    "                \"class_id\" : 3,\n",
    "                \"box_caption\": \"a building\",\n",
    "                \"scores\" : {\n",
    "                    \"acc\": 0.5,\n",
    "                    \"loss\": 0.7\n",
    "                }\n",
    "            },\n",
    "            ...\n",
    "            # Log as many boxes an as needed\n",
    "        ],\n",
    "        \"class_labels\": class_labels\n",
    "    },\n",
    "    # Log each meaningful group of boxes with a unique key name\n",
    "    \"ground_truth\": {\n",
    "    ...\n",
    "    }\n",
    "})\n",
    "\n",
    "wandb.log({\"driving_scene\": img})"
   ]
  },
  {
   "cell_type": "code",
   "execution_count": null,
   "id": "bf37727c",
   "metadata": {},
   "outputs": [],
   "source": []
  }
 ],
 "metadata": {
  "kernelspec": {
   "display_name": "Python 3",
   "language": "python",
   "name": "python3"
  },
  "language_info": {
   "codemirror_mode": {
    "name": "ipython",
    "version": 3
   },
   "file_extension": ".py",
   "mimetype": "text/x-python",
   "name": "python",
   "nbconvert_exporter": "python",
   "pygments_lexer": "ipython3",
   "version": "3.8.5"
  }
 },
 "nbformat": 4,
 "nbformat_minor": 5
}
