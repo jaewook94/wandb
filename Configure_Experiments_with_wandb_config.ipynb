{
 "cells": [
  {
   "cell_type": "code",
   "execution_count": 2,
   "id": "eef1fed9",
   "metadata": {},
   "outputs": [],
   "source": [
    "import wandb"
   ]
  },
  {
   "cell_type": "code",
   "execution_count": 3,
   "id": "34fbe9d6",
   "metadata": {
    "scrolled": true
   },
   "outputs": [
    {
     "name": "stderr",
     "output_type": "stream",
     "text": [
      "\u001b[34m\u001b[1mwandb\u001b[0m: Currently logged in as: \u001b[33mjaewooklee\u001b[0m (use `wandb login --relogin` to force relogin)\n"
     ]
    },
    {
     "data": {
      "text/html": [
       "\n",
       "                Tracking run with wandb version 0.11.0<br/>\n",
       "                Syncing run <strong style=\"color:#cdcd00\">legendary-microwave-34</strong> to <a href=\"https://wandb.ai\" target=\"_blank\">Weights & Biases</a> <a href=\"https://docs.wandb.com/integrations/jupyter.html\" target=\"_blank\">(Documentation)</a>.<br/>\n",
       "                Project page: <a href=\"https://wandb.ai/jaewooklee/wandb\" target=\"_blank\">https://wandb.ai/jaewooklee/wandb</a><br/>\n",
       "                Run page: <a href=\"https://wandb.ai/jaewooklee/wandb/runs/h1qhlgkt\" target=\"_blank\">https://wandb.ai/jaewooklee/wandb/runs/h1qhlgkt</a><br/>\n",
       "                Run data is saved locally in <code>C:\\git\\wandb\\wandb\\run-20210729_193552-h1qhlgkt</code><br/><br/>\n",
       "            "
      ],
      "text/plain": [
       "<IPython.core.display.HTML object>"
      ]
     },
     "metadata": {},
     "output_type": "display_data"
    },
    {
     "data": {
      "text/html": [
       "<h1>Run(h1qhlgkt)</h1><iframe src=\"https://wandb.ai/jaewooklee/wandb/runs/h1qhlgkt\" style=\"border:none;width:100%;height:400px\"></iframe>"
      ],
      "text/plain": [
       "<wandb.sdk.wandb_run.Run at 0x1ed70b396d0>"
      ]
     },
     "execution_count": 3,
     "metadata": {},
     "output_type": "execute_result"
    }
   ],
   "source": [
    "wandb.config.epochs = 4\n",
    "wandb.config.batch_size = 32\n",
    "# you can also initialize your run with a config\n",
    "wandb.init(config={\"epochs\": 4})"
   ]
  },
  {
   "cell_type": "code",
   "execution_count": 4,
   "id": "f2641bbc",
   "metadata": {},
   "outputs": [
    {
     "data": {
      "text/plain": [
       "{'epochs': 4}"
      ]
     },
     "execution_count": 4,
     "metadata": {},
     "output_type": "execute_result"
    }
   ],
   "source": [
    "wandb.config"
   ]
  },
  {
   "cell_type": "code",
   "execution_count": 5,
   "id": "8ef6eb53",
   "metadata": {},
   "outputs": [
    {
     "data": {
      "text/html": [
       "Finishing last run (ID:h1qhlgkt) before initializing another..."
      ],
      "text/plain": [
       "<IPython.core.display.HTML object>"
      ]
     },
     "metadata": {},
     "output_type": "display_data"
    },
    {
     "data": {
      "text/html": [
       "<br/>Waiting for W&B process to finish, PID 1180<br/>Program ended successfully."
      ],
      "text/plain": [
       "<IPython.core.display.HTML object>"
      ]
     },
     "metadata": {},
     "output_type": "display_data"
    },
    {
     "data": {
      "application/vnd.jupyter.widget-view+json": {
       "model_id": "",
       "version_major": 2,
       "version_minor": 0
      },
      "text/plain": [
       "VBox(children=(Label(value=' 0.00MB of 0.00MB uploaded (0.00MB deduped)\\r'), FloatProgress(value=1.0, max=1.0)…"
      ]
     },
     "metadata": {},
     "output_type": "display_data"
    },
    {
     "data": {
      "text/html": [
       "Find user logs for this run at: <code>C:\\git\\wandb\\wandb\\run-20210729_193552-h1qhlgkt\\logs\\debug.log</code>"
      ],
      "text/plain": [
       "<IPython.core.display.HTML object>"
      ]
     },
     "metadata": {},
     "output_type": "display_data"
    },
    {
     "data": {
      "text/html": [
       "Find internal logs for this run at: <code>C:\\git\\wandb\\wandb\\run-20210729_193552-h1qhlgkt\\logs\\debug-internal.log</code>"
      ],
      "text/plain": [
       "<IPython.core.display.HTML object>"
      ]
     },
     "metadata": {},
     "output_type": "display_data"
    },
    {
     "data": {
      "text/html": [
       "Synced 4 W&B file(s), 0 media file(s), 0 artifact file(s) and 0 other file(s)"
      ],
      "text/plain": [
       "<IPython.core.display.HTML object>"
      ]
     },
     "metadata": {},
     "output_type": "display_data"
    },
    {
     "data": {
      "text/html": [
       "\n",
       "                    <br/>Synced <strong style=\"color:#cdcd00\">legendary-microwave-34</strong>: <a href=\"https://wandb.ai/jaewooklee/wandb/runs/h1qhlgkt\" target=\"_blank\">https://wandb.ai/jaewooklee/wandb/runs/h1qhlgkt</a><br/>\n",
       "                "
      ],
      "text/plain": [
       "<IPython.core.display.HTML object>"
      ]
     },
     "metadata": {},
     "output_type": "display_data"
    },
    {
     "data": {
      "text/html": [
       "...Successfully finished last run (ID:h1qhlgkt). Initializing new run:<br/><br/>"
      ],
      "text/plain": [
       "<IPython.core.display.HTML object>"
      ]
     },
     "metadata": {},
     "output_type": "display_data"
    },
    {
     "data": {
      "text/html": [
       "\n",
       "                Tracking run with wandb version 0.11.0<br/>\n",
       "                Syncing run <strong style=\"color:#cdcd00\">ruby-puddle-35</strong> to <a href=\"https://wandb.ai\" target=\"_blank\">Weights & Biases</a> <a href=\"https://docs.wandb.com/integrations/jupyter.html\" target=\"_blank\">(Documentation)</a>.<br/>\n",
       "                Project page: <a href=\"https://wandb.ai/jaewooklee/wandb\" target=\"_blank\">https://wandb.ai/jaewooklee/wandb</a><br/>\n",
       "                Run page: <a href=\"https://wandb.ai/jaewooklee/wandb/runs/3vf1e1ma\" target=\"_blank\">https://wandb.ai/jaewooklee/wandb/runs/3vf1e1ma</a><br/>\n",
       "                Run data is saved locally in <code>C:\\git\\wandb\\wandb\\run-20210729_193820-3vf1e1ma</code><br/><br/>\n",
       "            "
      ],
      "text/plain": [
       "<IPython.core.display.HTML object>"
      ]
     },
     "metadata": {},
     "output_type": "display_data"
    }
   ],
   "source": [
    "wandb.init(config={\"epochs\": 4, \"batch_size\": 32})\n",
    "# later\n",
    "wandb.config.update({\"lr\": 0.1, \"channels\": 16})"
   ]
  },
  {
   "cell_type": "code",
   "execution_count": 6,
   "id": "bdbfc011",
   "metadata": {},
   "outputs": [
    {
     "data": {
      "text/plain": [
       "{'epochs': 4, 'batch_size': 32, 'lr': 0.1, 'channels': 16}"
      ]
     },
     "execution_count": 6,
     "metadata": {},
     "output_type": "execute_result"
    }
   ],
   "source": [
    "wandb.config"
   ]
  },
  {
   "cell_type": "code",
   "execution_count": 10,
   "id": "a4e3fef8",
   "metadata": {
    "scrolled": true
   },
   "outputs": [
    {
     "data": {
      "text/html": [
       "Finishing last run (ID:1bfl7rfr) before initializing another..."
      ],
      "text/plain": [
       "<IPython.core.display.HTML object>"
      ]
     },
     "metadata": {},
     "output_type": "display_data"
    },
    {
     "data": {
      "text/html": [
       "<br/>Waiting for W&B process to finish, PID 27160<br/>Program failed with code 2.  Press ctrl-c to abort syncing."
      ],
      "text/plain": [
       "<IPython.core.display.HTML object>"
      ]
     },
     "metadata": {},
     "output_type": "display_data"
    },
    {
     "data": {
      "application/vnd.jupyter.widget-view+json": {
       "model_id": "",
       "version_major": 2,
       "version_minor": 0
      },
      "text/plain": [
       "VBox(children=(Label(value=' 0.00MB of 0.00MB uploaded (0.00MB deduped)\\r'), FloatProgress(value=1.0, max=1.0)…"
      ]
     },
     "metadata": {},
     "output_type": "display_data"
    },
    {
     "data": {
      "text/html": [
       "Find user logs for this run at: <code>C:\\git\\wandb\\wandb\\run-20210729_194858-1bfl7rfr\\logs\\debug.log</code>"
      ],
      "text/plain": [
       "<IPython.core.display.HTML object>"
      ]
     },
     "metadata": {},
     "output_type": "display_data"
    },
    {
     "data": {
      "text/html": [
       "Find internal logs for this run at: <code>C:\\git\\wandb\\wandb\\run-20210729_194858-1bfl7rfr\\logs\\debug-internal.log</code>"
      ],
      "text/plain": [
       "<IPython.core.display.HTML object>"
      ]
     },
     "metadata": {},
     "output_type": "display_data"
    },
    {
     "data": {
      "text/html": [
       "Synced 5 W&B file(s), 0 media file(s), 0 artifact file(s) and 0 other file(s)"
      ],
      "text/plain": [
       "<IPython.core.display.HTML object>"
      ]
     },
     "metadata": {},
     "output_type": "display_data"
    },
    {
     "data": {
      "text/html": [
       "\n",
       "                    <br/>Synced <strong style=\"color:#cdcd00\">serene-dragon-38</strong>: <a href=\"https://wandb.ai/jaewooklee/wandb/runs/1bfl7rfr\" target=\"_blank\">https://wandb.ai/jaewooklee/wandb/runs/1bfl7rfr</a><br/>\n",
       "                "
      ],
      "text/plain": [
       "<IPython.core.display.HTML object>"
      ]
     },
     "metadata": {},
     "output_type": "display_data"
    },
    {
     "data": {
      "text/html": [
       "...Successfully finished last run (ID:1bfl7rfr). Initializing new run:<br/><br/>"
      ],
      "text/plain": [
       "<IPython.core.display.HTML object>"
      ]
     },
     "metadata": {},
     "output_type": "display_data"
    },
    {
     "data": {
      "text/html": [
       "\n",
       "                Tracking run with wandb version 0.11.0<br/>\n",
       "                Syncing run <strong style=\"color:#cdcd00\">major-oath-39</strong> to <a href=\"https://wandb.ai\" target=\"_blank\">Weights & Biases</a> <a href=\"https://docs.wandb.com/integrations/jupyter.html\" target=\"_blank\">(Documentation)</a>.<br/>\n",
       "                Project page: <a href=\"https://wandb.ai/jaewooklee/wandb\" target=\"_blank\">https://wandb.ai/jaewooklee/wandb</a><br/>\n",
       "                Run page: <a href=\"https://wandb.ai/jaewooklee/wandb/runs/4ce3wfq2\" target=\"_blank\">https://wandb.ai/jaewooklee/wandb/runs/4ce3wfq2</a><br/>\n",
       "                Run data is saved locally in <code>C:\\git\\wandb\\wandb\\run-20210729_195057-4ce3wfq2</code><br/><br/>\n",
       "            "
      ],
      "text/plain": [
       "<IPython.core.display.HTML object>"
      ]
     },
     "metadata": {},
     "output_type": "display_data"
    }
   ],
   "source": [
    "import argparse\n",
    "\n",
    "wandb.init(reinit=True)\n",
    "\n",
    "parser = argparse.ArgumentParser()\n",
    "parser.add_argument('-b', '--batch-size', type=int, default=8, metavar='N',\n",
    "                     help='input batch size for training (default: 8)')\n",
    "args = parser.parse_args # 대괄호 안 넣으면 Error : ipykernel_launcher.py [-h] [-v VIDEO] [-t TRACKER] ipykernel_launcher.py: error: unrecognized arguments:"
   ]
  },
  {
   "cell_type": "markdown",
   "id": "6d4f99c7",
   "metadata": {},
   "source": [
    "## absl.FLAGS"
   ]
  },
  {
   "cell_type": "code",
   "execution_count": 12,
   "id": "f5f8b768",
   "metadata": {},
   "outputs": [],
   "source": [
    "from absl import flags\n",
    "flags.DEFINE_string(\"model\", None, \"model to run\") # name, default, help\n",
    "wandb.config.update(flags.FLAGS) # adds all absl flags to config"
   ]
  },
  {
   "cell_type": "code",
   "execution_count": 22,
   "id": "ad8663b8",
   "metadata": {},
   "outputs": [
    {
     "data": {
      "text/plain": [
       "{'batch_size': 8, 'model': None}"
      ]
     },
     "execution_count": 22,
     "metadata": {},
     "output_type": "execute_result"
    }
   ],
   "source": [
    "wandb.config"
   ]
  },
  {
   "cell_type": "code",
   "execution_count": 28,
   "id": "4cfc1334",
   "metadata": {},
   "outputs": [
    {
     "data": {
      "text/plain": [
       "8"
      ]
     },
     "execution_count": 28,
     "metadata": {},
     "output_type": "execute_result"
    }
   ],
   "source": [
    "wandb.config.batch_size"
   ]
  },
  {
   "cell_type": "markdown",
   "id": "eb8696e4",
   "metadata": {},
   "source": [
    "### If you create a file called config-defaults.yaml,  and it will automatically be loaded into wandb.config."
   ]
  },
  {
   "cell_type": "code",
   "execution_count": 31,
   "id": "1d9b384b",
   "metadata": {
    "scrolled": true
   },
   "outputs": [
    {
     "name": "stdout",
     "output_type": "stream",
     "text": [
      "Requirement already satisfied: pyyaml in c:\\anaconda3\\lib\\site-packages (5.4.1)\n"
     ]
    }
   ],
   "source": [
    "!pip install pyyaml"
   ]
  },
  {
   "cell_type": "code",
   "execution_count": 36,
   "id": "f91f08c2",
   "metadata": {
    "scrolled": true
   },
   "outputs": [
    {
     "name": "stdout",
     "output_type": "stream",
     "text": [
      "{'Vegetables': ['Pepper', 'Tomato', 'Garlic'], 'epochs': [{'desc': 'Number of epochs to train over'}, {'value': 100}], 'batch_size': [{'desc': 'Size of each mini-batch'}, {'value': 32}]}\n"
     ]
    }
   ],
   "source": [
    "import yaml\n",
    "\n",
    "\n",
    "\n",
    "with open('vegetables.yml') as f:\n",
    "\n",
    "    my_yaml_file = yaml.load(f, Loader=yaml.FullLoader)\n",
    "\n",
    "    print(vegetables)"
   ]
  },
  {
   "cell_type": "code",
   "execution_count": 37,
   "id": "a0ed2c9f",
   "metadata": {},
   "outputs": [
    {
     "data": {
      "text/plain": [
       "{'Vegetables': ['Pepper', 'Tomato', 'Garlic'],\n",
       " 'epochs': [{'desc': 'Number of epochs to train over'}, {'value': 100}],\n",
       " 'batch_size': [{'desc': 'Size of each mini-batch'}, {'value': 32}]}"
      ]
     },
     "execution_count": 37,
     "metadata": {},
     "output_type": "execute_result"
    }
   ],
   "source": [
    "my_yaml_file"
   ]
  },
  {
   "cell_type": "code",
   "execution_count": 38,
   "id": "aa687b48",
   "metadata": {
    "scrolled": true
   },
   "outputs": [
    {
     "data": {
      "text/html": [
       "Finishing last run (ID:4ce3wfq2) before initializing another..."
      ],
      "text/plain": [
       "<IPython.core.display.HTML object>"
      ]
     },
     "metadata": {},
     "output_type": "display_data"
    },
    {
     "data": {
      "text/html": [
       "<br/>Waiting for W&B process to finish, PID 20792<br/>Program ended successfully."
      ],
      "text/plain": [
       "<IPython.core.display.HTML object>"
      ]
     },
     "metadata": {},
     "output_type": "display_data"
    },
    {
     "data": {
      "application/vnd.jupyter.widget-view+json": {
       "model_id": "",
       "version_major": 2,
       "version_minor": 0
      },
      "text/plain": [
       "VBox(children=(Label(value=' 0.00MB of 0.00MB uploaded (0.00MB deduped)\\r'), FloatProgress(value=1.0, max=1.0)…"
      ]
     },
     "metadata": {},
     "output_type": "display_data"
    },
    {
     "data": {
      "text/html": [
       "Find user logs for this run at: <code>C:\\git\\wandb\\wandb\\run-20210729_195057-4ce3wfq2\\logs\\debug.log</code>"
      ],
      "text/plain": [
       "<IPython.core.display.HTML object>"
      ]
     },
     "metadata": {},
     "output_type": "display_data"
    },
    {
     "data": {
      "text/html": [
       "Find internal logs for this run at: <code>C:\\git\\wandb\\wandb\\run-20210729_195057-4ce3wfq2\\logs\\debug-internal.log</code>"
      ],
      "text/plain": [
       "<IPython.core.display.HTML object>"
      ]
     },
     "metadata": {},
     "output_type": "display_data"
    },
    {
     "data": {
      "text/html": [
       "Synced 5 W&B file(s), 0 media file(s), 0 artifact file(s) and 0 other file(s)"
      ],
      "text/plain": [
       "<IPython.core.display.HTML object>"
      ]
     },
     "metadata": {},
     "output_type": "display_data"
    },
    {
     "data": {
      "text/html": [
       "\n",
       "                    <br/>Synced <strong style=\"color:#cdcd00\">major-oath-39</strong>: <a href=\"https://wandb.ai/jaewooklee/wandb/runs/4ce3wfq2\" target=\"_blank\">https://wandb.ai/jaewooklee/wandb/runs/4ce3wfq2</a><br/>\n",
       "                "
      ],
      "text/plain": [
       "<IPython.core.display.HTML object>"
      ]
     },
     "metadata": {},
     "output_type": "display_data"
    },
    {
     "data": {
      "text/html": [
       "...Successfully finished last run (ID:4ce3wfq2). Initializing new run:<br/><br/>"
      ],
      "text/plain": [
       "<IPython.core.display.HTML object>"
      ]
     },
     "metadata": {},
     "output_type": "display_data"
    },
    {
     "data": {
      "text/html": [
       "\n",
       "                Tracking run with wandb version 0.11.0<br/>\n",
       "                Syncing run <strong style=\"color:#cdcd00\">quiet-elevator-40</strong> to <a href=\"https://wandb.ai\" target=\"_blank\">Weights & Biases</a> <a href=\"https://docs.wandb.com/integrations/jupyter.html\" target=\"_blank\">(Documentation)</a>.<br/>\n",
       "                Project page: <a href=\"https://wandb.ai/jaewooklee/wandb\" target=\"_blank\">https://wandb.ai/jaewooklee/wandb</a><br/>\n",
       "                Run page: <a href=\"https://wandb.ai/jaewooklee/wandb/runs/1abav36h\" target=\"_blank\">https://wandb.ai/jaewooklee/wandb/runs/1abav36h</a><br/>\n",
       "                Run data is saved locally in <code>C:\\git\\wandb\\wandb\\run-20210729_201245-1abav36h</code><br/><br/>\n",
       "            "
      ],
      "text/plain": [
       "<IPython.core.display.HTML object>"
      ]
     },
     "metadata": {},
     "output_type": "display_data"
    },
    {
     "data": {
      "text/html": [
       "<h1>Run(1abav36h)</h1><iframe src=\"https://wandb.ai/jaewooklee/wandb/runs/1abav36h\" style=\"border:none;width:100%;height:400px\"></iframe>"
      ],
      "text/plain": [
       "<wandb.sdk.wandb_run.Run at 0x1ed70da9280>"
      ]
     },
     "execution_count": 38,
     "metadata": {},
     "output_type": "execute_result"
    }
   ],
   "source": [
    "hyperparameter_defaults = dict(\n",
    "    dropout=0.5,\n",
    "    batch_size=100,\n",
    "    learning_rate=0.001,\n",
    "    )\n",
    "\n",
    "config_dictionary = dict(\n",
    "    yaml=my_yaml_file,\n",
    "    params=hyperparameter_defaults,\n",
    "    )\n",
    "\n",
    "wandb.init(config=config_dictionary)"
   ]
  },
  {
   "cell_type": "markdown",
   "id": "b5a83e84",
   "metadata": {},
   "source": [
    "## Dataset Identifier and Update Config Files"
   ]
  },
  {
   "cell_type": "code",
   "execution_count": 41,
   "id": "7f3575a1",
   "metadata": {
    "scrolled": false
   },
   "outputs": [
    {
     "name": "stdout",
     "output_type": "stream",
     "text": [
      "{'yaml': {'Vegetables': ['Pepper', 'Tomato', 'Garlic'], 'epochs': [{'desc': 'Number of epochs to train over'}, {'value': 100}], 'batch_size': [{'desc': 'Size of each mini-batch'}, {'value': 32}]}, 'params': {'dropout': 0.5, 'batch_size': 100, 'learning_rate': 0.001}}\n"
     ]
    }
   ],
   "source": [
    "from pprint import pprint\n",
    "pprint(wandb.config)"
   ]
  },
  {
   "cell_type": "code",
   "execution_count": 42,
   "id": "c424ab03",
   "metadata": {
    "scrolled": true
   },
   "outputs": [
    {
     "data": {
      "text/plain": [
       "{'yaml': {'Vegetables': ['Pepper', 'Tomato', 'Garlic'], 'epochs': [{'desc': 'Number of epochs to train over'}, {'value': 100}], 'batch_size': [{'desc': 'Size of each mini-batch'}, {'value': 32}]}, 'params': {'dropout': 0.5, 'batch_size': 100, 'learning_rate': 0.001}, 'dataset': 'ab131'}"
      ]
     },
     "execution_count": 42,
     "metadata": {},
     "output_type": "execute_result"
    }
   ],
   "source": [
    "wandb.config.update({\"dataset\": \"ab131\"})\n",
    "wandb.config"
   ]
  },
  {
   "cell_type": "code",
   "execution_count": 45,
   "id": "91555bd7",
   "metadata": {},
   "outputs": [
    {
     "data": {
      "text/plain": [
       "'1abav36h'"
      ]
     },
     "execution_count": 45,
     "metadata": {},
     "output_type": "execute_result"
    }
   ],
   "source": [
    "wandb.run.id"
   ]
  },
  {
   "cell_type": "code",
   "execution_count": 47,
   "id": "a6cb3ad9",
   "metadata": {},
   "outputs": [],
   "source": [
    "api = wandb.Api()\n",
    "run = api.run(\"jaewooklee/wandb/1abav36h\")\n",
    "run.config[\"foo\"] = 32\n",
    "run.update()"
   ]
  },
  {
   "cell_type": "code",
   "execution_count": 48,
   "id": "c6dec20f",
   "metadata": {},
   "outputs": [
    {
     "data": {
      "text/plain": [
       "'quiet-elevator-40'"
      ]
     },
     "execution_count": 48,
     "metadata": {},
     "output_type": "execute_result"
    }
   ],
   "source": [
    "wandb.run.name"
   ]
  },
  {
   "cell_type": "code",
   "execution_count": 49,
   "id": "43110970",
   "metadata": {
    "scrolled": true
   },
   "outputs": [
    {
     "data": {
      "text/plain": [
       "{'yaml': {'Vegetables': ['Pepper', 'Tomato', 'Garlic'], 'epochs': [{'desc': 'Number of epochs to train over'}, {'value': 100}], 'batch_size': [{'desc': 'Size of each mini-batch'}, {'value': 32}]}, 'params': {'dropout': 0.5, 'batch_size': 100, 'learning_rate': 0.001}, 'dataset': 'ab131'}"
      ]
     },
     "execution_count": 49,
     "metadata": {},
     "output_type": "execute_result"
    }
   ],
   "source": [
    "wandb.config"
   ]
  },
  {
   "cell_type": "code",
   "execution_count": 51,
   "id": "ec17a4a6",
   "metadata": {},
   "outputs": [
    {
     "ename": "KeyError",
     "evalue": "'foo'",
     "output_type": "error",
     "traceback": [
      "\u001b[1;31m---------------------------------------------------------------------------\u001b[0m",
      "\u001b[1;31mKeyError\u001b[0m                                  Traceback (most recent call last)",
      "\u001b[1;32m<ipython-input-51-2e3031d6cb28>\u001b[0m in \u001b[0;36m<module>\u001b[1;34m\u001b[0m\n\u001b[1;32m----> 1\u001b[1;33m \u001b[0mwandb\u001b[0m\u001b[1;33m.\u001b[0m\u001b[0mconfig\u001b[0m\u001b[1;33m[\u001b[0m\u001b[1;34m'foo'\u001b[0m\u001b[1;33m]\u001b[0m\u001b[1;33m\u001b[0m\u001b[1;33m\u001b[0m\u001b[0m\n\u001b[0m",
      "\u001b[1;32mC:\\anaconda3\\lib\\site-packages\\wandb\\sdk\\wandb_config.py\u001b[0m in \u001b[0;36m__getitem__\u001b[1;34m(self, key)\u001b[0m\n\u001b[0;32m    120\u001b[0m \u001b[1;33m\u001b[0m\u001b[0m\n\u001b[0;32m    121\u001b[0m     \u001b[1;32mdef\u001b[0m \u001b[0m__getitem__\u001b[0m\u001b[1;33m(\u001b[0m\u001b[0mself\u001b[0m\u001b[1;33m,\u001b[0m \u001b[0mkey\u001b[0m\u001b[1;33m)\u001b[0m\u001b[1;33m:\u001b[0m\u001b[1;33m\u001b[0m\u001b[1;33m\u001b[0m\u001b[0m\n\u001b[1;32m--> 122\u001b[1;33m         \u001b[1;32mreturn\u001b[0m \u001b[0mself\u001b[0m\u001b[1;33m.\u001b[0m\u001b[0m_items\u001b[0m\u001b[1;33m[\u001b[0m\u001b[0mkey\u001b[0m\u001b[1;33m]\u001b[0m\u001b[1;33m\u001b[0m\u001b[1;33m\u001b[0m\u001b[0m\n\u001b[0m\u001b[0;32m    123\u001b[0m \u001b[1;33m\u001b[0m\u001b[0m\n\u001b[0;32m    124\u001b[0m     \u001b[1;32mdef\u001b[0m \u001b[0m_check_locked\u001b[0m\u001b[1;33m(\u001b[0m\u001b[0mself\u001b[0m\u001b[1;33m,\u001b[0m \u001b[0mkey\u001b[0m\u001b[1;33m,\u001b[0m \u001b[0mignore_locked\u001b[0m\u001b[1;33m=\u001b[0m\u001b[1;32mFalse\u001b[0m\u001b[1;33m)\u001b[0m \u001b[1;33m->\u001b[0m \u001b[0mbool\u001b[0m\u001b[1;33m:\u001b[0m\u001b[1;33m\u001b[0m\u001b[1;33m\u001b[0m\u001b[0m\n",
      "\u001b[1;31mKeyError\u001b[0m: 'foo'"
     ]
    }
   ],
   "source": [
    "wandb.config['foo']"
   ]
  },
  {
   "cell_type": "code",
   "execution_count": 52,
   "id": "760730bc",
   "metadata": {
    "scrolled": false
   },
   "outputs": [
    {
     "name": "stdout",
     "output_type": "stream",
     "text": [
      "quiet-elevator-40 1abav36h <wandb.sdk.wandb_run.Run object at 0x000001ED70DA9280>\n"
     ]
    }
   ],
   "source": [
    "print(wandb.run.name, wandb.run.id, wandb.run)"
   ]
  },
  {
   "cell_type": "code",
   "execution_count": 56,
   "id": "057a5ee9",
   "metadata": {},
   "outputs": [
    {
     "data": {
      "text/plain": [
       "{'yaml': {'Vegetables': ['Pepper', 'Tomato', 'Garlic'], 'epochs': [{'desc': 'Number of epochs to train over'}, {'value': 100}], 'batch_size': [{'desc': 'Size of each mini-batch'}, {'value': 32}]}, 'params': {'dropout': 0.5, 'batch_size': 100, 'learning_rate': 0.001}, 'dataset': 'ab131'}"
      ]
     },
     "execution_count": 56,
     "metadata": {},
     "output_type": "execute_result"
    }
   ],
   "source": [
    "wandb.run.config"
   ]
  },
  {
   "cell_type": "code",
   "execution_count": 57,
   "id": "0c4f84e6",
   "metadata": {},
   "outputs": [],
   "source": [
    "wandb.config.update({\"my_param\": 10, \"learning_rate\": 0.3, \"model_architecture\": \"B\"})"
   ]
  },
  {
   "cell_type": "code",
   "execution_count": 58,
   "id": "f968a09c",
   "metadata": {},
   "outputs": [
    {
     "data": {
      "text/plain": [
       "{'yaml': {'Vegetables': ['Pepper', 'Tomato', 'Garlic'], 'epochs': [{'desc': 'Number of epochs to train over'}, {'value': 100}], 'batch_size': [{'desc': 'Size of each mini-batch'}, {'value': 32}]}, 'params': {'dropout': 0.5, 'batch_size': 100, 'learning_rate': 0.001}, 'dataset': 'ab131', 'my_param': 10, 'learning_rate': 0.3, 'model_architecture': 'B'}"
      ]
     },
     "execution_count": 58,
     "metadata": {},
     "output_type": "execute_result"
    }
   ],
   "source": [
    "wandb.run.config"
   ]
  }
 ],
 "metadata": {
  "kernelspec": {
   "display_name": "Python 3",
   "language": "python",
   "name": "python3"
  },
  "language_info": {
   "codemirror_mode": {
    "name": "ipython",
    "version": 3
   },
   "file_extension": ".py",
   "mimetype": "text/x-python",
   "name": "python",
   "nbconvert_exporter": "python",
   "pygments_lexer": "ipython3",
   "version": "3.8.5"
  }
 },
 "nbformat": 4,
 "nbformat_minor": 5
}
