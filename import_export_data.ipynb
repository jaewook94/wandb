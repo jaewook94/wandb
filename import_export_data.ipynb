{
 "cells": [
  {
   "cell_type": "markdown",
   "id": "f8874e76",
   "metadata": {},
   "source": [
    "# Public API Examples"
   ]
  },
  {
   "cell_type": "code",
   "execution_count": 1,
   "id": "e07a2685",
   "metadata": {},
   "outputs": [],
   "source": [
    "import wandb"
   ]
  },
  {
   "cell_type": "code",
   "execution_count": 4,
   "id": "4822a7ec",
   "metadata": {},
   "outputs": [
    {
     "name": "stderr",
     "output_type": "stream",
     "text": [
      "wandb: Currently logged in as: jaewooklee (use `wandb login --relogin` to force relogin)\n"
     ]
    }
   ],
   "source": [
    "!wandb login"
   ]
  },
  {
   "cell_type": "code",
   "execution_count": 5,
   "id": "3a88c43f",
   "metadata": {},
   "outputs": [
    {
     "data": {
      "text/plain": [
       "<wandb.apis.public.Api at 0x13e9ab48760>"
      ]
     },
     "execution_count": 5,
     "metadata": {},
     "output_type": "execute_result"
    }
   ],
   "source": [
    "api = wandb.Api()\n",
    "api"
   ]
  },
  {
   "cell_type": "code",
   "execution_count": 7,
   "id": "b49bb029",
   "metadata": {},
   "outputs": [
    {
     "data": {
      "text/html": [
       "<div>\n",
       "<style scoped>\n",
       "    .dataframe tbody tr th:only-of-type {\n",
       "        vertical-align: middle;\n",
       "    }\n",
       "\n",
       "    .dataframe tbody tr th {\n",
       "        vertical-align: top;\n",
       "    }\n",
       "\n",
       "    .dataframe thead th {\n",
       "        text-align: right;\n",
       "    }\n",
       "</style>\n",
       "<table border=\"1\" class=\"dataframe\">\n",
       "  <thead>\n",
       "    <tr style=\"text-align: right;\">\n",
       "      <th></th>\n",
       "      <th>_step</th>\n",
       "      <th>_runtime</th>\n",
       "      <th>accuracy</th>\n",
       "      <th>epoch</th>\n",
       "      <th>_timestamp</th>\n",
       "    </tr>\n",
       "  </thead>\n",
       "  <tbody>\n",
       "    <tr>\n",
       "      <th>0</th>\n",
       "      <td>0</td>\n",
       "      <td>8</td>\n",
       "      <td>0.9</td>\n",
       "      <td>5</td>\n",
       "      <td>1627558765</td>\n",
       "    </tr>\n",
       "  </tbody>\n",
       "</table>\n",
       "</div>"
      ],
      "text/plain": [
       "   _step  _runtime  accuracy  epoch  _timestamp\n",
       "0      0         8       0.9      5  1627558765"
      ]
     },
     "execution_count": 7,
     "metadata": {},
     "output_type": "execute_result"
    }
   ],
   "source": [
    "run = api.run(\"jaewooklee/wandb/2qy69fl8\")\n",
    "run.history()"
   ]
  },
  {
   "cell_type": "code",
   "execution_count": 8,
   "id": "cc9e2378",
   "metadata": {},
   "outputs": [
    {
     "name": "stdout",
     "output_type": "stream",
     "text": [
      "1627558765.0 0.9\n"
     ]
    }
   ],
   "source": [
    "if run.state == \"finished\":\n",
    "   for i, row in run.history().iterrows():\n",
    "      print(row[\"_timestamp\"], row[\"accuracy\"])"
   ]
  },
  {
   "cell_type": "code",
   "execution_count": 12,
   "id": "96ac6762",
   "metadata": {},
   "outputs": [
    {
     "data": {
      "text/plain": [
       "<bound method DataFrame.iterrows of    _step  _runtime  accuracy  epoch  _timestamp\n",
       "0      0         8       0.9      5  1627558765>"
      ]
     },
     "execution_count": 12,
     "metadata": {},
     "output_type": "execute_result"
    }
   ],
   "source": [
    "run.history().iterrows"
   ]
  },
  {
   "cell_type": "code",
   "execution_count": 16,
   "id": "f7d76788",
   "metadata": {},
   "outputs": [
    {
     "data": {
      "text/plain": [
       "{'_step': 0, 'epoch': 5, '_runtime': 8, 'accuracy': 0.9, '_timestamp': 1627558765}"
      ]
     },
     "execution_count": 16,
     "metadata": {},
     "output_type": "execute_result"
    }
   ],
   "source": [
    "run.summary"
   ]
  },
  {
   "cell_type": "code",
   "execution_count": 18,
   "id": "a8e172cb",
   "metadata": {},
   "outputs": [
    {
     "name": "stdout",
     "output_type": "stream",
     "text": [
      "0.9\n"
     ]
    }
   ],
   "source": [
    "import wandb\n",
    "api = wandb.Api()\n",
    "\n",
    "run = api.run(\"jaewooklee/wandb/2qy69fl8\")\n",
    "if run.state == \"finished\":\n",
    "   for i, row in run.history(keys=[\"accuracy\"]).iterrows():\n",
    "      print(row[\"_timestamp\"], row[\"accuracy\"]) # Error"
   ]
  },
  {
   "cell_type": "markdown",
   "id": "44aa9728",
   "metadata": {},
   "source": [
    "## Compare two runs"
   ]
  },
  {
   "cell_type": "code",
   "execution_count": 27,
   "id": "242f3496",
   "metadata": {},
   "outputs": [
    {
     "data": {
      "text/plain": [
       "{'epochs': 8}"
      ]
     },
     "execution_count": 27,
     "metadata": {},
     "output_type": "execute_result"
    }
   ],
   "source": [
    "run1 = api.run(\"jaewooklee/wandb/2qy69fl8\")\n",
    "run1.config[\"epochs\"] = 8\n",
    "run1.config"
   ]
  },
  {
   "cell_type": "code",
   "execution_count": 19,
   "id": "6e97a739",
   "metadata": {},
   "outputs": [],
   "source": [
    "import pandas as pd\n",
    "import wandb\n",
    "api = wandb.Api()\n",
    "\n",
    "# replace with your <entity>, <project>, and <run_id>\n",
    "run1 = api.run(\"jaewooklee/wandb/2qy69fl8\")\n",
    "run2 = api.run(\"jaewooklee/wandb/1abav36h\")"
   ]
  },
  {
   "cell_type": "code",
   "execution_count": 28,
   "id": "42a7912c",
   "metadata": {},
   "outputs": [
    {
     "name": "stdout",
     "output_type": "stream",
     "text": [
      "{'epochs': 8}\n",
      "{'epochs': 4}\n"
     ]
    }
   ],
   "source": [
    "print(run1.config)\n",
    "print(run2.config)"
   ]
  },
  {
   "cell_type": "code",
   "execution_count": 29,
   "id": "f57e9d70",
   "metadata": {
    "scrolled": true
   },
   "outputs": [
    {
     "data": {
      "text/html": [
       "<div>\n",
       "<style scoped>\n",
       "    .dataframe tbody tr th:only-of-type {\n",
       "        vertical-align: middle;\n",
       "    }\n",
       "\n",
       "    .dataframe tbody tr th {\n",
       "        vertical-align: top;\n",
       "    }\n",
       "\n",
       "    .dataframe thead th {\n",
       "        text-align: right;\n",
       "    }\n",
       "</style>\n",
       "<table border=\"1\" class=\"dataframe\">\n",
       "  <thead>\n",
       "    <tr style=\"text-align: right;\">\n",
       "      <th></th>\n",
       "      <th>epochs</th>\n",
       "    </tr>\n",
       "  </thead>\n",
       "  <tbody>\n",
       "    <tr>\n",
       "      <th>0</th>\n",
       "      <td>8</td>\n",
       "    </tr>\n",
       "    <tr>\n",
       "      <th>1</th>\n",
       "      <td>4</td>\n",
       "    </tr>\n",
       "  </tbody>\n",
       "</table>\n",
       "</div>"
      ],
      "text/plain": [
       "   epochs\n",
       "0       8\n",
       "1       4"
      ]
     },
     "execution_count": 29,
     "metadata": {},
     "output_type": "execute_result"
    }
   ],
   "source": [
    "df = pd.DataFrame([run1.config, run2.config])\n",
    "df"
   ]
  },
  {
   "cell_type": "code",
   "execution_count": 31,
   "id": "770f18ae",
   "metadata": {},
   "outputs": [
    {
     "data": {
      "text/html": [
       "<div>\n",
       "<style scoped>\n",
       "    .dataframe tbody tr th:only-of-type {\n",
       "        vertical-align: middle;\n",
       "    }\n",
       "\n",
       "    .dataframe tbody tr th {\n",
       "        vertical-align: top;\n",
       "    }\n",
       "\n",
       "    .dataframe thead th {\n",
       "        text-align: right;\n",
       "    }\n",
       "</style>\n",
       "<table border=\"1\" class=\"dataframe\">\n",
       "  <thead>\n",
       "    <tr style=\"text-align: right;\">\n",
       "      <th></th>\n",
       "      <th>0</th>\n",
       "      <th>1</th>\n",
       "    </tr>\n",
       "  </thead>\n",
       "  <tbody>\n",
       "    <tr>\n",
       "      <th>epochs</th>\n",
       "      <td>8</td>\n",
       "      <td>4</td>\n",
       "    </tr>\n",
       "  </tbody>\n",
       "</table>\n",
       "</div>"
      ],
      "text/plain": [
       "        0  1\n",
       "epochs  8  4"
      ]
     },
     "execution_count": 31,
     "metadata": {},
     "output_type": "execute_result"
    }
   ],
   "source": [
    "df = df.transpose()\n",
    "df"
   ]
  },
  {
   "cell_type": "code",
   "execution_count": 33,
   "id": "1a557744",
   "metadata": {},
   "outputs": [
    {
     "data": {
      "text/html": [
       "<div>\n",
       "<style scoped>\n",
       "    .dataframe tbody tr th:only-of-type {\n",
       "        vertical-align: middle;\n",
       "    }\n",
       "\n",
       "    .dataframe tbody tr th {\n",
       "        vertical-align: top;\n",
       "    }\n",
       "\n",
       "    .dataframe thead th {\n",
       "        text-align: right;\n",
       "    }\n",
       "</style>\n",
       "<table border=\"1\" class=\"dataframe\">\n",
       "  <thead>\n",
       "    <tr style=\"text-align: right;\">\n",
       "      <th></th>\n",
       "      <th>light-donkey-41</th>\n",
       "      <th>quiet-elevator-40</th>\n",
       "    </tr>\n",
       "  </thead>\n",
       "  <tbody>\n",
       "    <tr>\n",
       "      <th>epochs</th>\n",
       "      <td>8</td>\n",
       "      <td>4</td>\n",
       "    </tr>\n",
       "  </tbody>\n",
       "</table>\n",
       "</div>"
      ],
      "text/plain": [
       "        light-donkey-41  quiet-elevator-40\n",
       "epochs                8                  4"
      ]
     },
     "execution_count": 33,
     "metadata": {},
     "output_type": "execute_result"
    }
   ],
   "source": [
    "df.columns = [run1.name, run2.name]\n",
    "df"
   ]
  },
  {
   "cell_type": "code",
   "execution_count": 47,
   "id": "7121a32e",
   "metadata": {},
   "outputs": [
    {
     "name": "stdout",
     "output_type": "stream",
     "text": [
      "epochs    8\n",
      "Name: light-donkey-41, dtype: int64\n"
     ]
    }
   ],
   "source": [
    "print(df[run1.name])"
   ]
  },
  {
   "cell_type": "code",
   "execution_count": 42,
   "id": "760aa1ac",
   "metadata": {
    "scrolled": true
   },
   "outputs": [
    {
     "name": "stdout",
     "output_type": "stream",
     "text": [
      "epochs    8\n",
      "Name: light-donkey-41, dtype: int64 epochs    4\n",
      "Name: quiet-elevator-40, dtype: int64\n"
     ]
    }
   ],
   "source": [
    "print(df[run1.name],df[run2.name])"
   ]
  },
  {
   "cell_type": "code",
   "execution_count": 41,
   "id": "62721f98",
   "metadata": {},
   "outputs": [
    {
     "name": "stdout",
     "output_type": "stream",
     "text": [
      "        light-donkey-41  quiet-elevator-40\n",
      "epochs                8                  4\n"
     ]
    }
   ],
   "source": [
    "print(df[df[run1.name] != df[run2.name]])"
   ]
  },
  {
   "cell_type": "code",
   "execution_count": 44,
   "id": "7cd82d5f",
   "metadata": {},
   "outputs": [
    {
     "data": {
      "text/html": [
       "<div>\n",
       "<style scoped>\n",
       "    .dataframe tbody tr th:only-of-type {\n",
       "        vertical-align: middle;\n",
       "    }\n",
       "\n",
       "    .dataframe tbody tr th {\n",
       "        vertical-align: top;\n",
       "    }\n",
       "\n",
       "    .dataframe thead th {\n",
       "        text-align: right;\n",
       "    }\n",
       "</style>\n",
       "<table border=\"1\" class=\"dataframe\">\n",
       "  <thead>\n",
       "    <tr style=\"text-align: right;\">\n",
       "      <th></th>\n",
       "      <th>light-donkey-41</th>\n",
       "      <th>quiet-elevator-40</th>\n",
       "    </tr>\n",
       "  </thead>\n",
       "  <tbody>\n",
       "    <tr>\n",
       "      <th>epochs</th>\n",
       "      <td>8</td>\n",
       "      <td>4</td>\n",
       "    </tr>\n",
       "  </tbody>\n",
       "</table>\n",
       "</div>"
      ],
      "text/plain": [
       "        light-donkey-41  quiet-elevator-40\n",
       "epochs                8                  4"
      ]
     },
     "execution_count": 44,
     "metadata": {},
     "output_type": "execute_result"
    }
   ],
   "source": [
    "df[df[run1.name] != df[run2.name]]"
   ]
  },
  {
   "cell_type": "code",
   "execution_count": 51,
   "id": "f8730fb6",
   "metadata": {},
   "outputs": [],
   "source": [
    "run2.summary['accuracy']=0.2"
   ]
  },
  {
   "cell_type": "code",
   "execution_count": 52,
   "id": "effaa2d3",
   "metadata": {},
   "outputs": [
    {
     "data": {
      "text/plain": [
       "{'loss': 0.2, '_step': 3, 'epoch': 5, '_runtime': 256, 'accuracy': 0.2, '_timestamp': 1627559288}"
      ]
     },
     "execution_count": 52,
     "metadata": {},
     "output_type": "execute_result"
    }
   ],
   "source": [
    "run2.summary"
   ]
  },
  {
   "cell_type": "code",
   "execution_count": 53,
   "id": "172e8c08",
   "metadata": {},
   "outputs": [],
   "source": [
    "run2.summary.update()"
   ]
  },
  {
   "cell_type": "code",
   "execution_count": 54,
   "id": "e26af249",
   "metadata": {},
   "outputs": [
    {
     "data": {
      "text/plain": [
       "{'loss': 0.2, '_step': 3, 'epoch': 5, '_runtime': 256, 'accuracy': 0.2, '_timestamp': 1627559288}"
      ]
     },
     "execution_count": 54,
     "metadata": {},
     "output_type": "execute_result"
    }
   ],
   "source": [
    "run2.summary"
   ]
  },
  {
   "cell_type": "code",
   "execution_count": 60,
   "id": "690376e1",
   "metadata": {
    "scrolled": false
   },
   "outputs": [
    {
     "ename": "KeyError",
     "evalue": "'heavy-donkey-41'",
     "output_type": "error",
     "traceback": [
      "\u001b[1;31m---------------------------------------------------------------------------\u001b[0m",
      "\u001b[1;31mKeyError\u001b[0m                                  Traceback (most recent call last)",
      "\u001b[1;32m<ipython-input-60-8da4fbb30b5b>\u001b[0m in \u001b[0;36m<module>\u001b[1;34m\u001b[0m\n\u001b[0;32m      3\u001b[0m \u001b[1;33m\u001b[0m\u001b[0m\n\u001b[0;32m      4\u001b[0m \u001b[0mrun\u001b[0m \u001b[1;33m=\u001b[0m \u001b[0mapi\u001b[0m\u001b[1;33m.\u001b[0m\u001b[0mrun\u001b[0m\u001b[1;33m(\u001b[0m\u001b[1;34m\"jaewooklee/wandb/2qy69fl8\"\u001b[0m\u001b[1;33m)\u001b[0m\u001b[1;33m\u001b[0m\u001b[1;33m\u001b[0m\u001b[0m\n\u001b[1;32m----> 5\u001b[1;33m \u001b[0mrun\u001b[0m\u001b[1;33m.\u001b[0m\u001b[0msummary\u001b[0m\u001b[1;33m[\u001b[0m\u001b[0mrun\u001b[0m\u001b[1;33m.\u001b[0m\u001b[0mname\u001b[0m\u001b[1;33m]\u001b[0m \u001b[1;33m=\u001b[0m \u001b[0mrun\u001b[0m\u001b[1;33m.\u001b[0m\u001b[0msummary\u001b[0m\u001b[1;33m[\u001b[0m\u001b[1;34m\"heavy-donkey-41\"\u001b[0m\u001b[1;33m]\u001b[0m\u001b[1;33m\u001b[0m\u001b[1;33m\u001b[0m\u001b[0m\n\u001b[0m\u001b[0;32m      6\u001b[0m \u001b[1;32mdel\u001b[0m \u001b[0mrun\u001b[0m\u001b[1;33m.\u001b[0m\u001b[0msummary\u001b[0m\u001b[1;33m[\u001b[0m\u001b[0mrun\u001b[0m\u001b[1;33m.\u001b[0m\u001b[0mname\u001b[0m\u001b[1;33m]\u001b[0m\u001b[1;33m\u001b[0m\u001b[1;33m\u001b[0m\u001b[0m\n\u001b[0;32m      7\u001b[0m \u001b[0mrun\u001b[0m\u001b[1;33m.\u001b[0m\u001b[0msummary\u001b[0m\u001b[1;33m.\u001b[0m\u001b[0mupdate\u001b[0m\u001b[1;33m(\u001b[0m\u001b[1;33m)\u001b[0m\u001b[1;33m\u001b[0m\u001b[1;33m\u001b[0m\u001b[0m\n",
      "\u001b[1;32mC:\\anaconda3\\lib\\site-packages\\wandb\\old\\summary.py\u001b[0m in \u001b[0;36m__getitem__\u001b[1;34m(self, k)\u001b[0m\n\u001b[0;32m    121\u001b[0m \u001b[1;33m\u001b[0m\u001b[0m\n\u001b[0;32m    122\u001b[0m         \u001b[0mself\u001b[0m\u001b[1;33m.\u001b[0m\u001b[0mget\u001b[0m\u001b[1;33m(\u001b[0m\u001b[0mk\u001b[0m\u001b[1;33m)\u001b[0m  \u001b[1;31m# load the value into _dict if it should be there\u001b[0m\u001b[1;33m\u001b[0m\u001b[1;33m\u001b[0m\u001b[0m\n\u001b[1;32m--> 123\u001b[1;33m         \u001b[0mres\u001b[0m \u001b[1;33m=\u001b[0m \u001b[0mself\u001b[0m\u001b[1;33m.\u001b[0m\u001b[0m_dict\u001b[0m\u001b[1;33m[\u001b[0m\u001b[0mk\u001b[0m\u001b[1;33m]\u001b[0m\u001b[1;33m\u001b[0m\u001b[1;33m\u001b[0m\u001b[0m\n\u001b[0m\u001b[0;32m    124\u001b[0m \u001b[1;33m\u001b[0m\u001b[0m\n\u001b[0;32m    125\u001b[0m         \u001b[1;31m# Special condition to automatically load and deserialize table entries\u001b[0m\u001b[1;33m\u001b[0m\u001b[1;33m\u001b[0m\u001b[1;33m\u001b[0m\u001b[0m\n",
      "\u001b[1;31mKeyError\u001b[0m: 'heavy-donkey-41'"
     ]
    }
   ],
   "source": [
    "import wandb\n",
    "api = wandb.Api()\n",
    "\n",
    "run = api.run(\"jaewooklee/wandb/2qy69fl8\")\n",
    "run.summary[run.name] = run.summary[\"heavy--41\"]\n",
    "del run.summary[run.name]\n",
    "run.summary.update()"
   ]
  },
  {
   "cell_type": "markdown",
   "id": "0a4085ae",
   "metadata": {},
   "source": [
    "## Update config for an existing run"
   ]
  },
  {
   "cell_type": "code",
   "execution_count": 63,
   "id": "98499dc5",
   "metadata": {},
   "outputs": [],
   "source": [
    "run = api.run(\"jaewooklee/wandb/2qy69fl8\")\n",
    "run.config[\"key\"] = \"new_key\"\n",
    "run.update()"
   ]
  },
  {
   "cell_type": "code",
   "execution_count": 64,
   "id": "774c2ec0",
   "metadata": {
    "scrolled": true
   },
   "outputs": [
    {
     "data": {
      "text/plain": [
       "'new_key'"
      ]
     },
     "execution_count": 64,
     "metadata": {},
     "output_type": "execute_result"
    }
   ],
   "source": [
    "run.config[\"key\"]"
   ]
  },
  {
   "cell_type": "markdown",
   "id": "ba6c7c32",
   "metadata": {},
   "source": [
    "## Export metrics from a single run to a CSV file"
   ]
  },
  {
   "cell_type": "code",
   "execution_count": 65,
   "id": "2af5e969",
   "metadata": {},
   "outputs": [],
   "source": [
    "run = api.run(\"jaewooklee/wandb/2qy69fl8\")\n",
    "# save the metrics for the run to a csv file\n",
    "metrics_dataframe = run.history()\n",
    "metrics_dataframe.to_csv(\"metrics.csv\")"
   ]
  },
  {
   "cell_type": "code",
   "execution_count": 68,
   "id": "c327536a",
   "metadata": {},
   "outputs": [
    {
     "data": {
      "text/plain": [
       "<wandb.apis.public.HistoryScan at 0x13ede0ae340>"
      ]
     },
     "execution_count": 68,
     "metadata": {},
     "output_type": "execute_result"
    }
   ],
   "source": [
    "history = run.scan_history()\n",
    "history"
   ]
  },
  {
   "cell_type": "code",
   "execution_count": 70,
   "id": "c1a74663",
   "metadata": {},
   "outputs": [],
   "source": [
    "run.config[\"Loss\"] = 0.2222\n",
    "run.update()"
   ]
  },
  {
   "cell_type": "code",
   "execution_count": 74,
   "id": "04ef1edd",
   "metadata": {},
   "outputs": [
    {
     "data": {
      "text/plain": [
       "<bound method Run.history of <Run jaewooklee/wandb/2qy69fl8 (finished)>>"
      ]
     },
     "execution_count": 74,
     "metadata": {},
     "output_type": "execute_result"
    }
   ],
   "source": [
    "run.history"
   ]
  },
  {
   "cell_type": "code",
   "execution_count": 71,
   "id": "44cae7e7",
   "metadata": {},
   "outputs": [
    {
     "ename": "KeyError",
     "evalue": "'Loss'",
     "output_type": "error",
     "traceback": [
      "\u001b[1;31m---------------------------------------------------------------------------\u001b[0m",
      "\u001b[1;31mKeyError\u001b[0m                                  Traceback (most recent call last)",
      "\u001b[1;32m<ipython-input-71-3aae9369728a>\u001b[0m in \u001b[0;36m<module>\u001b[1;34m\u001b[0m\n\u001b[1;32m----> 1\u001b[1;33m \u001b[0mlosses\u001b[0m \u001b[1;33m=\u001b[0m \u001b[1;33m[\u001b[0m\u001b[0mrow\u001b[0m\u001b[1;33m[\u001b[0m\u001b[1;34m\"Loss\"\u001b[0m\u001b[1;33m]\u001b[0m \u001b[1;32mfor\u001b[0m \u001b[0mrow\u001b[0m \u001b[1;32min\u001b[0m \u001b[0mhistory\u001b[0m\u001b[1;33m]\u001b[0m\u001b[1;33m\u001b[0m\u001b[1;33m\u001b[0m\u001b[0m\n\u001b[0m",
      "\u001b[1;32m<ipython-input-71-3aae9369728a>\u001b[0m in \u001b[0;36m<listcomp>\u001b[1;34m(.0)\u001b[0m\n\u001b[1;32m----> 1\u001b[1;33m \u001b[0mlosses\u001b[0m \u001b[1;33m=\u001b[0m \u001b[1;33m[\u001b[0m\u001b[0mrow\u001b[0m\u001b[1;33m[\u001b[0m\u001b[1;34m\"Loss\"\u001b[0m\u001b[1;33m]\u001b[0m \u001b[1;32mfor\u001b[0m \u001b[0mrow\u001b[0m \u001b[1;32min\u001b[0m \u001b[0mhistory\u001b[0m\u001b[1;33m]\u001b[0m\u001b[1;33m\u001b[0m\u001b[1;33m\u001b[0m\u001b[0m\n\u001b[0m",
      "\u001b[1;31mKeyError\u001b[0m: 'Loss'"
     ]
    }
   ],
   "source": [
    "losses = [row[\"Loss\"] for row in history]"
   ]
  },
  {
   "cell_type": "code",
   "execution_count": 79,
   "id": "6acefb4a",
   "metadata": {},
   "outputs": [
    {
     "data": {
      "text/plain": [
       "dict_items([('key', 'new_key'), ('Loss', 0.2222)])"
      ]
     },
     "execution_count": 79,
     "metadata": {},
     "output_type": "execute_result"
    }
   ],
   "source": [
    "run.config.items()"
   ]
  },
  {
   "cell_type": "code",
   "execution_count": 81,
   "id": "9b137f75",
   "metadata": {},
   "outputs": [
    {
     "data": {
      "text/plain": [
       "'light-donkey-41'"
      ]
     },
     "execution_count": 81,
     "metadata": {},
     "output_type": "execute_result"
    }
   ],
   "source": [
    "run.name"
   ]
  },
  {
   "cell_type": "code",
   "execution_count": 82,
   "id": "eafc744e",
   "metadata": {},
   "outputs": [
    {
     "data": {
      "text/plain": [
       "{'_timestamp': 1627558765, '_step': 0, 'epoch': 5, '_runtime': 8, 'accuracy': 0.9}"
      ]
     },
     "execution_count": 82,
     "metadata": {},
     "output_type": "execute_result"
    }
   ],
   "source": [
    "run.summary"
   ]
  },
  {
   "cell_type": "code",
   "execution_count": 88,
   "id": "5b446a30",
   "metadata": {},
   "outputs": [
    {
     "data": {
      "text/plain": [
       "<function wandb.sdk.lib.preinit.PreInitCallable.<locals>.preinit_wrapper(self, data: Dict[str, Any], step: int = None, commit: bool = None, sync: bool = None) -> None>"
      ]
     },
     "execution_count": 88,
     "metadata": {},
     "output_type": "execute_result"
    }
   ],
   "source": [
    "wandb.log"
   ]
  },
  {
   "cell_type": "code",
   "execution_count": 93,
   "id": "10a62a30",
   "metadata": {},
   "outputs": [
    {
     "name": "stdout",
     "output_type": "stream",
     "text": [
      "{'_timestamp': 1627558765, '_step': 0, 'epoch': 5, '_runtime': 8, 'accuracy': 0.9}\n",
      "   _step  _runtime  accuracy  epoch  _timestamp\n",
      "0      0         8       0.9      5  1627558765\n",
      "{'key': 'new_key', 'Loss': 0.2222}\n"
     ]
    }
   ],
   "source": [
    "print(run.summary)\n",
    "print(run.history())\n",
    "print(run.config)"
   ]
  },
  {
   "cell_type": "code",
   "execution_count": null,
   "id": "234cc5fd",
   "metadata": {},
   "outputs": [],
   "source": []
  }
 ],
 "metadata": {
  "kernelspec": {
   "display_name": "Python 3",
   "language": "python",
   "name": "python3"
  },
  "language_info": {
   "codemirror_mode": {
    "name": "ipython",
    "version": 3
   },
   "file_extension": ".py",
   "mimetype": "text/x-python",
   "name": "python",
   "nbconvert_exporter": "python",
   "pygments_lexer": "ipython3",
   "version": "3.8.5"
  }
 },
 "nbformat": 4,
 "nbformat_minor": 5
}
